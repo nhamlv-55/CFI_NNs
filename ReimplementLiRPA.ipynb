{
 "cells": [
  {
   "cell_type": "code",
   "execution_count": 1,
   "metadata": {},
   "outputs": [],
   "source": [
    "%matplotlib qt\n",
    "\n",
    "\n",
    "import numpy as np\n",
    "import torch\n",
    "import torch.nn as nn\n",
    "from auto_LiRPA import BoundedModule, BoundedTensor, PerturbationLpNorm\n",
    "import torch.nn.functional as F\n",
    "\n",
    "#constants\n",
    "TARGET = np.array([[-0.1, 0.2, 0.3]], dtype = np.double)\n",
    "\n",
    "\n",
    "EPS = 0.5\n",
    "\n",
    "W0 = np.array([[-0.5, -0.03, -0.08],\n",
    "               [ 0.15,  0.19,  0.27]], dtype = np.double)\n",
    "W0 = np.random.uniform(-1, 1, (2,3))\n",
    "\n",
    "B0 = np.array([-0.46, -0.02], dtype = np.double)\n",
    "B0 = np.random.uniform(-1, 1, (2,))\n",
    "\n",
    "\n",
    "W1 = np.array([[ 0.6880, -0.4974],\n",
    "               [ -0.3441, 0.6595],\n",
    "               [ 0.1442, -0.0750]], dtype = np.double)\n",
    "W1 = np.random.uniform(-1, 1, (3,2))\n",
    "\n",
    "B1 = np.array([ 0.5848, 0.2861, -0.0015], dtype = np.double)\n",
    "B1 = np.random.uniform(-1, 1, (3,))\n"
   ]
  },
  {
   "cell_type": "code",
   "execution_count": 2,
   "metadata": {},
   "outputs": [
    {
     "name": "stdout",
     "output_type": "stream",
     "text": [
      "<BoundedTensor: tensor([[-0.1000,  0.2000,  0.3000]], dtype=torch.float64), PerturbationLpNorm(norm=inf, eps=0.5)>\n",
      "Parameter containing:\n",
      "tensor([[-0.7751,  0.0131],\n",
      "        [ 0.5026, -0.0678],\n",
      "        [-0.5925,  0.9591]], dtype=torch.float64, requires_grad=True) Parameter containing:\n",
      "tensor([0.1461, 0.6308, 0.4676], dtype=torch.float64, requires_grad=True)\n",
      "tensor([[0.1463, 0.6298, 0.4815]], dtype=torch.float64, grad_fn=<AddBackward0>)\n",
      "[[[-0.05304209  0.57648807  0.31540735]]\n",
      "\n",
      " [[ 0.15660273  0.7599076   1.23556742]]]\n"
     ]
    },
    {
     "name": "stderr",
     "output_type": "stream",
     "text": [
      "/home/nle/anaconda3/envs/py38/lib/python3.8/site-packages/ipykernel/ipkernel.py:287: DeprecationWarning: `should_run_async` will not call `transform_cell` automatically in the future. Please pass the result to `transformed_cell` argument and any exception that happen during thetransform in `preprocessing_exc_tuple` in IPython 7.17 and above.\n",
      "  and should_run_async(code)\n"
     ]
    }
   ],
   "source": [
    "#a very simple neural net\n",
    "class LinearModel(nn.Module):\n",
    "    def __init__(self):\n",
    "        super().__init__()\n",
    "        self.fc0 = nn.Linear(3, 2)\n",
    "        self.fc0.weight = torch.nn.Parameter(torch.from_numpy(W0))\n",
    "        self.fc0.bias = torch.nn.Parameter(torch.from_numpy(B0))\n",
    "        \n",
    "        self.fc1 = nn.Linear(2,3)\n",
    "        self.fc1.weight = torch.nn.Parameter(torch.from_numpy(W1))\n",
    "        self.fc1.bias = torch.nn.Parameter(torch.from_numpy(B1))\n",
    "        \n",
    "    def forward(self, x):\n",
    "        return self.fc1(F.relu(self.fc0(x)))\n",
    "        \n",
    "#Compute bound using Interval Bound Propagation, using auto_LiRPA API\n",
    "target = torch.from_numpy(TARGET)\n",
    "                        \n",
    "ball = PerturbationLpNorm(norm=np.inf, eps=EPS)\n",
    "ball_tensor = BoundedTensor(target, ball)\n",
    "print(ball_tensor)\n",
    "\n",
    "original_model = LinearModel()\n",
    "print(original_model.fc1.weight, original_model.fc1.bias)\n",
    "lirpa_model = BoundedModule(original_model, torch.empty_like(target))\n",
    "\n",
    "print(lirpa_model(ball_tensor))\n",
    "\n",
    "# lb, ub = lirpa_model.compute_bounds(IBP=True, method = 'forward')\n",
    "lb, ub = lirpa_model.compute_bounds(x = (ball_tensor, ), IBP=True, method = 'forward')\n",
    "ibp_bound = np.array([lb.detach().numpy(), ub.detach().numpy()])\n",
    "print(ibp_bound)"
   ]
  },
  {
   "cell_type": "code",
   "execution_count": 3,
   "metadata": {},
   "outputs": [
    {
     "name": "stdout",
     "output_type": "stream",
     "text": [
      "[[0.14627333 0.62981573 0.4814717 ]]\n",
      "[[0.14627333 0.62981573 0.4814717 ]]\n"
     ]
    }
   ],
   "source": [
    "#Compute the output of the network\n",
    "def forward(x):\n",
    "    fc0 = np.matmul(x, W0.transpose()) + B0\n",
    "    fc1 = np.matmul(np.maximum(fc0, 0), W1.transpose()) + B1\n",
    "    return fc1\n",
    "print(lirpa_model(ball_tensor).detach().numpy())\n",
    "print(forward(TARGET))\n",
    "assert(np.array_equal(forward(TARGET),\n",
    "                      lirpa_model(ball_tensor).detach().numpy()))"
   ]
  },
  {
   "cell_type": "code",
   "execution_count": 4,
   "metadata": {},
   "outputs": [
    {
     "name": "stdout",
     "output_type": "stream",
     "text": [
      "(2, 1, 3)\n",
      "my_bound:\n",
      " [[[-0.05304209  0.57648807  0.31540735]]\n",
      "\n",
      " [[ 0.15660273  0.7599076   1.23556742]]]\n",
      "ibp_bound:\n",
      " [[[-0.05304209  0.57648807  0.31540735]]\n",
      "\n",
      " [[ 0.15660273  0.7599076   1.23556742]]]\n"
     ]
    }
   ],
   "source": [
    "##Compute bound using Interval Bound Propagation, using my own implementation.\n",
    "##The closed-form solution is in eq(6), https://arxiv.org/pdf/1810.12715.pdf\n",
    "my_ball = np.array([TARGET - EPS, TARGET + EPS])\n",
    "print(my_ball.shape)\n",
    "\n",
    "def my_IBP(prev_bound: np.array, W: np.array, b: np.array):\n",
    "    \"\"\"\n",
    "    prev_bound: 2x784 prev_bound[0][i]: lower of unit ith, prev_bound[1]i]: upper of unit ith\n",
    "    W: 784x256\n",
    "    b: 256\n",
    "    \"\"\"\n",
    "    assert(prev_bound.shape[0]==2)\n",
    "    assert(prev_bound.shape[-1]==W.shape[0])\n",
    "    assert(W.shape[1] == b.shape[0])\n",
    "    \n",
    "    prev_u = (prev_bound[0,:] + prev_bound[1,:])/2\n",
    "\n",
    "    prev_r = (prev_bound[1,:] - prev_bound[0,:])/2\n",
    "    \n",
    "    u = np.matmul(prev_u , W) + b\n",
    "    \n",
    "    r = np.matmul(prev_r , abs(W) )\n",
    "    \n",
    "    new_bound_lower = u - r\n",
    "    \n",
    "    new_bound_upper = u + r\n",
    "    \n",
    "    new_bound = np.array([new_bound_lower, new_bound_upper])\n",
    "    \n",
    "    return new_bound\n",
    "\n",
    "\n",
    "fc0_bound = np.maximum(my_IBP(my_ball, W0.transpose(), B0), 0)\n",
    "fc1_bound = my_IBP(fc0_bound, W1.transpose(), B1)\n",
    "\n",
    "\n",
    "print(\"my_bound:\\n\", fc1_bound)\n",
    "print(\"ibp_bound:\\n\", ibp_bound)\n",
    "\n",
    "#cannot use array_equal due to some floating point difference?\n",
    "assert(np.allclose(fc1_bound, \n",
    "                   ibp_bound))\n"
   ]
  },
  {
   "cell_type": "code",
   "execution_count": 5,
   "metadata": {},
   "outputs": [
    {
     "name": "stdout",
     "output_type": "stream",
     "text": [
      "tensor([[0.1463, 0.6298, 0.4815]], dtype=torch.float64, grad_fn=<AddBackward0>)\n",
      "crown_bound:\n",
      " [[[-0.05827196  0.57648807 -0.35947725]]\n",
      "\n",
      " [[ 0.15660273  0.78690792  1.23556742]]]\n"
     ]
    }
   ],
   "source": [
    "## Computer bound using CROWN\n",
    "print(lirpa_model(ball_tensor))\n",
    "crown_lb, crown_ub = lirpa_model.compute_bounds(x = (ball_tensor, ), method = 'backward')\n",
    "crown_bound = np.array([crown_lb.detach().numpy(), crown_ub.detach().numpy()])\n",
    "print(\"crown_bound:\\n\", crown_bound)\n"
   ]
  },
  {
   "cell_type": "code",
   "execution_count": 8,
   "metadata": {},
   "outputs": [
    {
     "name": "stdout",
     "output_type": "stream",
     "text": [
      "(1000, 3)\n",
      "[[0.15390594 0.59041081 1.03868873]\n",
      " [0.14781628 0.62184996 0.59411402]\n",
      " [0.14608355 0.63079549 0.46761704]\n",
      " ...\n",
      " [0.15231222 0.5986387  0.92233983]\n",
      " [0.1517188  0.60170234 0.87901746]\n",
      " [0.14634387 0.62945155 0.4866215 ]]\n",
      "(1000, 3)\n",
      "[0.15390594 0.59041081 1.03868873]\n",
      "[[0.15390594 0.59041081 1.03868873]]\n"
     ]
    }
   ],
   "source": [
    "#sampling\n",
    "N_POINTS = 10**3\n",
    "\n",
    "samples = []\n",
    "for i in range(N_POINTS):\n",
    "    x = np.random.uniform(my_ball[0][0][0], my_ball[1][0][0])\n",
    "    y = np.random.uniform(my_ball[0][0][1], my_ball[1][0][1])\n",
    "    z = np.random.uniform(my_ball[0][0][2], my_ball[1][0][2])\n",
    "    samples.append(np.array([[x,y,z]], dtype = np.double))\n",
    "\n",
    "s0 = samples[0]\n",
    "    \n",
    "samples = np.concatenate(samples, axis = 0)\n",
    "print(samples.shape)\n",
    "samples = torch.from_numpy(samples)\n",
    "output = lirpa_model(samples).detach().numpy()\n",
    "# output = np.maximum(np.matmul(samples, W0.transpose()) + B0, 0)\n",
    "print(output)\n",
    "print(output.shape)\n",
    "\n",
    "import numpy as np\n",
    "import matplotlib.pyplot as plt\n",
    "\n",
    "fig = plt.figure()\n",
    "ax = plt.axes(projection='3d')\n",
    "\n",
    "ax.scatter3D(output[:,0], output[:,1], output[:, 2])\n",
    "# ax.scatter3D(samples[:,0], samples[:,1], samples[:,2], c = 'red')\n",
    "print(output[0])\n",
    "print(forward(s0))"
   ]
  },
  {
   "cell_type": "code",
   "execution_count": 17,
   "metadata": {},
   "outputs": [
    {
     "name": "stdout",
     "output_type": "stream",
     "text": [
      "fc0\n",
      "-1.4867349782184158 0.25689241410857033\n",
      "need bound\n",
      "-0.7718139458004731 0.8007051273689274\n",
      "need bound\n",
      "fc1\n",
      "-0.053042088665785914 0.1566027267833884\n",
      "need bound\n",
      "0.5764880715605143 0.759907597312715\n",
      "always pos\n",
      "0.3154073534893366 1.2355674246152804\n",
      "always pos\n"
     ]
    }
   ],
   "source": [
    "#my CROWN\n",
    "layers = [{'name': 'fc0', 'W': W0, 'B': B0},\n",
    "          {'name': 'fc1', 'W': W1, 'B': B1}\n",
    "         ]\n",
    "\n",
    "def my_crown(layers, ball):\n",
    "    cur_bound = ball\n",
    "    for idx, l in enumerate(layers):\n",
    "        if idx == 0:\n",
    "            cur_bound= my_IBP(cur_bound, l['W'].transpose(), l['B'])\n",
    "        else:\n",
    "            cur_bound = my_IBP(np.maximum(cur_bound, 0), l['W'].transpose(), l['B'])\n",
    "                                       \n",
    "        l['ibp_bound'] = cur_bound\n",
    "        \n",
    "    for l in layers:\n",
    "        print(l['name'])\n",
    "        n_relus = l['ibp_bound'].shape[-1]\n",
    "        \n",
    "        for idx in range(n_relus):\n",
    "            lower = l['ibp_bound'][0][0][idx]\n",
    "            upper = l['ibp_bound'][1][0][idx]\n",
    "            assert(lower < upper)\n",
    "            print(lower, upper)\n",
    "            if upper < 0:\n",
    "                print(\"always neg\")\n",
    "            elif lower >= 0:\n",
    "                print(\"always pos\")\n",
    "            else:\n",
    "                print(\"need bound\")\n",
    "        \n",
    "my_crown(layers, my_ball)"
   ]
  }
 ],
 "metadata": {
  "kernelspec": {
   "display_name": "Python 3.8.5 64-bit ('py38': conda)",
   "language": "python",
   "name": "python385jvsc74a57bd08e59bf3d6a50a7077d8acb216dbc16c3106fe79f55067c17dc666a40d74b6917"
  },
  "language_info": {
   "codemirror_mode": {
    "name": "ipython",
    "version": 3
   },
   "file_extension": ".py",
   "mimetype": "text/x-python",
   "name": "python",
   "nbconvert_exporter": "python",
   "pygments_lexer": "ipython3",
   "version": "3.8.5"
  }
 },
 "nbformat": 4,
 "nbformat_minor": 4
}
