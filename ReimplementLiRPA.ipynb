{
 "cells": [
  {
   "cell_type": "code",
   "execution_count": 30,
   "metadata": {},
   "outputs": [],
   "source": [
    "import numpy as np\n",
    "import torch\n",
    "import torch.nn as nn\n",
    "from auto_LiRPA import BoundedModule, BoundedTensor, PerturbationLpNorm\n",
    "import torch.nn.functional as F\n",
    "\n",
    "#constants\n",
    "TARGET = np.array([[-0.1, 0.2, 0.3]], dtype = np.double)\n",
    "\n",
    "\n",
    "EPS = 0.5\n",
    "\n",
    "W0 = np.array([[-0.5, -0.03, -0.08],\n",
    "               [ 0.15,  0.19,  0.27]], dtype = np.double)\n",
    "B0 = np.array([-0.46, -0.02], dtype = np.double)\n",
    "\n",
    "W1 = np.array([[ 0.6880, -0.4974],\n",
    "               [ 0.3441, -0.6595],\n",
    "               [ 0.1442, -0.0750]], dtype = np.double)\n",
    "B1 = np.array([ 0.5848, -0.2861, -0.0015], dtype = np.double)\n"
   ]
  },
  {
   "cell_type": "code",
   "execution_count": 38,
   "metadata": {},
   "outputs": [
    {
     "name": "stdout",
     "output_type": "stream",
     "text": [
      "<BoundedTensor: tensor([[-0.1000,  0.2000,  0.3000]], dtype=torch.float64), PerturbationLpNorm(norm=inf, eps=0.5)>\n",
      "Parameter containing:\n",
      "tensor([[ 0.6880, -0.4974],\n",
      "        [ 0.3441, -0.6595],\n",
      "        [ 0.1442, -0.0750]], dtype=torch.float64, requires_grad=True) Parameter containing:\n",
      "tensor([ 0.5848, -0.2861, -0.0015], dtype=torch.float64, requires_grad=True)\n",
      "tensor([[ 0.5430, -0.3415, -0.0078]], dtype=torch.float64,\n",
      "       grad_fn=<AddBackward0>)\n",
      "[[[ 0.3913114 -0.5426455 -0.030675 ]]\n",
      "\n",
      " [[ 0.5848    -0.2861    -0.0015   ]]]\n"
     ]
    }
   ],
   "source": [
    "#a very simple neural net\n",
    "class LinearModel(nn.Module):\n",
    "    def __init__(self):\n",
    "        super().__init__()\n",
    "        self.fc0 = nn.Linear(3, 2)\n",
    "        self.fc0.weight = torch.nn.Parameter(torch.from_numpy(W0))\n",
    "        self.fc0.bias = torch.nn.Parameter(torch.from_numpy(B0))\n",
    "        \n",
    "        self.fc1 = nn.Linear(2,3)\n",
    "        self.fc1.weight = torch.nn.Parameter(torch.from_numpy(W1))\n",
    "        self.fc1.bias = torch.nn.Parameter(torch.from_numpy(B1))\n",
    "        \n",
    "    def forward(self, x):\n",
    "        return self.fc1(F.relu(self.fc0(x)))\n",
    "        \n",
    "#Compute bound using Interval Bound Propagation, using auto_LiRPA API\n",
    "target = torch.from_numpy(TARGET)\n",
    "                        \n",
    "ball = PerturbationLpNorm(norm=np.inf, eps=EPS)\n",
    "ball_tensor = BoundedTensor(target, ball)\n",
    "print(ball_tensor)\n",
    "\n",
    "original_model = LinearModel()\n",
    "print(original_model.fc1.weight, original_model.fc1.bias)\n",
    "lirpa_model = BoundedModule(original_model, torch.empty_like(target))\n",
    "\n",
    "print(lirpa_model(ball_tensor))\n",
    "\n",
    "# lb, ub = lirpa_model.compute_bounds(IBP=True, method = 'forward')\n",
    "lb, ub = lirpa_model.compute_bounds(x = (ball_tensor, ), IBP=True, method = 'forward')\n",
    "ibp_bound = np.array([lb.detach().numpy(), ub.detach().numpy()])\n",
    "print(ibp_bound)"
   ]
  },
  {
   "cell_type": "code",
   "execution_count": null,
   "metadata": {},
   "outputs": [],
   "source": [
    "#Compute the output of the network\n",
    "def forward(x):\n",
    "    fc0 = np.matmul(x, W0.transpose()) + B0\n",
    "    return fc0\n",
    "print(lirpa_model(ball_tensor).detach().numpy())\n",
    "print(forward(TARGET))\n",
    "assert(np.array_equal(forward(TARGET),\n",
    "                      lirpa_model(ball_tensor).detach().numpy()))"
   ]
  },
  {
   "cell_type": "code",
   "execution_count": 43,
   "metadata": {},
   "outputs": [
    {
     "name": "stdout",
     "output_type": "stream",
     "text": [
      "(2, 1, 3)\n",
      "my_bound:\n",
      " [[[ 0.3913114 -0.5426455 -0.030675 ]]\n",
      "\n",
      " [[ 0.5848    -0.2861    -0.0015   ]]]\n",
      "ibp_bound:\n",
      " [[[ 0.3913114 -0.5426455 -0.030675 ]]\n",
      "\n",
      " [[ 0.5848    -0.2861    -0.0015   ]]]\n"
     ]
    }
   ],
   "source": [
    "##Compute bound using Interval Bound Propagation, using my own implementation.\n",
    "##The closed-form solution is in eq(6), https://arxiv.org/pdf/1810.12715.pdf\n",
    "my_ball = np.array([TARGET - EPS, TARGET + EPS])\n",
    "print(my_ball.shape)\n",
    "\n",
    "def my_IBP(prev_bound: np.array, W: np.array, b: np.array):\n",
    "    \"\"\"\n",
    "    prev_bound: 2x784 prev_bound[0][i]: lower of unit ith, prev_bound[1]i]: upper of unit ith\n",
    "    W: 784x256\n",
    "    b: 256\n",
    "    \"\"\"\n",
    "    assert(prev_bound.shape[0]==2)\n",
    "    assert(prev_bound.shape[-1]==W.shape[0])\n",
    "    assert(W.shape[1] == b.shape[0])\n",
    "    \n",
    "    prev_u = (prev_bound[0,:] + prev_bound[1,:])/2\n",
    "\n",
    "    prev_r = (prev_bound[1,:] - prev_bound[0,:])/2\n",
    "    \n",
    "    u = np.matmul(prev_u , W) + b\n",
    "    \n",
    "    r = np.matmul(prev_r , abs(W) )\n",
    "    \n",
    "    new_bound_lower = u - r\n",
    "    \n",
    "    new_bound_upper = u + r\n",
    "    \n",
    "    new_bound = np.array([new_bound_lower, new_bound_upper])\n",
    "    \n",
    "    return new_bound\n",
    "\n",
    "\n",
    "fc0_bound = np.maximum(my_IBP(my_ball, W0.transpose(), B0), 0)\n",
    "fc1_bound = my_IBP(fc0_bound, W1.transpose(), B1)\n",
    "\n",
    "\n",
    "print(\"my_bound:\\n\", fc1_bound)\n",
    "print(\"ibp_bound:\\n\", ibp_bound)\n",
    "\n",
    "#cannot use array_equal due to some floating point difference?\n",
    "assert(np.allclose(fc1_bound, \n",
    "                   ibp_bound))\n"
   ]
  },
  {
   "cell_type": "code",
   "execution_count": 23,
   "metadata": {},
   "outputs": [
    {
     "name": "stdout",
     "output_type": "stream",
     "text": [
      "tensor([[-0.4400,  0.0840]], dtype=torch.float64, grad_fn=<AddBackward0>)\n",
      "[[[-0.745 -0.221]]\n",
      "\n",
      " [[-0.135  0.389]]]\n"
     ]
    }
   ],
   "source": [
    "## Computer bound using CROWN\n",
    "print(lirpa_model(ball_tensor))\n",
    "crown_lb, crown_ub = lirpa_model.compute_bounds(IBP=False, method = 'backward')\n",
    "crown_bound = np.array([crown_lb.detach().numpy(), crown_ub.detach().numpy()])\n",
    "print(crown_bound)\n"
   ]
  }
 ],
 "metadata": {
  "kernelspec": {
   "display_name": "Python 3.8.5 64-bit ('py38': conda)",
   "language": "python",
   "name": "python385jvsc74a57bd08e59bf3d6a50a7077d8acb216dbc16c3106fe79f55067c17dc666a40d74b6917"
  },
  "language_info": {
   "codemirror_mode": {
    "name": "ipython",
    "version": 3
   },
   "file_extension": ".py",
   "mimetype": "text/x-python",
   "name": "python",
   "nbconvert_exporter": "python",
   "pygments_lexer": "ipython3",
   "version": "3.8.5"
  }
 },
 "nbformat": 4,
 "nbformat_minor": 4
}
