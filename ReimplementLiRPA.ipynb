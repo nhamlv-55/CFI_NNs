{
 "cells": [
  {
   "cell_type": "code",
   "execution_count": 14,
   "metadata": {},
   "outputs": [],
   "source": [
    "import numpy as np\n",
    "import torch\n",
    "import torch.nn as nn\n",
    "from auto_LiRPA import BoundedModule, BoundedTensor, PerturbationLpNorm\n",
    "\n",
    "#constants\n",
    "TARGET = np.array([[-0.1, 0.2, 0.3]], dtype = np.double)\n",
    "\n",
    "\n",
    "EPS = 0.5\n",
    "\n",
    "W0 = np.array([[-0.5, -0.03, -0.08],\n",
    "               [ 0.15,  0.19,  0.27]], dtype = np.double)\n",
    "B0 = np.array([-0.46, -0.02], dtype = np.double)"
   ]
  },
  {
   "cell_type": "code",
   "execution_count": 20,
   "metadata": {},
   "outputs": [
    {
     "name": "stdout",
     "output_type": "stream",
     "text": [
      "torch.Size([1, 3])\n",
      "<BoundedTensor: tensor([[-0.1000,  0.2000,  0.3000]], dtype=torch.float64), PerturbationLpNorm(norm=inf, eps=0.5)>\n",
      "tensor([[-0.4400,  0.0840]], dtype=torch.float64, grad_fn=<AddBackward0>)\n"
     ]
    }
   ],
   "source": [
    "#a very simple neural net\n",
    "class LinearModel(nn.Module):\n",
    "    def __init__(self):\n",
    "        super().__init__()\n",
    "        self.fc0 = nn.Linear(3, 2)\n",
    "        self.fc0.weight = torch.nn.Parameter(torch.from_numpy(W0))\n",
    "        self.fc0.bias = torch.nn.Parameter(torch.from_numpy(B0))\n",
    "        \n",
    "    def forward(self, x):\n",
    "        return self.fc0(x)\n",
    "        \n",
    "#Compute bound using Interval Bound Propagation, using auto_LiRPA API\n",
    "target = torch.from_numpy(TARGET)\n",
    "print(target.shape)\n",
    "ball = PerturbationLpNorm(norm=np.inf, eps=EPS)\n",
    "ball_tensor = BoundedTensor(target, ball)\n",
    "print(ball_tensor)\n",
    "\n",
    "original_model = LinearModel()\n",
    "\n",
    "lirpa_model = BoundedModule(original_model, torch.empty_like(target))\n",
    "\n",
    "print(lirpa_model(ball_tensor))\n",
    "\n",
    "# lb, ub = lirpa_model.compute_bounds(IBP=True, method = 'forward')\n",
    "lb, ub = lirpa_model.compute_bounds(IBP=True, method = 'backward')"
   ]
  },
  {
   "cell_type": "code",
   "execution_count": null,
   "metadata": {},
   "outputs": [],
   "source": [
    "#Compute the output of the network\n",
    "def forward(x):\n",
    "    fc0 = np.matmul(x, W0.transpose()) + B0\n",
    "    return fc0\n",
    "print(lirpa_model(ball_tensor).detach().numpy())\n",
    "print(forward(TARGET))\n",
    "assert(np.array_equal(forward(TARGET),\n",
    "                      lirpa_model(ball_tensor).detach().numpy()))"
   ]
  },
  {
   "cell_type": "code",
   "execution_count": 21,
   "metadata": {},
   "outputs": [
    {
     "name": "stdout",
     "output_type": "stream",
     "text": [
      "(2, 1, 3)\n"
     ]
    },
    {
     "ename": "AssertionError",
     "evalue": "",
     "output_type": "error",
     "traceback": [
      "\u001b[0;31m---------------------------------------------------------------------------\u001b[0m",
      "\u001b[0;31mAssertionError\u001b[0m                            Traceback (most recent call last)",
      "\u001b[0;32m<ipython-input-21-600823061845>\u001b[0m in \u001b[0;36m<module>\u001b[0;34m\u001b[0m\n\u001b[1;32m     30\u001b[0m     \u001b[0;32mreturn\u001b[0m \u001b[0mnew_bound\u001b[0m\u001b[0;34m\u001b[0m\u001b[0;34m\u001b[0m\u001b[0m\n\u001b[1;32m     31\u001b[0m \u001b[0;34m\u001b[0m\u001b[0m\n\u001b[0;32m---> 32\u001b[0;31m \u001b[0mmy_bound\u001b[0m \u001b[0;34m=\u001b[0m \u001b[0mmy_IBP\u001b[0m\u001b[0;34m(\u001b[0m\u001b[0mmy_ball\u001b[0m\u001b[0;34m,\u001b[0m \u001b[0mW0\u001b[0m\u001b[0;34m.\u001b[0m\u001b[0mtranspose\u001b[0m\u001b[0;34m(\u001b[0m\u001b[0;34m)\u001b[0m\u001b[0;34m,\u001b[0m \u001b[0mB0\u001b[0m\u001b[0;34m)\u001b[0m\u001b[0;34m\u001b[0m\u001b[0;34m\u001b[0m\u001b[0m\n\u001b[0m\u001b[1;32m     33\u001b[0m \u001b[0mlirpa_bound\u001b[0m \u001b[0;34m=\u001b[0m \u001b[0mnp\u001b[0m\u001b[0;34m.\u001b[0m\u001b[0marray\u001b[0m\u001b[0;34m(\u001b[0m\u001b[0;34m[\u001b[0m\u001b[0mlb\u001b[0m\u001b[0;34m.\u001b[0m\u001b[0mdetach\u001b[0m\u001b[0;34m(\u001b[0m\u001b[0;34m)\u001b[0m\u001b[0;34m.\u001b[0m\u001b[0mnumpy\u001b[0m\u001b[0;34m(\u001b[0m\u001b[0;34m)\u001b[0m\u001b[0;34m,\u001b[0m \u001b[0mub\u001b[0m\u001b[0;34m.\u001b[0m\u001b[0mdetach\u001b[0m\u001b[0;34m(\u001b[0m\u001b[0;34m)\u001b[0m\u001b[0;34m.\u001b[0m\u001b[0mnumpy\u001b[0m\u001b[0;34m(\u001b[0m\u001b[0;34m)\u001b[0m\u001b[0;34m]\u001b[0m\u001b[0;34m)\u001b[0m\u001b[0;34m\u001b[0m\u001b[0;34m\u001b[0m\u001b[0m\n\u001b[1;32m     34\u001b[0m \u001b[0;34m\u001b[0m\u001b[0m\n",
      "\u001b[0;32m<ipython-input-21-600823061845>\u001b[0m in \u001b[0;36mmy_IBP\u001b[0;34m(prev_bound, W, b)\u001b[0m\n\u001b[1;32m     11\u001b[0m     \"\"\"\n\u001b[1;32m     12\u001b[0m     \u001b[0;32massert\u001b[0m\u001b[0;34m(\u001b[0m\u001b[0mprev_bound\u001b[0m\u001b[0;34m.\u001b[0m\u001b[0mshape\u001b[0m\u001b[0;34m[\u001b[0m\u001b[0;36m0\u001b[0m\u001b[0;34m]\u001b[0m\u001b[0;34m==\u001b[0m\u001b[0;36m2\u001b[0m\u001b[0;34m)\u001b[0m\u001b[0;34m\u001b[0m\u001b[0;34m\u001b[0m\u001b[0m\n\u001b[0;32m---> 13\u001b[0;31m     \u001b[0;32massert\u001b[0m\u001b[0;34m(\u001b[0m\u001b[0mprev_bound\u001b[0m\u001b[0;34m.\u001b[0m\u001b[0mshape\u001b[0m\u001b[0;34m[\u001b[0m\u001b[0;36m1\u001b[0m\u001b[0;34m]\u001b[0m\u001b[0;34m==\u001b[0m\u001b[0mW\u001b[0m\u001b[0;34m.\u001b[0m\u001b[0mshape\u001b[0m\u001b[0;34m[\u001b[0m\u001b[0;36m0\u001b[0m\u001b[0;34m]\u001b[0m\u001b[0;34m)\u001b[0m\u001b[0;34m\u001b[0m\u001b[0;34m\u001b[0m\u001b[0m\n\u001b[0m\u001b[1;32m     14\u001b[0m     \u001b[0;32massert\u001b[0m\u001b[0;34m(\u001b[0m\u001b[0mW\u001b[0m\u001b[0;34m.\u001b[0m\u001b[0mshape\u001b[0m\u001b[0;34m[\u001b[0m\u001b[0;36m1\u001b[0m\u001b[0;34m]\u001b[0m \u001b[0;34m==\u001b[0m \u001b[0mb\u001b[0m\u001b[0;34m.\u001b[0m\u001b[0mshape\u001b[0m\u001b[0;34m[\u001b[0m\u001b[0;36m0\u001b[0m\u001b[0;34m]\u001b[0m\u001b[0;34m)\u001b[0m\u001b[0;34m\u001b[0m\u001b[0;34m\u001b[0m\u001b[0m\n\u001b[1;32m     15\u001b[0m \u001b[0;34m\u001b[0m\u001b[0m\n",
      "\u001b[0;31mAssertionError\u001b[0m: "
     ]
    }
   ],
   "source": [
    "##Compute bound using Interval Bound Propagation, using my own implementation.\n",
    "##The closed-form solution is in eq(6), https://arxiv.org/pdf/1810.12715.pdf\n",
    "my_ball = np.array([TARGET - EPS, TARGET + EPS])\n",
    "print(my_ball.shape)\n",
    "\n",
    "def my_IBP(prev_bound: np.array, W: np.array, b: np.array):\n",
    "    \"\"\"\n",
    "    prev_bound: 2x784 prev_bound[0][i]: lower of unit ith, prev_bound[1]i]: upper of unit ith\n",
    "    W: 784x256\n",
    "    b: 256\n",
    "    \"\"\"\n",
    "    assert(prev_bound.shape[0]==2)\n",
    "    assert(prev_bound.shape[1]==W.shape[0])\n",
    "    assert(W.shape[1] == b.shape[0])\n",
    "    \n",
    "    prev_u = (prev_bound[0,:] + prev_bound[1,:])/2\n",
    "\n",
    "    prev_r = (prev_bound[1,:] - prev_bound[0,:])/2\n",
    "    \n",
    "    u = np.matmul(prev_u , W) + b\n",
    "    \n",
    "    r = np.matmul(prev_r , abs(W) )\n",
    "    \n",
    "    new_bound_lower = u - r\n",
    "    \n",
    "    new_bound_upper = u + r\n",
    "    \n",
    "    new_bound = np.array([new_bound_lower, new_bound_upper])\n",
    "    \n",
    "    return new_bound\n",
    "\n",
    "my_bound = my_IBP(my_ball, W0.transpose(), B0)\n",
    "lirpa_bound = np.array([lb.detach().numpy(), ub.detach().numpy()])\n",
    "\n",
    "print(my_bound)\n",
    "print(lirpa_bound)\n",
    "\n",
    "#cannot use array_equal due to some floating point difference?\n",
    "assert(np.allclose(my_bound, \n",
    "                   lirpa_bound))\n"
   ]
  },
  {
   "cell_type": "code",
   "execution_count": 18,
   "metadata": {},
   "outputs": [
    {
     "name": "stdout",
     "output_type": "stream",
     "text": [
      "tensor([[-0.4400,  0.0840]], dtype=torch.float64, grad_fn=<AddBackward0>)\n",
      "[[[-0.745 -0.221]]\n",
      "\n",
      " [[-0.135  0.389]]]\n"
     ]
    }
   ],
   "source": [
    "## Computer bound using CROWN\n",
    "print(lirpa_model(ball_tensor))\n",
    "crown_lb, crown_ub = lirpa_model.compute_bounds(IBP=False, method = 'backward')\n",
    "crown_bound = np.array([crown_lb.detach().numpy(), crown_ub.detach().numpy()])\n",
    "print(crown_bound)\n",
    "\n",
    "def compute_and_compare_bounds(original_model, eps, norm, IBP, method):\n",
    "    global TARGET\n",
    "    input_data = torch.from_numpy(TARGET)\n",
    "    model = BoundedModule(original_model, torch.empty_like(input_data))\n",
    "    ptb = PerturbationLpNorm(norm=norm, eps=eps)\n",
    "    ptb_data = BoundedTensor(input_data, ptb)\n",
    "    pred = model(ptb_data)\n",
    "#     label = torch.argmax(pred, dim=1).cpu().detach().numpy()\n",
    "    # Compute bounds.\n",
    "    lb, ub = model.compute_bounds(IBP=IBP, method=method)\n",
    "    # Compute dual norm.\n",
    "    if norm == 1:\n",
    "        q = np.inf\n",
    "    elif norm == np.inf:\n",
    "        q = 1.0\n",
    "    else:\n",
    "        q = 1.0 / (1.0 - (1.0 / norm))\n",
    "    # Compute reference manually.\n",
    "    weight, bias = list(model.parameters())\n",
    "    norm = weight.norm(p=q, dim=1)\n",
    "    expected_pred = input_data.matmul(weight.t()) + bias\n",
    "    expected_ub = eps * norm + expected_pred\n",
    "    expected_lb = -eps * norm + expected_pred\n",
    "\n",
    "    # Check equivalence.\n",
    "#     self.assertEqual(expected_pred, pred)\n",
    "#     self.assertEqual(expected_ub, ub)\n",
    "#     self.assertEqual(expected_lb, lb)\n",
    "    \n",
    "compute_and_compare_bounds(original_model, eps=0.3, norm=np.inf, IBP=False, method='backward')\n"
   ]
  }
 ],
 "metadata": {
  "kernelspec": {
   "display_name": "Python 3.8.5 64-bit ('py38': conda)",
   "language": "python",
   "name": "python385jvsc74a57bd08e59bf3d6a50a7077d8acb216dbc16c3106fe79f55067c17dc666a40d74b6917"
  },
  "language_info": {
   "codemirror_mode": {
    "name": "ipython",
    "version": 3
   },
   "file_extension": ".py",
   "mimetype": "text/x-python",
   "name": "python",
   "nbconvert_exporter": "python",
   "pygments_lexer": "ipython3",
   "version": "3.8.5"
  }
 },
 "nbformat": 4,
 "nbformat_minor": 4
}
