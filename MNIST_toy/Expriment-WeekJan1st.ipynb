{
 "cells": [
  {
   "cell_type": "code",
   "execution_count": 1,
   "metadata": {},
   "outputs": [],
   "source": [
    "from models import FeedforwardNeuralNetModel, TinyCNN, PatternClassifier\n",
    "from torchvision import datasets, transforms\n",
    "from torch import optim\n",
    "import torch\n",
    "import torch.nn.functional as F\n",
    "from torch.optim.lr_scheduler import StepLR\n",
    "from tqdm import tqdm\n",
    "import copy\n",
    "import utils as CFI_utils\n",
    "from matplotlib import pyplot as plt\n",
    "import numpy as np\n",
    "%matplotlib inline\n",
    "\n",
    "import seaborn as sns\n",
    "colors = sns.color_palette(\"tab10\")\n",
    "\n",
    "#configs\n",
    "epochs = 3\n",
    "batch_size = 10000\n",
    "test_batch_size = 10000\n",
    "use_cuda = True\n",
    "lr = 1\n",
    "log_interval = 100\n",
    "LOAD = True\n",
    "LOADPATH = 'TinyCNN15:36:27'\n",
    "\n",
    "#torch specific configs\n",
    "torch.manual_seed(1)\n",
    "\n",
    "device = torch.device(\"cuda\")\n",
    "\n",
    "train_kwargs = {'batch_size': batch_size}\n",
    "test_kwargs = {'batch_size': test_batch_size}\n",
    "\n",
    "if use_cuda:\n",
    "    cuda_kwargs = {'num_workers': 1,\n",
    "                   'pin_memory': True,\n",
    "                   'shuffle': True}\n",
    "    train_kwargs.update(cuda_kwargs)\n",
    "    test_kwargs.update(cuda_kwargs)\n",
    "\n",
    "transform = transforms.Compose([\n",
    "    transforms.ToTensor(),\n",
    "    transforms.Normalize((0.1307,), (0.3081,))\n",
    "])"
   ]
  },
  {
   "cell_type": "markdown",
   "metadata": {},
   "source": [
    "## Agenda\n",
    "### Big question: CFI for NN\n",
    "\n",
    "### Backlog RQs: \n",
    "- BRQ1: Can we look at a random k entries in the weight instead of the first k?\n",
    "- BRQ2: What if we set all the small abs weight in the Pattern classifer to 0? what is the accuracy in that case?\n",
    "- ~~BRQ3: Given an image and an l2-ball surrounding it, how many activation maps are there? (closely related to RQ1)~~ (Done in WeekJan8th)\n",
    "- BRQ4: Given a simple attacking method (e.g, Fast gradient sign), build a dataset of activation maps of true and fake digits. Try to train a pattern classifier using that dataset."
   ]
  },
  {
   "cell_type": "code",
   "execution_count": 2,
   "metadata": {},
   "outputs": [],
   "source": [
    "# Load the pretrained model\n",
    "dataset1 = datasets.MNIST('../data', train=True, download=True,\n",
    "                          transform=transform)\n",
    "dataset2 = datasets.MNIST('../data', train=False,\n",
    "                          transform=transform)\n",
    "train_loader = torch.utils.data.DataLoader(dataset1, **train_kwargs)\n",
    "test_loader = torch.utils.data.DataLoader(dataset2, **test_kwargs)\n",
    "\n",
    "# model = FeedforwardNeuralNetModel(28*28, 128, 10).to(device)\n",
    "model = TinyCNN().to(device)\n",
    "\n",
    "if LOAD:\n",
    "    model.load_state_dict(torch.load(LOADPATH))\n"
   ]
  },
  {
   "cell_type": "markdown",
   "metadata": {},
   "source": [
    "## RQ1: given 2 close images, how close are their activation patterns?\n",
    "### Some definition: \n",
    "- close images are defined by L2-norm (a parameter, can be changed to something else)\n",
    "- close activation patterns are defined by first take the XOR of the 2 patterns (both are binary mask), then take the sum (basically we count how many bits are different between the two patterns)\n",
    "\n",
    "### Result summary: \n",
    "- Given 2 close images, their activation patterns are significantly closer than with a random one. This is expected\n",
    "- Layer by layer, conv2 contains the most amount of difference. This is unexpected. My expectation is conv1 > conv2 > fc1 > fc2, but the actual order across many samples are conv2 > conv1 > fc1 > fc2\n"
   ]
  },
  {
   "cell_type": "code",
   "execution_count": 3,
   "metadata": {},
   "outputs": [
    {
     "name": "stdout",
     "output_type": "stream",
     "text": [
      "10000\n",
      "torch.Size([1, 28, 28])\n",
      "torch.Size([10000, 1, 28, 28])\n",
      "model output for s1: tensor(8, device='cuda:0')\n",
      "model output for s2: tensor(8, device='cuda:0')\n"
     ]
    },
    {
     "data": {
      "image/png": "[encoded data removed]",
      "text/plain": [
       "<Figure size 432x288 with 1 Axes>"
      ]
     },
     "metadata": {
      "needs_background": "light"
     },
     "output_type": "display_data"
    },
    {
     "data": {
      "image/png": "[encoded data removed]",
      "text/plain": [
       "<Figure size 432x288 with 1 Axes>"
      ]
     },
     "metadata": {
      "needs_background": "light"
     },
     "output_type": "display_data"
    },
    {
     "data": {
      "image/png": "[encoded data removed]",
      "text/plain": [
       "<Figure size 432x288 with 1 Axes>"
      ]
     },
     "metadata": {
      "needs_background": "light"
     },
     "output_type": "display_data"
    }
   ],
   "source": [
    "#sample 2 close images and a random one\n",
    "s1, s2, d = CFI_utils.sample_pair(train_loader)\n",
    "random, _ = next(iter(train_loader))\n",
    "random = random[0]\n",
    "\n",
    "#plot images for sanity check\n",
    "plt.figure(); plt.imshow(s1.squeeze())\n",
    "plt.figure(); plt.imshow(s2.squeeze())\n",
    "plt.figure(); plt.imshow(random.squeeze())\n",
    "\n",
    "#run the model to check the output are expected\n",
    "print(\"model output for s1:\", model(s1.unsqueeze(0).to(device)).argmax())\n",
    "print(\"model output for s2:\", model(s2.unsqueeze(0).to(device)).argmax())"
   ]
  },
  {
   "cell_type": "code",
   "execution_count": 4,
   "metadata": {},
   "outputs": [
    {
     "name": "stdout",
     "output_type": "stream",
     "text": [
      "tensor(17.2534)\n",
      "vs s2: conv1 230 / 2704 0.08505917159763314\n",
      "vs s2: conv2 538 / 4608 0.11675347222222222\n",
      "vs s2: fc1 4 / 16 0.25\n",
      "vs s2: fc2 2 / 10 0.2\n"
     ]
    }
   ],
   "source": [
    "print(d)\n",
    "s1_raw_pattern = CFI_utils.get_pattern(model, device, s1.unsqueeze(0))\n",
    "s2_raw_pattern = CFI_utils.get_pattern(model, device, s2.unsqueeze(0))\n",
    "random_raw_pattern = CFI_utils.get_pattern(model, device, random.unsqueeze(0))\n",
    "layers = ['conv1', 'conv2', 'fc1', 'fc2']\n",
    "\n",
    "\n",
    "for layer in layers:\n",
    "    s1_pattern = np.concatenate([s1_raw_pattern[l] for l in [layer]], axis = 1)\n",
    "    s2_pattern = np.concatenate([s2_raw_pattern[l] for l in [layer]], axis = 1)\n",
    "    random_pattern = np.concatenate([random_raw_pattern[l] for l in [layer]], axis = 1)\n",
    "    print(\"vs s2:\", layer, CFI_utils.bit_diff(s1_pattern, s2_pattern), \"/\", len(s1_pattern[0]), CFI_utils.bit_diff(s1_pattern, s2_pattern)/len(s1_pattern[0]))\n",
    "#     print(\"vs random:\",layer, np.logical_xor(s1_pattern, random_pattern).sum(), \"/\", len(s1_pattern[0]))"
   ]
  },
  {
   "cell_type": "markdown",
   "metadata": {},
   "source": [
    "## RQ2: Is it possible for an adv example to have activation pattern close to the real one?\n",
    "hypothesis: an adv example should have pattern that is very different from a real one.\n",
    "\n",
    "subtask 1: generate a adv example\n",
    "\n",
    "subtask 2: get its pattern, compare to ALL existing patterns, find the min. How big/small is the min?\n",
    "\n",
    "subtask 3a: if the min is kinda big, check if it is actually big for many adv examples\n",
    "\n",
    "subtask 3b: if the min is small, what is the closest activation pattern. what original input does it correspond to?\n",
    "\n",
    "status: in progress\n",
    "\n",
    "### Result summary\n",
    "All of the below results are based on adv generated by Fast Sign Gradient attack, with a fixed epsilon = 0.7 (one or two examples are done with epsilon = 0.5)\n",
    "- The resulted adv example trigger a very different activation pattern compared with the victim\n",
    "- consistently ~60% diff in conv1 and ~30% in conv2 for eps = 0.7. \n",
    "- Interesting because in close images, diff in conv1 < diff in conv2\n",
    "- The resulted adv example trigger an activation pattern that is not close to any real activation pattern. The min number of difference bit is consistantly > 2000, and for real images they are < 1000"
   ]
  },
  {
   "cell_type": "code",
   "execution_count": 5,
   "metadata": {},
   "outputs": [
    {
     "name": "stdout",
     "output_type": "stream",
     "text": [
      "Epsilon: 0.5\tTest Accuracy = 1 / 1 = 1.0\n",
      "Epsilon: 0.5\tTest Accuracy = 0 / 1 = 0.0\n",
      "8\n",
      "vs adv: conv1 1608 / 2704 0.5946745562130178\n",
      "vs adv: conv2 1074 / 4608 0.23307291666666666\n",
      "vs adv: fc1 2 / 16 0.125\n",
      "vs adv: fc2 0 / 10 0.0\n"
     ]
    },
    {
     "data": {
      "image/png": "[encoded data removed]",
      "text/plain": [
       "<Figure size 432x288 with 1 Axes>"
      ]
     },
     "metadata": {
      "needs_background": "light"
     },
     "output_type": "display_data"
    }
   ],
   "source": [
    "#gen adv exp for victim\n",
    "while True:\n",
    "    random, _ = next(iter(train_loader))\n",
    "    victim = random[0]\n",
    "    acc, ex = CFI_utils.gen_adv(model, device, [(victim.unsqueeze(0), model(victim.unsqueeze(0).to(device)).argmax().unsqueeze(0))], 0.5)\n",
    "    if len(ex)>0: break\n",
    "\n",
    "victim_raw_pattern = CFI_utils.get_pattern(model, device, victim.unsqueeze(0))\n",
    "\n",
    "plt.figure(); plt.imshow(ex[0][2])\n",
    "print(ex[0][1])\n",
    "\n",
    "adv_exp = ex[0][2]\n",
    "\n",
    "#get the pattern of the adv example\n",
    "adv_raw_pattern = CFI_utils.get_pattern(model, device, torch.Tensor(adv_exp).unsqueeze(0).unsqueeze(0))\n",
    "\n",
    "#compare with the victim example\n",
    "for layer in layers:\n",
    "    victim_pattern = np.concatenate([victim_raw_pattern[l] for l in [layer]], axis = 1)\n",
    "    adv_pattern = np.concatenate([adv_raw_pattern[l] for l in [layer]], axis = 1)\n",
    "    print(\"vs adv:\", layer, CFI_utils.bit_diff(victim_pattern, adv_pattern), \"/\", len(victim_pattern[0]), CFI_utils.bit_diff(victim_pattern, adv_pattern)/len(victim_pattern[0]))\n"
   ]
  },
  {
   "cell_type": "code",
   "execution_count": 6,
   "metadata": {},
   "outputs": [],
   "source": [
    "#pre-compute all activation\n",
    "train_dataset = datasets.MNIST('../data', train=True, download=True,\n",
    "                          transform=transform)\n",
    "\n",
    "patterns_dataset = CFI_utils.get_pattern_dataset(train_dataset, train_dataset.targets, model, layers, train_kwargs)\n",
    "\n"
   ]
  },
  {
   "cell_type": "code",
   "execution_count": 7,
   "metadata": {},
   "outputs": [
    {
     "name": "stdout",
     "output_type": "stream",
     "text": [
      "(1, 7338)\n",
      "2566\n",
      "2566\n"
     ]
    }
   ],
   "source": [
    "n_dps = patterns_dataset.patterns.shape[0]\n",
    "adv_pattern_flatten = np.concatenate([adv_raw_pattern[l] for l in layers], axis =1)\n",
    "print(adv_pattern_flatten.shape)\n",
    "adv_tiled = np.tile(adv_pattern_flatten, (n_dps, 1))\n",
    "adv_tiled.shape\n",
    "\n",
    "adv_vs_all = np.sum(np.logical_xor(adv_tiled, patterns_dataset.patterns), axis=1)\n",
    "print(adv_vs_all.min())\n",
    "\n",
    "all_vs_adv = np.sum(np.logical_xor(patterns_dataset.patterns, adv_tiled), axis=1)\n",
    "print(all_vs_adv.min())"
   ]
  },
  {
   "cell_type": "code",
   "execution_count": 9,
   "metadata": {},
   "outputs": [
    {
     "name": "stdout",
     "output_type": "stream",
     "text": [
      "581\n"
     ]
    }
   ],
   "source": [
    "#compare with a random image\n",
    "random, _ = next(iter(train_loader))\n",
    "random = random[0]\n",
    "random_raw_pattern = CFI_utils.get_pattern(model, device, random.unsqueeze(0))\n",
    "random_pattern_flatten = np.concatenate([random_raw_pattern[l] for l in layers], axis =1)\n",
    "\n",
    "random_tiled = np.tile(random_pattern_flatten, (n_dps, 1))\n",
    "all_vs_random = np.sum(np.logical_xor(patterns_dataset.patterns, random_tiled), axis=1)\n",
    "print(sorted(list(all_vs_random))[1])"
   ]
  }
 ],
 "metadata": {
  "kernelspec": {
   "display_name": "Python 3.8.5 64-bit ('py38': conda)",
   "language": "python",
   "name": "python385jvsc74a57bd08e59bf3d6a50a7077d8acb216dbc16c3106fe79f55067c17dc666a40d74b6917"
  },
  "language_info": {
   "codemirror_mode": {
    "name": "ipython",
    "version": 3
   },
   "file_extension": ".py",
   "mimetype": "text/x-python",
   "name": "python",
   "nbconvert_exporter": "python",
   "pygments_lexer": "ipython3",
   "version": "3.8.5"
  }
 },
 "nbformat": 4,
 "nbformat_minor": 4
}
