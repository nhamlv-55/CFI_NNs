{
 "cells": [
  {
   "cell_type": "code",
   "execution_count": 1,
   "metadata": {},
   "outputs": [],
   "source": [
    "from models import FeedforwardNeuralNetModel, TinyCNN, PatternClassifier\n",
    "from torchvision import datasets, transforms\n",
    "from torch import optim\n",
    "import torch\n",
    "import torch.nn.functional as F\n",
    "from torch.optim.lr_scheduler import StepLR\n",
    "from tqdm import tqdm\n",
    "import copy\n",
    "from utils import *\n",
    "from matplotlib import pyplot as plt\n",
    "import numpy as np\n",
    "%matplotlib inline\n",
    "\n",
    "import seaborn as sns\n",
    "colors = sns.color_palette(\"tab10\")\n",
    "\n",
    "#configs\n",
    "epochs = 3\n",
    "batch_size = 10000\n",
    "test_batch_size = 10000\n",
    "use_cuda = True\n",
    "lr = 1\n",
    "log_interval = 100\n",
    "LOAD = True\n",
    "LOADPATH = 'TinyCNN15:36:27'\n",
    "\n",
    "#torch specific configs\n",
    "torch.manual_seed(1)\n",
    "\n",
    "device = torch.device(\"cuda\")\n",
    "\n",
    "train_kwargs = {'batch_size': batch_size}\n",
    "test_kwargs = {'batch_size': test_batch_size}\n",
    "\n",
    "if use_cuda:\n",
    "    cuda_kwargs = {'num_workers': 1,\n",
    "                   'pin_memory': True,\n",
    "                   'shuffle': True}\n",
    "    train_kwargs.update(cuda_kwargs)\n",
    "    test_kwargs.update(cuda_kwargs)\n",
    "\n",
    "transform = transforms.Compose([\n",
    "    transforms.ToTensor(),\n",
    "    transforms.Normalize((0.1307,), (0.3081,))\n",
    "])"
   ]
  },
  {
   "cell_type": "markdown",
   "metadata": {},
   "source": [
    "## Agenda\n",
    "### Big question: CFI for NN\n",
    "### RQ1: given 2 close images, how close are their activation patterns?\n",
    "- subtask 1: get pairs of close images based on some distance metrics (like L2). It should be easy to find an image X closest to an image Y. Make sure to distinguish test and train images\n",
    "- subtask 2: compute activation pattern distance. What should it be?\n",
    "\n",
    "### Backlog RQs: \n",
    "- BRQ1: Can we look at a random k entries in the weight instead of the first k?\n",
    "- BRQ2: What if we set all the small abs weight in the Pattern classifer to 0? what is the accuracy in that case?\n",
    "- BRQ3: Given an image and an l2-ball surrounding it, how many activation maps are there? (closely related to RQ1)\n",
    "- BRQ4: Given a simple attacking method (e.g, Fast gradient sign), build a dataset of activation maps of true and fake digits. Try to train a pattern classifier using that dataset."
   ]
  },
  {
   "cell_type": "code",
   "execution_count": 2,
   "metadata": {},
   "outputs": [],
   "source": [
    "\n",
    "dataset1 = datasets.MNIST('../data', train=True, download=True,\n",
    "                          transform=transform)\n",
    "dataset2 = datasets.MNIST('../data', train=False,\n",
    "                          transform=transform)\n",
    "train_loader = torch.utils.data.DataLoader(dataset1, **train_kwargs)\n",
    "test_loader = torch.utils.data.DataLoader(dataset2, **test_kwargs)\n",
    "\n",
    "# model = FeedforwardNeuralNetModel(28*28, 128, 10).to(device)\n",
    "model = TinyCNN().to(device)\n",
    "\n",
    "if LOAD:\n",
    "    model.load_state_dict(torch.load(LOADPATH))\n"
   ]
  },
  {
   "cell_type": "markdown",
   "metadata": {},
   "source": [
    "## RQ1: given 2 close images, how close are their activation patterns?\n",
    "### Some definition: \n",
    "- close images are defined by L2-norm (a parameter, can be changed to something else)\n",
    "- close activation patterns are defined by first take the XOR of the 2 patterns (both are binary mask), then take the sum (basically we count how many bits are different between the two patterns)\n",
    "\n",
    "### Result summary: \n",
    "- Given 2 close images, their activation patterns are significantly closer than with a random one. This is expected\n",
    "- Layer by layer, conv2 contains the most amount of difference. This is unexpected. My expectation is conv1 > conv2 > fc1 > fc2, but the actual order across many samples are conv2 > conv1 > fc1 > fc2\n"
   ]
  },
  {
   "cell_type": "code",
   "execution_count": 34,
   "metadata": {},
   "outputs": [
    {
     "name": "stdout",
     "output_type": "stream",
     "text": [
      "10000\n",
      "torch.Size([1, 28, 28])\n",
      "torch.Size([10000, 1, 28, 28])\n",
      "model output for s1: tensor(7, device='cuda:0')\n",
      "model output for s2: tensor(7, device='cuda:0')\n"
     ]
    },
    {
     "data": {
      "image/png": "[encoded data removed]",
      "text/plain": [
       "<Figure size 432x288 with 1 Axes>"
      ]
     },
     "metadata": {
      "needs_background": "light"
     },
     "output_type": "display_data"
    },
    {
     "data": {
      "image/png": "[encoded data removed]",
      "text/plain": [
       "<Figure size 432x288 with 1 Axes>"
      ]
     },
     "metadata": {
      "needs_background": "light"
     },
     "output_type": "display_data"
    },
    {
     "data": {
      "image/png": "[encoded data removed]",
      "text/plain": [
       "<Figure size 432x288 with 1 Axes>"
      ]
     },
     "metadata": {
      "needs_background": "light"
     },
     "output_type": "display_data"
    }
   ],
   "source": [
    "#sample 2 close images and a random one\n",
    "s1, s2, d = sample_pair(train_loader)\n",
    "random, _ = next(iter(train_loader))\n",
    "random = random[0]\n",
    "\n",
    "#plot images for sanity check\n",
    "plt.figure(); plt.imshow(s1.squeeze())\n",
    "plt.figure(); plt.imshow(s2.squeeze())\n",
    "plt.figure(); plt.imshow(random.squeeze())\n",
    "\n",
    "#run the model to check the output are expected\n",
    "print(\"model output for s1:\", model(s1.unsqueeze(0).to(device)).argmax())\n",
    "print(\"model output for s2:\", model(s2.unsqueeze(0).to(device)).argmax())"
   ]
  },
  {
   "cell_type": "code",
   "execution_count": 36,
   "metadata": {},
   "outputs": [
    {
     "name": "stdout",
     "output_type": "stream",
     "text": [
      "tensor(8.1434)\n",
      "vs s2: conv1 99 / 2704 0.03661242603550296\n",
      "vs s2: conv2 248 / 4608 0.05381944444444445\n",
      "vs s2: fc1 1 / 16 0.0625\n",
      "vs s2: fc2 0 / 10 0.0\n"
     ]
    }
   ],
   "source": [
    "print(d)\n",
    "s1_raw_pattern = get_pattern(model, device, s1.unsqueeze(0))\n",
    "s2_raw_pattern = get_pattern(model, device, s2.unsqueeze(0))\n",
    "random_raw_pattern = get_pattern(model, device, random.unsqueeze(0))\n",
    "layers = ['conv1', 'conv2', 'fc1', 'fc2']\n",
    "\n",
    "def bit_diff(a, b):\n",
    "    return np.logical_xor(a, b).sum()\n",
    "for layer in layers:\n",
    "    s1_pattern = np.concatenate([s1_raw_pattern[l] for l in [layer]], axis = 1)\n",
    "    s2_pattern = np.concatenate([s2_raw_pattern[l] for l in [layer]], axis = 1)\n",
    "    random_pattern = np.concatenate([random_raw_pattern[l] for l in [layer]], axis = 1)\n",
    "    print(\"vs s2:\", layer, bit_diff(s1_pattern, s2_pattern), \"/\", len(s1_pattern[0]), bit_diff(s1_pattern, s2_pattern)/len(s1_pattern[0]))\n",
    "#     print(\"vs random:\",layer, np.logical_xor(s1_pattern, random_pattern).sum(), \"/\", len(s1_pattern[0]))"
   ]
  },
  {
   "cell_type": "code",
   "execution_count": null,
   "metadata": {},
   "outputs": [],
   "source": []
  }
 ],
 "metadata": {
  "kernelspec": {
   "display_name": "Python 3.8.5 64-bit ('py38': conda)",
   "language": "python",
   "name": "python385jvsc74a57bd08e59bf3d6a50a7077d8acb216dbc16c3106fe79f55067c17dc666a40d74b6917"
  },
  "language_info": {
   "codemirror_mode": {
    "name": "ipython",
    "version": 3
   },
   "file_extension": ".py",
   "mimetype": "text/x-python",
   "name": "python",
   "nbconvert_exporter": "python",
   "pygments_lexer": "ipython3",
   "version": "3.8.5"
  }
 },
 "nbformat": 4,
 "nbformat_minor": 4
}
