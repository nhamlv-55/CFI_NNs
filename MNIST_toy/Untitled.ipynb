{
 "cells": [
  {
   "cell_type": "code",
   "execution_count": 1,
   "metadata": {},
   "outputs": [],
   "source": [
    "from models import FeedforwardNeuralNetModel, TinyCNN, PatternClassifier\n",
    "from torchvision import datasets, transforms\n",
    "from torch import optim\n",
    "import torch\n",
    "import torch.nn.functional as F\n",
    "from torch.optim.lr_scheduler import StepLR\n",
    "from tqdm import tqdm\n",
    "import copy\n",
    "from utils import fit_pca, test, plot_pca, get_pattern_dataset, train, test\n",
    "from matplotlib import pyplot as plt\n",
    "import numpy as np\n",
    "%matplotlib inline\n",
    "\n",
    "import seaborn as sns\n",
    "colors = sns.color_palette(\"tab10\")\n",
    "\n",
    "#configs\n",
    "epochs = 3\n",
    "batch_size = 1000\n",
    "test_batch_size = 10000\n",
    "use_cuda = True\n",
    "lr = 1\n",
    "log_interval = 100\n",
    "LOAD = True\n",
    "LOADPATH = 'TinyCNN22:47:04'\n",
    "\n",
    "#torch specific configs\n",
    "torch.manual_seed(1)\n",
    "\n",
    "device = torch.device(\"cuda\")\n",
    "\n",
    "train_kwargs = {'batch_size': batch_size}\n",
    "test_kwargs = {'batch_size': test_batch_size}\n",
    "\n",
    "if use_cuda:\n",
    "    cuda_kwargs = {'num_workers': 1,\n",
    "                   'pin_memory': True,\n",
    "                   'shuffle': True}\n",
    "    train_kwargs.update(cuda_kwargs)\n",
    "    test_kwargs.update(cuda_kwargs)\n",
    "\n",
    "transform = transforms.Compose([\n",
    "    transforms.ToTensor(),\n",
    "    transforms.Normalize((0.1307,), (0.3081,))\n",
    "])"
   ]
  },
  {
   "cell_type": "markdown",
   "metadata": {},
   "source": [
    "### Train or load an existing MNIST classifier"
   ]
  },
  {
   "cell_type": "code",
   "execution_count": 2,
   "metadata": {},
   "outputs": [],
   "source": [
    "\n",
    "dataset1 = datasets.MNIST('../data', train=True, download=True,\n",
    "                          transform=transform)\n",
    "dataset2 = datasets.MNIST('../data', train=False,\n",
    "                          transform=transform)\n",
    "train_loader = torch.utils.data.DataLoader(dataset1, **train_kwargs)\n",
    "test_loader = torch.utils.data.DataLoader(dataset2, **test_kwargs)\n",
    "\n",
    "# model = FeedforwardNeuralNetModel(28*28, 128, 10).to(device)\n",
    "model = TinyCNN().to(device)\n",
    "\n",
    "if LOAD:\n",
    "    model.load_state_dict(torch.load(LOADPATH))\n",
    "else:\n",
    "    optimizer = optim.Adadelta(model.parameters(), lr=lr)\n",
    "\n",
    "    scheduler = StepLR(optimizer, step_size=1, gamma = 0.7)\n",
    "    for epoch in tqdm(range(1, epochs + 1)):\n",
    "        train(model, device, train_loader, optimizer, epoch)\n",
    "        test(model, device, test_loader)\n",
    "        scheduler.step()\n",
    "        torch.save(model.state_dict(), model.model_savename())\n"
   ]
  },
  {
   "cell_type": "code",
   "execution_count": 3,
   "metadata": {},
   "outputs": [],
   "source": [
    "layers = ['fc2']\n",
    "layers = ['conv2','fc1', 'fc2']\n"
   ]
  },
  {
   "cell_type": "markdown",
   "metadata": {},
   "source": [
    "### Plot the pca projections of activation patterns specified in `layers`"
   ]
  },
  {
   "cell_type": "code",
   "execution_count": 4,
   "metadata": {},
   "outputs": [],
   "source": [
    "# train_patterns = test(model, device, train_loader, trace=True)\n",
    "# layers = ['fc2', 'fc3']\n",
    "# pca = fit_pca(train_patterns, layers)\n",
    "# plot_pca(model, train_loader, pca, layers)\n",
    "# plot_pca(model, test_loader, pca, layers)\n",
    "\n",
    "# indices = dataset1.targets == 8 # if you want to keep images with the label 5\n",
    "# tmp_dataset = datasets.MNIST('../data', train=True, download=True,\n",
    "#                           transform=transform)\n",
    "# tmp_dataset.data, tmp_dataset.targets = tmp_dataset.data[indices], tmp_dataset.targets[indices]\n",
    "# single_label_loader = torch.utils.data.DataLoader(tmp_dataset, **train_kwargs)\n",
    "# plot_pca(model, single_label_loader, pca, layers)\n",
    "\n",
    "# plt.show()\n"
   ]
  },
  {
   "cell_type": "markdown",
   "metadata": {},
   "source": [
    "### Create dataset for training the pattern model\n",
    "First, we create a pos_patterns_dataset and a neg_patterns_dataset. \n",
    "\n",
    "Pos_patterns_dataset is generated as follows:\n",
    "- collect all images of 0, 1, 2, 3, 4\n",
    "- run them through the trained classifier\n",
    "- collect all their activation patterns to a set S\n",
    "- Pos_patterns_dataset is then a set of tuple (pattern, target), in which all targets are 1 (positive), and pattern is in S.\n",
    "\n",
    "Neg_patterns_dataset is generated in the same way, but images are of 5, 6, 7, 8, 9, and targets are 0 (negative)\n",
    "\n",
    "The two dataset will then be merged into a training dataset."
   ]
  },
  {
   "cell_type": "code",
   "execution_count": 5,
   "metadata": {},
   "outputs": [
    {
     "name": "stdout",
     "output_type": "stream",
     "text": [
      "torch.Size([1000, 4634]) tensor([0, 0, 1, 1, 0])\n",
      "torch.Size([1000, 4634]) tensor([1, 1, 1, 1, 1])\n",
      "torch.Size([1000, 4634]) tensor([1, 1, 0, 1, 1])\n",
      "torch.Size([1000, 4634]) tensor([1, 1, 0, 1, 0])\n",
      "torch.Size([1000, 4634]) tensor([1, 1, 1, 1, 1])\n",
      "torch.Size([1000, 4634]) tensor([1, 0, 0, 1, 0])\n"
     ]
    }
   ],
   "source": [
    "positive_labels = [0,1,2,3,4]\n",
    "negative_labels = [5,6,7,8,9]\n",
    "#dataset with patterns from 01234, and all labels are 1 (positive)\n",
    "pos_dataset = datasets.MNIST('../data', train=True, download=True,\n",
    "                          transform=transform)\n",
    "indices = (pos_dataset.targets == 0) | (pos_dataset.targets == 1) |(pos_dataset.targets == 2) |(pos_dataset.targets == 3) |(pos_dataset.targets == 4) \n",
    "pos_dataset.data, pos_dataset.targets = pos_dataset.data[indices], torch.tensor([1]*len(pos_dataset.targets[indices]))\n",
    "\n",
    "pos_patterns_dataset = get_pattern_dataset(pos_dataset, pos_dataset.targets, model, layers, train_kwargs)\n",
    "\n",
    "#dataset with patterns from 56789 and all labels are 0 (negative)\n",
    "neg_dataset = datasets.MNIST('../data', train=True, download=True,\n",
    "                          transform=transform)\n",
    "\n",
    "indices = (neg_dataset.targets == 5)|(neg_dataset.targets == 6)|(neg_dataset.targets == 7)|(neg_dataset.targets == 8)|(neg_dataset.targets == 9)\n",
    "# indices = (neg_dataset.targets == 0)|(neg_dataset.targets == 1)|(neg_dataset.targets == 2)|(neg_dataset.targets == 3)|(neg_dataset.targets == 4)\n",
    "\n",
    "neg_dataset.data, neg_dataset.targets = neg_dataset.data[indices], torch.tensor([0]*len(neg_dataset.targets[indices]))\n",
    "\n",
    "neg_patterns_dataset = get_pattern_dataset(neg_dataset, neg_dataset.targets, model, layers, train_kwargs)\n",
    "\n",
    "#merged 2 dataset\n",
    "merged_set = torch.utils.data.ConcatDataset([pos_patterns_dataset, neg_patterns_dataset])\n",
    "merged_loader = torch.utils.data.DataLoader(dataset=merged_set, **train_kwargs) \n",
    "\n",
    "#test shape and labels\n",
    "for idx, (data, target) in enumerate(merged_loader):\n",
    "    if idx>5: break\n",
    "    print(data.shape, target[:5])\n"
   ]
  },
  {
   "cell_type": "markdown",
   "metadata": {},
   "source": [
    "### Train the pattern classifer"
   ]
  },
  {
   "cell_type": "code",
   "execution_count": 49,
   "metadata": {},
   "outputs": [
    {
     "name": "stderr",
     "output_type": "stream",
     "text": [
      "\r",
      "  0%|          | 0/10 [00:00<?, ?it/s]"
     ]
    },
    {
     "name": "stdout",
     "output_type": "stream",
     "text": [
      "\n",
      "Test set: Average loss: 0.7124, Accuracy: 27939/60000 (47%)\n",
      "\n"
     ]
    },
    {
     "name": "stderr",
     "output_type": "stream",
     "text": [
      "\r",
      " 10%|█         | 1/10 [00:03<00:32,  3.66s/it]"
     ]
    },
    {
     "name": "stdout",
     "output_type": "stream",
     "text": [
      "\n",
      "Test set: Average loss: 0.3721, Accuracy: 50385/60000 (84%)\n",
      "\n"
     ]
    },
    {
     "name": "stderr",
     "output_type": "stream",
     "text": [
      "\r",
      " 20%|██        | 2/10 [00:07<00:28,  3.61s/it]"
     ]
    },
    {
     "name": "stdout",
     "output_type": "stream",
     "text": [
      "\n",
      "Test set: Average loss: 0.2812, Accuracy: 53397/60000 (89%)\n",
      "\n"
     ]
    },
    {
     "name": "stderr",
     "output_type": "stream",
     "text": [
      "\r",
      " 30%|███       | 3/10 [00:10<00:25,  3.61s/it]"
     ]
    },
    {
     "name": "stdout",
     "output_type": "stream",
     "text": [
      "\n",
      "Test set: Average loss: 0.2634, Accuracy: 53747/60000 (90%)\n",
      "\n"
     ]
    },
    {
     "name": "stderr",
     "output_type": "stream",
     "text": [
      "\r",
      " 40%|████      | 4/10 [00:14<00:21,  3.61s/it]"
     ]
    },
    {
     "name": "stdout",
     "output_type": "stream",
     "text": [
      "\n",
      "Test set: Average loss: 0.2489, Accuracy: 54179/60000 (90%)\n",
      "\n"
     ]
    },
    {
     "name": "stderr",
     "output_type": "stream",
     "text": [
      "\r",
      " 50%|█████     | 5/10 [00:17<00:17,  3.59s/it]"
     ]
    },
    {
     "name": "stdout",
     "output_type": "stream",
     "text": [
      "\n",
      "Test set: Average loss: 0.2297, Accuracy: 54746/60000 (91%)\n",
      "\n"
     ]
    },
    {
     "name": "stderr",
     "output_type": "stream",
     "text": [
      "\r",
      " 60%|██████    | 6/10 [00:21<00:14,  3.60s/it]"
     ]
    },
    {
     "name": "stdout",
     "output_type": "stream",
     "text": [
      "\n",
      "Test set: Average loss: 0.2272, Accuracy: 54818/60000 (91%)\n",
      "\n"
     ]
    },
    {
     "name": "stderr",
     "output_type": "stream",
     "text": [
      "\r",
      " 70%|███████   | 7/10 [00:24<00:10,  3.49s/it]"
     ]
    },
    {
     "name": "stdout",
     "output_type": "stream",
     "text": [
      "\n",
      "Test set: Average loss: 0.2212, Accuracy: 55006/60000 (92%)\n",
      "\n"
     ]
    },
    {
     "name": "stderr",
     "output_type": "stream",
     "text": [
      "\r",
      " 80%|████████  | 8/10 [00:28<00:06,  3.46s/it]"
     ]
    },
    {
     "name": "stdout",
     "output_type": "stream",
     "text": [
      "\n",
      "Test set: Average loss: 0.2174, Accuracy: 55071/60000 (92%)\n",
      "\n"
     ]
    },
    {
     "name": "stderr",
     "output_type": "stream",
     "text": [
      "\r",
      " 90%|█████████ | 9/10 [00:31<00:03,  3.47s/it]"
     ]
    },
    {
     "name": "stdout",
     "output_type": "stream",
     "text": [
      "\n",
      "Test set: Average loss: 0.2164, Accuracy: 55119/60000 (92%)\n",
      "\n"
     ]
    },
    {
     "name": "stderr",
     "output_type": "stream",
     "text": [
      "100%|██████████| 10/10 [00:35<00:00,  3.53s/it]\n"
     ]
    }
   ],
   "source": [
    "max_unit = 2000\n",
    "pattern_model = PatternClassifier(4634, max_unit, 2).to(device)\n",
    "pattern_epochs = 10\n",
    "optimizer = optim.Adadelta(pattern_model.parameters(), lr=lr)\n",
    "\n",
    "scheduler = StepLR(optimizer, step_size=1, gamma = 0.7)\n",
    "for epoch in tqdm(range(1, pattern_epochs + 1)):\n",
    "    test(pattern_model, device, merged_loader)\n",
    "    train(pattern_model, device, merged_loader, optimizer, epoch)\n",
    "    scheduler.step()\n",
    "    torch.save(pattern_model.state_dict(), pattern_model.model_savename())"
   ]
  },
  {
   "cell_type": "markdown",
   "metadata": {},
   "source": [
    "### create test pattern dataset\n",
    "Follow the same logic for train pattern dataset, except we use the MNIST train portion (by setting the flag `train` to False)"
   ]
  },
  {
   "cell_type": "code",
   "execution_count": 7,
   "metadata": {},
   "outputs": [],
   "source": [
    "pos_test_dataset = datasets.MNIST('../data', train=False, download=True,\n",
    "                          transform=transform)\n",
    "indices = (pos_test_dataset.targets == 0) | (pos_test_dataset.targets == 1) |(pos_test_dataset.targets == 2) |(pos_test_dataset.targets == 3) |(pos_test_dataset.targets == 4) \n",
    "pos_test_dataset.data, pos_test_dataset.targets = pos_test_dataset.data[indices], torch.tensor([1]*len(pos_test_dataset.targets[indices]))\n",
    "\n",
    "pos_patterns_test_dataset = get_pattern_dataset(pos_test_dataset, pos_test_dataset.targets, model, layers, train_kwargs)\n",
    "\n",
    "#dataset with patterns from 56789 and all labels are 0 (negative)\n",
    "neg_test_dataset = datasets.MNIST('../data', train=False, download=True,\n",
    "                          transform=transform)\n",
    "\n",
    "indices = (neg_test_dataset.targets == 5)|(neg_test_dataset.targets == 6)|(neg_test_dataset.targets == 7)|(neg_test_dataset.targets == 8)|(neg_test_dataset.targets == 9)\n",
    "neg_test_dataset.data, neg_test_dataset.targets = neg_test_dataset.data[indices], torch.tensor([0]*len(neg_test_dataset.targets[indices]))\n",
    "\n",
    "neg_patterns_test_dataset = get_pattern_dataset(neg_test_dataset, neg_test_dataset.targets, model, layers, train_kwargs)\n",
    "\n",
    "merged_test_set = torch.utils.data.ConcatDataset([pos_patterns_test_dataset, neg_patterns_test_dataset])\n",
    "merged_test_loader = torch.utils.data.DataLoader(dataset=merged_test_set, **train_kwargs) "
   ]
  },
  {
   "cell_type": "markdown",
   "metadata": {},
   "source": [
    "#### Study the weight of the Pattern Classifier"
   ]
  },
  {
   "cell_type": "code",
   "execution_count": 48,
   "metadata": {},
   "outputs": [
    {
     "name": "stdout",
     "output_type": "stream",
     "text": [
      "200\n",
      "tensor([[ True,  True,  True,  True,  True,  True,  True,  True, False, False,\n",
      "         False,  True,  True,  True, False, False,  True,  True,  True,  True,\n",
      "          True,  True,  True, False,  True,  True,  True,  True,  True,  True,\n",
      "          True,  True, False, False,  True, False, False, False, False, False,\n",
      "         False, False, False, False,  True,  True,  True,  True,  True,  True,\n",
      "          True,  True,  True,  True,  True, False,  True, False,  True, False,\n",
      "          True,  True, False,  True, False, False,  True,  True, False, False,\n",
      "         False,  True,  True,  True,  True, False, False, False,  True,  True,\n",
      "          True,  True,  True,  True,  True,  True,  True,  True,  True,  True,\n",
      "          True,  True,  True, False,  True, False,  True, False,  True, False],\n",
      "        [ True,  True,  True,  True,  True, False,  True, False,  True,  True,\n",
      "          True,  True,  True,  True,  True,  True,  True,  True,  True,  True,\n",
      "          True,  True,  True,  True,  True,  True,  True,  True,  True,  True,\n",
      "         False,  True, False,  True, False, False, False, False, False, False,\n",
      "         False, False, False, False, False, False,  True,  True,  True,  True,\n",
      "          True,  True,  True,  True,  True,  True, False,  True, False,  True,\n",
      "          True, False,  True, False, False, False, False,  True, False, False,\n",
      "         False,  True,  True,  True, False,  True,  True, False,  True,  True,\n",
      "         False,  True, False, False,  True, False, False, False,  True,  True,\n",
      "          True,  True, False, False, False, False,  True, False, False, False]])\n",
      "tensor(126)\n",
      "0.63\n",
      "tensor([[False, False, False,  True,  True, False, False, False, False, False,\n",
      "         False, False, False, False, False, False, False, False,  True, False,\n",
      "         False, False, False, False, False, False, False, False, False, False,\n",
      "         False, False, False, False, False, False, False, False, False, False,\n",
      "         False, False, False, False, False, False, False, False, False, False,\n",
      "         False, False,  True, False, False, False, False, False, False, False,\n",
      "         False, False, False, False, False, False, False, False, False, False,\n",
      "         False, False,  True, False, False, False, False, False, False, False,\n",
      "         False, False,  True, False, False, False, False, False, False, False,\n",
      "          True, False, False, False, False, False, False, False, False, False],\n",
      "        [False, False, False, False, False, False, False, False, False, False,\n",
      "         False, False, False, False, False, False, False, False, False, False,\n",
      "         False, False, False, False, False, False, False,  True, False, False,\n",
      "         False, False, False, False, False, False, False, False, False, False,\n",
      "         False, False, False, False, False, False, False, False, False, False,\n",
      "         False, False, False, False, False, False, False, False, False, False,\n",
      "         False, False, False, False, False, False, False, False, False, False,\n",
      "         False,  True,  True, False, False, False, False, False, False, False,\n",
      "         False, False, False, False, False, False, False, False, False, False,\n",
      "         False, False, False, False, False, False, False, False, False, False]])\n",
      "tensor(10)\n",
      "0.05\n",
      "tensor([[False, False, False, False,  True, False, False, False, False, False,\n",
      "         False, False, False, False, False, False, False, False, False, False,\n",
      "         False, False, False, False, False, False, False, False, False, False,\n",
      "         False, False, False, False, False, False, False, False, False, False,\n",
      "         False, False, False, False, False, False, False, False, False, False,\n",
      "         False, False, False, False, False, False, False, False, False, False,\n",
      "         False, False, False, False, False, False, False, False, False, False,\n",
      "         False, False, False, False, False, False, False, False, False, False,\n",
      "         False, False, False, False, False, False, False, False, False, False,\n",
      "         False, False, False, False, False, False, False, False, False, False],\n",
      "        [False, False, False, False, False, False, False, False, False, False,\n",
      "         False, False, False, False, False, False, False, False, False, False,\n",
      "         False, False, False, False, False, False, False, False, False, False,\n",
      "         False, False, False, False, False, False, False, False, False, False,\n",
      "         False, False, False, False, False, False, False, False, False, False,\n",
      "         False, False, False, False, False, False, False, False, False, False,\n",
      "         False, False, False, False, False, False, False, False, False, False,\n",
      "         False,  True, False, False, False, False, False, False, False, False,\n",
      "         False, False, False, False, False, False, False, False, False, False,\n",
      "         False, False, False, False, False, False, False, False, False, False]])\n",
      "tensor(2)\n",
      "0.01\n",
      "& 0.63& 0.05& 0.01& tensor(0.2284) & tensor(0.0001)\n"
     ]
    }
   ],
   "source": [
    "w = pattern_model.fc1.weight.detach().cpu()\n",
    "n_unit = w.flatten().shape[0]\n",
    "print(n_unit)\n",
    "rec=\"\"\n",
    "for cap in [0.1, 0.01, 0.001]:\n",
    "    mask = w.abs() < cap\n",
    "    print(mask)\n",
    "    print(mask.sum())\n",
    "    print(mask.sum().item()/n_unit)\n",
    "    rec = rec +\"& {:.2f}\".format(mask.sum().item()/n_unit)\n",
    "rec = rec + \"& {} & {}\".format(str(w.abs().max()), str(w.abs().min()))\n",
    "print(rec)"
   ]
  },
  {
   "cell_type": "markdown",
   "metadata": {},
   "source": [
    "### Test the pattern classifer on the test pattern dataset"
   ]
  },
  {
   "cell_type": "code",
   "execution_count": null,
   "metadata": {},
   "outputs": [],
   "source": [
    "test(pattern_model, device, merged_test_loader)"
   ]
  },
  {
   "cell_type": "code",
   "execution_count": 8,
   "metadata": {},
   "outputs": [
    {
     "name": "stdout",
     "output_type": "stream",
     "text": [
      "tensor([[1],\n",
      "        [1],\n",
      "        [1],\n",
      "        [1],\n",
      "        [1],\n",
      "        [1],\n",
      "        [1],\n",
      "        [1],\n",
      "        [1],\n",
      "        [1]], device='cuda:0')\n",
      "tensor([[0],\n",
      "        [0],\n",
      "        [0],\n",
      "        [0],\n",
      "        [0],\n",
      "        [0],\n",
      "        [0],\n",
      "        [0],\n",
      "        [1],\n",
      "        [0]], device='cuda:0')\n"
     ]
    },
    {
     "data": {
      "image/png": "[encoded data removed]",
      "text/plain": [
       "<Figure size 432x288 with 1 Axes>"
      ]
     },
     "metadata": {
      "needs_background": "light"
     },
     "output_type": "display_data"
    }
   ],
   "source": [
    "from sklearn.decomposition import PCA\n",
    "pca = PCA(2)\n",
    "\n",
    "merged = np.concatenate([pos_patterns_dataset.patterns, neg_patterns_dataset.patterns])\n",
    "target = np.concatenate([pos_patterns_dataset.targets, neg_patterns_dataset.targets])\n",
    "Cs = [colors[t] for t in target]\n",
    "\n",
    "# print(merged.shape)\n",
    "# print(target)\n",
    "pca.fit(merged)\n",
    "Xs=  pca.transform(merged)\n",
    "plt.figure()\n",
    "plt.scatter(Xs[:,0], Xs[:,1], c = Cs)\n",
    "\n",
    "print(pattern_model(torch.tensor(pos_patterns_dataset.patterns[:10]).to(device).float()).argmax(dim=1, keepdim=True))\n",
    "print(pattern_model(torch.tensor(neg_patterns_dataset.patterns[:10]).to(device).float()).argmax(dim=1, keepdim=True))\n",
    "\n",
    "\n"
   ]
  },
  {
   "cell_type": "code",
   "execution_count": 9,
   "metadata": {},
   "outputs": [],
   "source": [
    "# patterns = test(pattern_model, device, merged_test_loader, trace=True)\n",
    "# pca = fit_pca(patterns, ['fc1'])\n",
    "# plot_pca(pattern_model, merged_test_loader, pca, ['fc1'])\n",
    "\n"
   ]
  },
  {
   "cell_type": "code",
   "execution_count": 10,
   "metadata": {},
   "outputs": [],
   "source": [
    "# pattern_model.fc1(torch.tensor(pos_patterns_dataset.patterns[:10]).to(device).float())"
   ]
  },
  {
   "cell_type": "code",
   "execution_count": 11,
   "metadata": {},
   "outputs": [
    {
     "name": "stdout",
     "output_type": "stream",
     "text": [
      "[False False False ... False False False] (2704,)\n",
      "[False False False ... False False False] (4608,)\n"
     ]
    },
    {
     "data": {
      "text/plain": [
       "<Figure size 1440x1440 with 0 Axes>"
      ]
     },
     "metadata": {},
     "output_type": "display_data"
    },
    {
     "data": {
      "image/png": "[encoded data removed]",
      "text/plain": [
       "<Figure size 432x288 with 5 Axes>"
      ]
     },
     "metadata": {
      "needs_background": "light"
     },
     "output_type": "display_data"
    },
    {
     "data": {
      "text/plain": [
       "<Figure size 2880x2880 with 0 Axes>"
      ]
     },
     "metadata": {},
     "output_type": "display_data"
    },
    {
     "data": {
      "image/png": "[encoded data removed]",
      "text/plain": [
       "<Figure size 432x288 with 9 Axes>"
      ]
     },
     "metadata": {
      "needs_background": "light"
     },
     "output_type": "display_data"
    }
   ],
   "source": [
    "\n",
    "inputs, classes = next(iter(train_loader))\n",
    "sampled_input = inputs[0]\n",
    "\n",
    "model.register_log()\n",
    "model(sampled_input.unsqueeze(0).to(device))\n",
    "log = copy.deepcopy(model.tensor_log)\n",
    "model.reset_hooks()\n",
    "\n",
    "def plot_activation(log):\n",
    "\n",
    "    print(log['conv1'][0], log['conv1'][0].shape)\n",
    "    print(log['conv2'][0], log['conv2'][0].shape)\n",
    "\n",
    "    plt.figure(figsize=(20,20))\n",
    "\n",
    "    fig, axs = plt.subplots(5)\n",
    "    for i in range(4):\n",
    "        axs[i].imshow(log['conv1'].reshape(4, 26, 26)[i], cmap='gray')\n",
    "    axs[-1].imshow(log['conv1'].reshape(1, 4*26*26)[:,:200], cmap='gray')\n",
    "\n",
    "    plt.figure(figsize=(40,40))\n",
    "    fig, axs = plt.subplots(9)\n",
    "\n",
    "    for i in range(8):\n",
    "        axs[i].imshow(log['conv2'].reshape(8, 24, 24)[i], cmap='gray')\n",
    "    axs[-1].imshow(log['conv2'].reshape(1, 8*24*24)[:,:200], cmap='gray')\n",
    "\n",
    "plot_activation(log)\n",
    "\n"
   ]
  },
  {
   "cell_type": "code",
   "execution_count": 12,
   "metadata": {},
   "outputs": [
    {
     "name": "stdout",
     "output_type": "stream",
     "text": [
      "Epsilon: 0.1\tTest Accuracy = 6812 / 10000 = 0.6812\n"
     ]
    }
   ],
   "source": [
    "test_loader = torch.utils.data.DataLoader(\n",
    "    datasets.MNIST('../data', train=False, download=True, transform=transforms.Compose([\n",
    "            transforms.ToTensor(),\n",
    "            ])),\n",
    "        batch_size=1, shuffle=True)\n",
    "\n",
    "\n",
    "\n",
    "\n",
    "accuracies = []\n",
    "examples = []\n",
    "\n",
    "# Run test for each epsilon\n",
    "acc, ex = gen_adv(model, device, test_loader, 0.1)\n",
    "accuracies.append(acc)\n",
    "\n"
   ]
  },
  {
   "cell_type": "code",
   "execution_count": 13,
   "metadata": {},
   "outputs": [
    {
     "name": "stdout",
     "output_type": "stream",
     "text": [
      "5 8\n",
      "[ True  True  True ... False False False] (2704,)\n",
      "[False False False ... False False False] (4608,)\n",
      "[ True  True  True ... False False False] (2704,)\n",
      "[False False False ... False False False] (4608,)\n"
     ]
    },
    {
     "data": {
      "text/plain": [
       "<Figure size 1440x1440 with 0 Axes>"
      ]
     },
     "metadata": {},
     "output_type": "display_data"
    },
    {
     "data": {
      "image/png": "[encoded data removed]",
      "text/plain": [
       "<Figure size 432x288 with 2 Axes>"
      ]
     },
     "metadata": {
      "needs_background": "light"
     },
     "output_type": "display_data"
    },
    {
     "data": {
      "text/plain": [
       "<Figure size 1440x1440 with 0 Axes>"
      ]
     },
     "metadata": {},
     "output_type": "display_data"
    },
    {
     "data": {
      "image/png": "[encoded data removed]",
      "text/plain": [
       "<Figure size 432x288 with 5 Axes>"
      ]
     },
     "metadata": {
      "needs_background": "light"
     },
     "output_type": "display_data"
    },
    {
     "data": {
      "text/plain": [
       "<Figure size 2880x2880 with 0 Axes>"
      ]
     },
     "metadata": {},
     "output_type": "display_data"
    },
    {
     "data": {
      "image/png": "[encoded data removed]",
      "text/plain": [
       "<Figure size 432x288 with 9 Axes>"
      ]
     },
     "metadata": {
      "needs_background": "light"
     },
     "output_type": "display_data"
    },
    {
     "data": {
      "text/plain": [
       "<Figure size 1440x1440 with 0 Axes>"
      ]
     },
     "metadata": {},
     "output_type": "display_data"
    },
    {
     "data": {
      "image/png": "[encoded data removed]",
      "text/plain": [
       "<Figure size 432x288 with 5 Axes>"
      ]
     },
     "metadata": {
      "needs_background": "light"
     },
     "output_type": "display_data"
    },
    {
     "data": {
      "text/plain": [
       "<Figure size 2880x2880 with 0 Axes>"
      ]
     },
     "metadata": {},
     "output_type": "display_data"
    },
    {
     "data": {
      "image/png": "[encoded data removed]",
      "text/plain": [
       "<Figure size 432x288 with 9 Axes>"
      ]
     },
     "metadata": {
      "needs_background": "light"
     },
     "output_type": "display_data"
    }
   ],
   "source": [
    "plt.figure(figsize=(20,20))\n",
    "print(ex[0][0], ex[0][1])\n",
    "fig, axs = plt.subplots(2)\n",
    "\n",
    "axs[0].imshow(ex[0][2], cmap='gray')\n",
    "axs[1].imshow(ex[0][3], cmap='gray')\n",
    "\n",
    "model.register_log()\n",
    "model(torch.tensor([[ex[0][2]]]).to(device))\n",
    "adv_log = copy.deepcopy(model.tensor_log)\n",
    "model.reset_hooks()\n",
    "\n",
    "plot_activation(adv_log)\n",
    "\n",
    "model.register_log()\n",
    "model(torch.tensor([[ex[0][3]]]).to(device))\n",
    "ori_log = copy.deepcopy(model.tensor_log)\n",
    "model.reset_hooks()\n",
    "\n",
    "plot_activation(ori_log)\n",
    "\n"
   ]
  },
  {
   "cell_type": "code",
   "execution_count": 17,
   "metadata": {},
   "outputs": [
    {
     "data": {
      "image/png": "[encoded data removed]",
      "text/plain": [
       "<Figure size 14400x144 with 1 Axes>"
      ]
     },
     "metadata": {
      "needs_background": "light"
     },
     "output_type": "display_data"
    }
   ],
   "source": [
    "plt.figure(figsize=(200,2))\n",
    "plt.imshow(pattern_model.fc1.weight.detach().cpu(), cmap = 'gray')\n",
    "plt.savefig('weight.png')\n",
    "\n",
    "w = pattern_model.fc1.weight.detach().cpu()\n"
   ]
  },
  {
   "cell_type": "code",
   "execution_count": 26,
   "metadata": {},
   "outputs": [
    {
     "data": {
      "text/plain": [
       "tensor(304)"
      ]
     },
     "execution_count": 26,
     "metadata": {},
     "output_type": "execute_result"
    }
   ],
   "source": []
  }
 ],
 "metadata": {
  "kernelspec": {
   "display_name": "Python 3.8.5 64-bit ('py38': conda)",
   "language": "python",
   "name": "python385jvsc74a57bd08e59bf3d6a50a7077d8acb216dbc16c3106fe79f55067c17dc666a40d74b6917"
  },
  "language_info": {
   "codemirror_mode": {
    "name": "ipython",
    "version": 3
   },
   "file_extension": ".py",
   "mimetype": "text/x-python",
   "name": "python",
   "nbconvert_exporter": "python",
   "pygments_lexer": "ipython3",
   "version": "3.8.5"
  }
 },
 "nbformat": 4,
 "nbformat_minor": 4
}
