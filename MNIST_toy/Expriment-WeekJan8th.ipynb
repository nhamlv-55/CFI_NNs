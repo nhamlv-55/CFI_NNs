{
 "cells": [
  {
   "cell_type": "code",
   "execution_count": 1,
   "metadata": {},
   "outputs": [],
   "source": [
    "from models import FeedforwardNeuralNetModel, TinyCNN, PatternClassifier\n",
    "import regularizer_losts as rl\n",
    "from torchvision import datasets, transforms\n",
    "from torch import optim\n",
    "import torch\n",
    "import torch.nn.functional as F\n",
    "from torch.optim.lr_scheduler import StepLR\n",
    "from tqdm import tqdm\n",
    "import copy\n",
    "import utils as CFI_utils\n",
    "from matplotlib import pyplot as plt\n",
    "import numpy as np\n",
    "%matplotlib inline\n",
    "\n",
    "import seaborn as sns\n",
    "colors = sns.color_palette(\"tab10\")\n",
    "\n",
    "#Logging stuffs\n",
    "import logging\n",
    "import sys\n",
    "# Create logger\n",
    "logger = logging.getLogger()\n",
    "logger.setLevel(logging.INFO)\n",
    "\n",
    "# Create STDERR handler\n",
    "handler = logging.StreamHandler(sys.stderr)\n",
    "# ch.setLevel(logging.DEBUG)\n",
    "\n",
    "# Create formatter and add it to the handler\n",
    "formatter = logging.Formatter('%(name)s - %(levelname)s - %(message)s')\n",
    "handler.setFormatter(formatter)\n",
    "\n",
    "# Set STDERR handler as the only handler \n",
    "logger.handlers = [handler]\n",
    "\n",
    "\n",
    "#configs\n",
    "epochs = 3\n",
    "batch_size = 128\n",
    "test_batch_size = 10000\n",
    "use_cuda = True\n",
    "lr = 1\n",
    "log_interval = 100\n",
    "LOAD = True\n",
    "LOADPATH = 'TinyCNN15:36:27'\n",
    "\n",
    "#torch specific configs\n",
    "torch.manual_seed(1)\n",
    "\n",
    "device = torch.device(\"cuda\")\n",
    "\n",
    "train_kwargs = {'batch_size': batch_size}\n",
    "test_kwargs = {'batch_size': test_batch_size}\n",
    "\n",
    "if use_cuda:\n",
    "    cuda_kwargs = {'num_workers': 1,\n",
    "                   'pin_memory': True,\n",
    "                   'shuffle': True}\n",
    "    train_kwargs.update(cuda_kwargs)\n",
    "    test_kwargs.update(cuda_kwargs)\n",
    "\n",
    "transform = transforms.Compose([\n",
    "    transforms.ToTensor(),\n",
    "    transforms.Normalize((0.1307,), (0.3081,))\n",
    "])"
   ]
  },
  {
   "cell_type": "markdown",
   "metadata": {},
   "source": [
    "## Agenda\n",
    "### Big question: CFI for NN\n",
    "\n",
    "### Backlog RQs: \n",
    "- BRQ1: Can we look at a random k entries in the weight instead of the first k?\n",
    "- BRQ2: What if we set all the small abs weight in the Pattern classifer to 0? what is the accuracy in that case?\n",
    "- BRQ3: Given an image and an l2-ball surrounding it, how many activation maps are there? (closely related to RQ1)\n",
    "- BRQ4: Given a simple attacking method (e.g, Fast gradient sign), build a dataset of activation maps of true and fake digits. Try to train a pattern classifier using that dataset."
   ]
  },
  {
   "cell_type": "code",
   "execution_count": 2,
   "metadata": {},
   "outputs": [],
   "source": [
    "#init stuffs\n",
    "dataset1 = datasets.MNIST('../data', train=True, download=True,\n",
    "                          transform=transform)\n",
    "dataset2 = datasets.MNIST('../data', train=False,\n",
    "                          transform=transform)\n",
    "train_loader = torch.utils.data.DataLoader(dataset1, **train_kwargs)\n",
    "test_loader = torch.utils.data.DataLoader(dataset2, **test_kwargs)\n",
    "\n",
    "# model = FeedforwardNeuralNetModel(28*28, 128, 10).to(device)\n",
    "model = TinyCNN().to(device)\n"
   ]
  },
  {
   "cell_type": "code",
   "execution_count": 3,
   "metadata": {},
   "outputs": [],
   "source": [
    "# try out cosine similarity\n",
    "# input1 = torch.randn(1,128)\n",
    "# input2 = torch.randn(1,128)\n",
    "# print(input1)\n",
    "# cos = torch.nn.CosineSimilarity(eps=1e-6)\n",
    "# output = torch.nn.functional.cosine_similarity(input1.squeeze(), input2.squeeze(), dim=0)\n",
    "# print(output)"
   ]
  },
  {
   "cell_type": "markdown",
   "metadata": {},
   "source": [
    "## RQ3: Would regularization results in a bigger number of path overlapping?"
   ]
  },
  {
   "cell_type": "code",
   "execution_count": 4,
   "metadata": {},
   "outputs": [
    {
     "name": "stderr",
     "output_type": "stream",
     "text": [
      "100%|██████████| 469/469 [17:13<00:00,  2.20s/batch, classification_loss=tensor(0.1835, device='cuda:0'), l1_loss=tensor(781.0552, device='cuda:0'), batch_activation_loss=tensor([-499.7247], device='cuda:0'), total_loss=tensor([2.9968], device='cuda:0')]  \n"
     ]
    },
    {
     "name": "stdout",
     "output_type": "stream",
     "text": [
      "\n",
      "Test set: Average loss: 0.1097, Accuracy: 9664/10000 (97%)\n",
      "\n"
     ]
    },
    {
     "name": "stderr",
     "output_type": "stream",
     "text": [
      "100%|██████████| 469/469 [17:44<00:00,  2.27s/batch, classification_loss=tensor(0.0540, device='cuda:0'), l1_loss=tensor(868.8811, device='cuda:0'), batch_activation_loss=tensor([-433.8981], device='cuda:0'), total_loss=tensor([4.4038], device='cuda:0')]  \n"
     ]
    },
    {
     "name": "stdout",
     "output_type": "stream",
     "text": [
      "\n",
      "Test set: Average loss: 0.0819, Accuracy: 9739/10000 (97%)\n",
      "\n"
     ]
    },
    {
     "name": "stderr",
     "output_type": "stream",
     "text": [
      "100%|██████████| 469/469 [17:47<00:00,  2.28s/batch, classification_loss=tensor(0.0552, device='cuda:0'), l1_loss=tensor(909.8728, device='cuda:0'), batch_activation_loss=tensor([-521.9935], device='cuda:0'), total_loss=tensor([3.9339], device='cuda:0')]  \n"
     ]
    },
    {
     "name": "stdout",
     "output_type": "stream",
     "text": [
      "\n",
      "Test set: Average loss: 0.0708, Accuracy: 9761/10000 (98%)\n",
      "\n"
     ]
    }
   ],
   "source": [
    "#training loop\n",
    "optimizer = optim.Adadelta(model.parameters(), lr=lr)\n",
    "\n",
    "scheduler = StepLR(optimizer, step_size=1, gamma = 0.7)\n",
    "model.train()\n",
    "# layers = ['conv1', 'conv2', 'fc1', 'fc2']\n",
    "layers = ['fc1', 'fc2']\n",
    "\n",
    "MAX_BATCH = 999999\n",
    "ALPHA = 0.01\n",
    "BETA = 0.01 \n",
    "for e in range(epochs):\n",
    "    counter = 0\n",
    "    with tqdm(train_loader, unit=\"batch\") as tepoch:\n",
    "        for data, target in tepoch:\n",
    "            if counter > MAX_BATCH:\n",
    "                break\n",
    "            counter+=1\n",
    "            model.register_log(detach=False)\n",
    "            data, target = data.to(device), target.to(device)\n",
    "            optimizer.zero_grad()\n",
    "            output = model(data.float())    \n",
    "\n",
    "            classification_loss = F.nll_loss(output, target)\n",
    "            l1_loss = rl.l1(model)\n",
    "            batch_activation_loss = rl.batch_activation_diff(model.tensor_log, target, layers)\n",
    "\n",
    "            loss = classification_loss \\\n",
    "                    + ALPHA*l1_loss \\\n",
    "                    + BETA*batch_activation_loss\n",
    "            \n",
    "            tepoch.set_postfix({\"classification_loss\": classification_loss.data, \n",
    "                                \"l1_loss\": l1_loss.data, \n",
    "                                \"batch_activation_loss\": batch_activation_loss.data, \n",
    "                                \"total_loss\": loss.data\n",
    "                               })\n",
    "\n",
    "            \n",
    "            loss.backward()\n",
    "            optimizer.step()\n",
    "\n",
    "            model.reset_hooks()\n",
    "        \n",
    "    test(model, device, test_loader)\n",
    "\n",
    "    scheduler.step()\n",
    "    "
   ]
  },
  {
   "cell_type": "code",
   "execution_count": 8,
   "metadata": {},
   "outputs": [
    {
     "name": "stdout",
     "output_type": "stream",
     "text": [
      "(7, 26)\n",
      "(20, 26)\n"
     ]
    }
   ],
   "source": [
    "#how many unique paths are there?\n",
    "layers = [ 'fc1','fc2']\n",
    "tensor_log = test(model, device, test_loader, trace= True, detach=True)\n",
    "tensor_log_flatten = np.concatenate([tensor_log[l] for l in layers], axis = 1)\n",
    "print(np.unique(tensor_log_flatten, axis=0).shape)\n",
    "\n",
    "train_tensor_log = test(model, device, train_loader, trace= True, detach=True)\n",
    "train_tensor_log_flatten = np.concatenate([train_tensor_log[l] for l in layers], axis = 1)\n",
    "print(np.unique(train_tensor_log_flatten, axis=0).shape)\n"
   ]
  },
  {
   "cell_type": "markdown",
   "metadata": {},
   "source": [
    "ALPHA = 0\n",
    "BETA = 0\n",
    "(3522, 26)\n",
    "(9968, 26)\n",
    "\n",
    "regulate all layers, checking path collision in\n",
    "layers = ['fc1','fc2']\n",
    "ALPHA = 0.01\n",
    "BETA = 0.01 \n",
    "(1069, 26)\n",
    "(2404, 26)\n",
    "\n",
    "\n"
   ]
  },
  {
   "cell_type": "markdown",
   "metadata": {},
   "source": [
    " # RQ4: Given an image and an l2-ball surrounding it, how many activation maps are there?\n",
    " Subtask 1: get a random image (called Target), set EPSILON, then sample N_SAMPLES in its EPSILON ball\n",
    " \n",
    " Subtask 2: run Target and all N_SAMPLES samples through the network. Compute their bit_diff (defined in utils)\n",
    " \n",
    " ## Result summary:\n",
    " - The activation patterns in the ball are very close to the target, much smaller than compared with the closest example, or compared with the adv example\n",
    " - The bigger the ball, the bigger the diff, but still very small\n",
    " "
   ]
  },
  {
   "cell_type": "code",
   "execution_count": null,
   "metadata": {},
   "outputs": [
    {
     "name": "stdout",
     "output_type": "stream",
     "text": [
      "9.982497297520833\n",
      "9.94813775018293\n",
      "9.974669971691768\n",
      "9.991008590818328\n",
      "9.999864076035708\n",
      "9.993616381124935\n",
      "9.99184001163596\n",
      "9.979487555447935\n",
      "9.987402253271508\n",
      "9.996437491406999\n"
     ]
    },
    {
     "data": {
      "image/png": "[encoded data removed]",
      "text/plain": [
       "<Figure size 432x288 with 1 Axes>"
      ]
     },
     "metadata": {
      "needs_background": "light"
     },
     "output_type": "display_data"
    },
    {
     "data": {
      "image/png": "[encoded data removed]",
      "text/plain": [
       "<Figure size 432x288 with 1 Axes>"
      ]
     },
     "metadata": {
      "needs_background": "light"
     },
     "output_type": "display_data"
    },
    {
     "data": {
      "image/png": "[encoded data removed]",
      "text/plain": [
       "<Figure size 432x288 with 1 Axes>"
      ]
     },
     "metadata": {
      "needs_background": "light"
     },
     "output_type": "display_data"
    },
    {
     "data": {
      "image/png": "[encoded data removed]",
      "text/plain": [
       "<Figure size 432x288 with 1 Axes>"
      ]
     },
     "metadata": {
      "needs_background": "light"
     },
     "output_type": "display_data"
    },
    {
     "data": {
      "image/png": "[encoded data removed]",
      "text/plain": [
       "<Figure size 432x288 with 1 Axes>"
      ]
     },
     "metadata": {
      "needs_background": "light"
     },
     "output_type": "display_data"
    },
    {
     "data": {
      "image/png": "[encoded data removed]",
      "text/plain": [
       "<Figure size 432x288 with 1 Axes>"
      ]
     },
     "metadata": {
      "needs_background": "light"
     },
     "output_type": "display_data"
    },
    {
     "data": {
      "image/png": "[encoded data removed]",
      "text/plain": [
       "<Figure size 432x288 with 1 Axes>"
      ]
     },
     "metadata": {
      "needs_background": "light"
     },
     "output_type": "display_data"
    },
    {
     "data": {
      "image/png": "[encoded data removed]",
      "text/plain": [
       "<Figure size 432x288 with 1 Axes>"
      ]
     },
     "metadata": {
      "needs_background": "light"
     },
     "output_type": "display_data"
    },
    {
     "data": {
      "image/png": "[encoded data removed]",
      "text/plain": [
       "<Figure size 432x288 with 1 Axes>"
      ]
     },
     "metadata": {
      "needs_background": "light"
     },
     "output_type": "display_data"
    },
    {
     "data": {
      "image/png": "[encoded data removed]",
      "text/plain": [
       "<Figure size 432x288 with 1 Axes>"
      ]
     },
     "metadata": {
      "needs_background": "light"
     },
     "output_type": "display_data"
    }
   ],
   "source": [
    "#get a random images and sample in the ball surrounding it\n",
    "EPSILON = 10\n",
    "random, _ = next(iter(train_loader))\n",
    "random = random[0]\n",
    "#plot original sample\n",
    "plt.figure()\n",
    "plt.imshow(random.squeeze())\n",
    "random_flatten = random.flatten().detach().numpy()\n",
    "samples = CFI_utils.sampling_inside_ball(10, random.flatten().shape[0], r=EPSILON, origin=random_flatten)\n",
    "#plot the samples inside the ball\n",
    "for s in samples:\n",
    "    #check norm\n",
    "    print(np.linalg.norm(s-random_flatten))\n",
    "    plt.figure()\n",
    "    plt.imshow(s.reshape(28, 28))"
   ]
  },
  {
   "cell_type": "code",
   "execution_count": 9,
   "metadata": {},
   "outputs": [
    {
     "name": "stdout",
     "output_type": "stream",
     "text": [
      "\n",
      "Sample 0\n",
      "vs target: conv1 26 / 2704 0.009615384615384616\n",
      "vs target: conv2 34 / 4608 0.007378472222222222\n",
      "vs target: fc1 1 / 16 0.0625\n",
      "vs target: fc2 0 / 10 0.0\n",
      "Sample 1\n",
      "vs target: conv1 16 / 2704 0.005917159763313609\n",
      "vs target: conv2 33 / 4608 0.007161458333333333\n",
      "vs target: fc1 0 / 16 0.0\n",
      "vs target: fc2 0 / 10 0.0\n",
      "Sample 2\n",
      "vs target: conv1 12 / 2704 0.004437869822485207\n",
      "vs target: conv2 38 / 4608 0.008246527777777778\n",
      "vs target: fc1 0 / 16 0.0\n",
      "vs target: fc2 0 / 10 0.0\n",
      "Sample 3\n",
      "vs target: conv1 18 / 2704 0.006656804733727811\n",
      "vs target: conv2 33 / 4608 0.007161458333333333\n",
      "vs target: fc1 0 / 16 0.0\n",
      "vs target: fc2 0 / 10 0.0\n",
      "Sample 4\n",
      "vs target: conv1 10 / 2704 0.0036982248520710057\n",
      "vs target: conv2 41 / 4608 0.008897569444444444\n",
      "vs target: fc1 1 / 16 0.0625\n",
      "vs target: fc2 0 / 10 0.0\n",
      "Sample 5\n",
      "vs target: conv1 20 / 2704 0.0073964497041420114\n",
      "vs target: conv2 37 / 4608 0.008029513888888888\n",
      "vs target: fc1 0 / 16 0.0\n",
      "vs target: fc2 0 / 10 0.0\n",
      "Sample 6\n",
      "vs target: conv1 19 / 2704 0.0070266272189349116\n",
      "vs target: conv2 23 / 4608 0.004991319444444444\n",
      "vs target: fc1 0 / 16 0.0\n",
      "vs target: fc2 0 / 10 0.0\n",
      "Sample 7\n",
      "vs target: conv1 21 / 2704 0.007766272189349112\n",
      "vs target: conv2 41 / 4608 0.008897569444444444\n",
      "vs target: fc1 0 / 16 0.0\n",
      "vs target: fc2 0 / 10 0.0\n",
      "Sample 8\n",
      "vs target: conv1 19 / 2704 0.0070266272189349116\n",
      "vs target: conv2 38 / 4608 0.008246527777777778\n",
      "vs target: fc1 0 / 16 0.0\n",
      "vs target: fc2 0 / 10 0.0\n",
      "Sample 9\n",
      "vs target: conv1 24 / 2704 0.008875739644970414\n",
      "vs target: conv2 40 / 4608 0.008680555555555556\n",
      "vs target: fc1 0 / 16 0.0\n",
      "vs target: fc2 0 / 10 0.0\n"
     ]
    }
   ],
   "source": [
    "#load a model\n",
    "rq4_model = TinyCNN().to(device)\n",
    "\n",
    "if LOAD:\n",
    "    rq4_model.load_state_dict(torch.load(LOADPATH))\n",
    "    \n",
    "#get patterns\n",
    "target_pattern = CFI_utils.get_pattern(model, device, random.unsqueeze(0))\n",
    "layers = ['conv1', 'conv2', 'fc1', 'fc2']\n",
    "\n",
    "print()\n",
    "for idx, s in enumerate(samples):\n",
    "    print(\"Sample {}\".format(idx))\n",
    "    s_pattern = CFI_utils.get_pattern(model, device, torch.Tensor(s).reshape(28,28).unsqueeze(0).unsqueeze(0))\n",
    "    for layer in layers:\n",
    "        s_pattern_flatten = np.concatenate([s_pattern[l] for l in [layer]], axis = 1)\n",
    "        target_pattern_flatten = np.concatenate([target_pattern[l] for l in [layer]], axis = 1)\n",
    "        print(\"vs target:\", layer, CFI_utils.bit_diff(s_pattern_flatten, target_pattern_flatten), \"/\", \n",
    "              len(s_pattern_flatten[0]), CFI_utils.bit_diff(s_pattern_flatten, target_pattern_flatten)/len(s_pattern_flatten[0]))\n"
   ]
  }
 ],
 "metadata": {
  "kernelspec": {
   "display_name": "Python 3.8.5 64-bit ('py38': conda)",
   "language": "python",
   "name": "python385jvsc74a57bd08e59bf3d6a50a7077d8acb216dbc16c3106fe79f55067c17dc666a40d74b6917"
  },
  "language_info": {
   "codemirror_mode": {
    "name": "ipython",
    "version": 3
   },
   "file_extension": ".py",
   "mimetype": "text/x-python",
   "name": "python",
   "nbconvert_exporter": "python",
   "pygments_lexer": "ipython3",
   "version": "3.8.5"
  }
 },
 "nbformat": 4,
 "nbformat_minor": 4
}
