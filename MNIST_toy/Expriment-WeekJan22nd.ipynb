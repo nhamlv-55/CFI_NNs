{
 "cells": [
  {
   "cell_type": "code",
   "execution_count": 1,
   "metadata": {},
   "outputs": [],
   "source": [
    "from models import FeedforwardNeuralNetModel, TinyCNN, PatternClassifier\n",
    "import regularizer_losts as rl\n",
    "from torchvision import datasets, transforms\n",
    "from torch import optim\n",
    "import torch\n",
    "import torch.nn.functional as F\n",
    "from torch.optim.lr_scheduler import StepLR\n",
    "from tqdm import tqdm\n",
    "import copy\n",
    "import utils as CFI_utils\n",
    "from matplotlib import pyplot as plt\n",
    "import numpy as np\n",
    "from collections import defaultdict\n",
    "%matplotlib inline\n",
    "\n",
    "import seaborn as sns\n",
    "colors = sns.color_palette(\"tab10\")\n",
    "\n",
    "#Logging stuffs\n",
    "import logging\n",
    "import sys\n",
    "# Create logger\n",
    "logger = logging.getLogger()\n",
    "logger.setLevel(logging.INFO)\n",
    "\n",
    "# Create STDERR handler\n",
    "handler = logging.StreamHandler(sys.stderr)\n",
    "# ch.setLevel(logging.DEBUG)\n",
    "\n",
    "# Create formatter and add it to the handler\n",
    "formatter = logging.Formatter('%(name)s - %(levelname)s - %(message)s')\n",
    "handler.setFormatter(formatter)\n",
    "\n",
    "# Set STDERR handler as the only handler \n",
    "logger.handlers = [handler]\n",
    "\n",
    "\n",
    "#configs\n",
    "epochs = 10\n",
    "batch_size = 1000\n",
    "test_batch_size = 10000\n",
    "use_cuda = True\n",
    "lr = 0.01\n",
    "log_interval = 100\n",
    "\n",
    "\n",
    "#torch specific configs\n",
    "torch.manual_seed(1)\n",
    "\n",
    "device = torch.device(\"cuda\")\n",
    "\n",
    "train_kwargs = {'batch_size': batch_size}\n",
    "test_kwargs = {'batch_size': test_batch_size}\n",
    "\n",
    "if use_cuda:\n",
    "    cuda_kwargs = {'num_workers': 1,\n",
    "                   'pin_memory': True,\n",
    "                   'shuffle': True}\n",
    "    train_kwargs.update(cuda_kwargs)\n",
    "    test_kwargs.update(cuda_kwargs)\n",
    "\n",
    "transform = transforms.Compose([\n",
    "    transforms.ToTensor(),\n",
    "    transforms.Normalize((0.1307,), (0.3081,))\n",
    "])"
   ]
  },
  {
   "cell_type": "markdown",
   "metadata": {},
   "source": [
    "## Agenda\n",
    "### Big question: CFI for NN\n",
    "\n",
    "\n",
    "Are we doing complete verification or fuzzing/testing?\n",
    "\n",
    "What is a `CFI`?\n",
    "\n",
    "# What is a good abstraction for a NN's structure? Can it be enforced through regularization?\n",
    "- Distillation? (https://arxiv.org/pdf/1503.02531.pdf)\n",
    "- Decision Tree? (https://arxiv.org/pdf/1711.09784.pdf)\n",
    "- Model Extraction? (https://arxiv.org/pdf/2003.04884.pdf)\n",
    "\n",
    "\n",
    "### Where are we?\n",
    "We want to do CFI for NN\n",
    "\n",
    "## Question: Do we want to verify each AP separately? Or we want to tell the difference between activation patterns of real images from fake one using a method M and verify M?\n",
    "\n",
    "\n",
    "\n",
    "## Option 1: We want to verify each AP separately (we are here)\n",
    "To be able to do so, we need\n",
    "\n",
    "### Condition 1: The number of activation patterns for a neural networks has to be way smaller than the size of the training/test set.\n",
    "#### Why: \n",
    "\n",
    "  If every input results in a different AP, given an AP, very likely during infer time every input will have its own AP, so we have to reject it\n",
    "\n",
    "  We want to verify each AP separately, so smaller the number the better\n",
    "\n",
    "#### Progress: \n",
    "\n",
    "  with the current regularization effort, we have been able to reduce the number of AP to about 20k for 60k input.\n",
    "\n",
    "#### Aim: \n",
    "\n",
    "Reduce to about few hundreds\n",
    "\n",
    "#### Tricky part: \n",
    "\n",
    "Given a network of N layers, we can limit the number of activation patterns by only looking at k < N layers. Question: which k? \n",
    "\n",
    "### Condition 2: All, or most, of the activation patterns of the test set has to be covered by the AP of the training set\n",
    "#### Why: \n",
    "If the activation patterns in the test set are completely different from the training set, there would be too many false negative at the inferencing time\n",
    "#### Progress: \n",
    "Possible, but with a big caveat: the fake AP is now also included in the set\n",
    "\n",
    "### Condition 3: Given an adv exp, its AP cannot be in the training AP set.\n",
    "#### Progress:\n",
    "Currently, if Cond.2 is satisfied, then 3 is not.\n",
    "\n",
    "\n",
    "## Option 2: Train the network s.t the fake AP and real AP can be separated by some methods (linear classifier or a small neural net)\n",
    "\n",
    "## What are the state-of-the-art attacks and defences?\n",
    "\n",
    "\n",
    "## Backlog RQs: \n",
    "- BRQ1: Can we look at a random k entries in the weight instead of the first k?\n",
    "- BRQ2: What if we set all the small abs weight in the Pattern classifer to 0? what is the accuracy in that case?\n",
    "- BRQ4: Given a simple attacking method (e.g, Fast gradient sign), build a dataset of activation maps of true and fake digits. Try to train a pattern classifier using that dataset.\n",
    "- __BRQ5: Given a target and its corresponding adv. exp, can we gradually move in the in-between space to see at which point the label is changed?__\n",
    "\n",
    "\n"
   ]
  },
  {
   "cell_type": "code",
   "execution_count": 95,
   "metadata": {},
   "outputs": [
    {
     "name": "stderr",
     "output_type": "stream",
     "text": [
      "  0%|          | 0/30 [00:00<?, ?it/s]root - INFO - After 1 epoch:\n",
      "root - INFO - CHECKING GRADIENT FOR LABEL 0\n",
      "root - INFO - After 1 epoch:\n",
      "root - INFO - CHECKING GRADIENT FOR LABEL 1\n",
      "root - INFO - After 1 epoch:\n",
      "root - INFO - CHECKING GRADIENT FOR LABEL 2\n",
      "root - INFO - After 1 epoch:\n",
      "root - INFO - CHECKING GRADIENT FOR LABEL 3\n",
      "root - INFO - After 1 epoch:\n",
      "root - INFO - CHECKING GRADIENT FOR LABEL 4\n",
      "root - INFO - After 1 epoch:\n",
      "root - INFO - CHECKING GRADIENT FOR LABEL 5\n",
      "root - INFO - After 1 epoch:\n",
      "root - INFO - CHECKING GRADIENT FOR LABEL 6\n",
      "root - INFO - After 1 epoch:\n",
      "root - INFO - CHECKING GRADIENT FOR LABEL 7\n",
      "root - INFO - After 1 epoch:\n",
      "root - INFO - CHECKING GRADIENT FOR LABEL 8\n",
      "root - INFO - After 1 epoch:\n",
      "root - INFO - CHECKING GRADIENT FOR LABEL 9\n",
      "  3%|▎         | 1/30 [00:18<09:09, 18.95s/it]"
     ]
    },
    {
     "name": "stdout",
     "output_type": "stream",
     "text": [
      "\n",
      "Test set: Average loss: 2.2824, Accuracy: 1229/10000 (12%)\n",
      "\n"
     ]
    },
    {
     "name": "stderr",
     "output_type": "stream",
     "text": [
      "root - INFO - After 2 epoch:\n",
      "root - INFO - CHECKING GRADIENT FOR LABEL 0\n",
      "root - INFO - After 2 epoch:\n",
      "root - INFO - CHECKING GRADIENT FOR LABEL 1\n",
      "root - INFO - After 2 epoch:\n",
      "root - INFO - CHECKING GRADIENT FOR LABEL 2\n",
      "root - INFO - After 2 epoch:\n",
      "root - INFO - CHECKING GRADIENT FOR LABEL 3\n",
      "root - INFO - After 2 epoch:\n",
      "root - INFO - CHECKING GRADIENT FOR LABEL 4\n",
      "root - INFO - After 2 epoch:\n",
      "root - INFO - CHECKING GRADIENT FOR LABEL 5\n",
      "root - INFO - After 2 epoch:\n",
      "root - INFO - CHECKING GRADIENT FOR LABEL 6\n",
      "root - INFO - After 2 epoch:\n",
      "root - INFO - CHECKING GRADIENT FOR LABEL 7\n",
      "root - INFO - After 2 epoch:\n",
      "root - INFO - CHECKING GRADIENT FOR LABEL 8\n",
      "root - INFO - After 2 epoch:\n",
      "root - INFO - CHECKING GRADIENT FOR LABEL 9\n",
      "  7%|▋         | 2/30 [00:37<08:50, 18.95s/it]"
     ]
    },
    {
     "name": "stdout",
     "output_type": "stream",
     "text": [
      "\n",
      "Test set: Average loss: 2.2520, Accuracy: 2461/10000 (25%)\n",
      "\n"
     ]
    },
    {
     "name": "stderr",
     "output_type": "stream",
     "text": [
      "root - INFO - After 3 epoch:\n",
      "root - INFO - CHECKING GRADIENT FOR LABEL 0\n",
      "root - INFO - After 3 epoch:\n",
      "root - INFO - CHECKING GRADIENT FOR LABEL 1\n",
      "root - INFO - After 3 epoch:\n",
      "root - INFO - CHECKING GRADIENT FOR LABEL 2\n",
      "root - INFO - After 3 epoch:\n",
      "root - INFO - CHECKING GRADIENT FOR LABEL 3\n",
      "root - INFO - After 3 epoch:\n",
      "root - INFO - CHECKING GRADIENT FOR LABEL 4\n",
      "root - INFO - After 3 epoch:\n",
      "root - INFO - CHECKING GRADIENT FOR LABEL 5\n",
      "root - INFO - After 3 epoch:\n",
      "root - INFO - CHECKING GRADIENT FOR LABEL 6\n",
      "root - INFO - After 3 epoch:\n",
      "root - INFO - CHECKING GRADIENT FOR LABEL 7\n",
      "root - INFO - After 3 epoch:\n",
      "root - INFO - CHECKING GRADIENT FOR LABEL 8\n",
      "root - INFO - After 3 epoch:\n",
      "root - INFO - CHECKING GRADIENT FOR LABEL 9\n",
      " 10%|█         | 3/30 [00:56<08:31, 18.96s/it]"
     ]
    },
    {
     "name": "stdout",
     "output_type": "stream",
     "text": [
      "\n",
      "Test set: Average loss: 2.2055, Accuracy: 4041/10000 (40%)\n",
      "\n"
     ]
    },
    {
     "name": "stderr",
     "output_type": "stream",
     "text": [
      "root - INFO - After 4 epoch:\n",
      "root - INFO - CHECKING GRADIENT FOR LABEL 0\n",
      "root - INFO - After 4 epoch:\n",
      "root - INFO - CHECKING GRADIENT FOR LABEL 1\n",
      "root - INFO - After 4 epoch:\n",
      "root - INFO - CHECKING GRADIENT FOR LABEL 2\n",
      "root - INFO - After 4 epoch:\n",
      "root - INFO - CHECKING GRADIENT FOR LABEL 3\n",
      "root - INFO - After 4 epoch:\n",
      "root - INFO - CHECKING GRADIENT FOR LABEL 4\n",
      "root - INFO - After 4 epoch:\n",
      "root - INFO - CHECKING GRADIENT FOR LABEL 5\n",
      "root - INFO - After 4 epoch:\n",
      "root - INFO - CHECKING GRADIENT FOR LABEL 6\n",
      "root - INFO - After 4 epoch:\n",
      "root - INFO - CHECKING GRADIENT FOR LABEL 7\n",
      "root - INFO - After 4 epoch:\n",
      "root - INFO - CHECKING GRADIENT FOR LABEL 8\n",
      "root - INFO - After 4 epoch:\n",
      "root - INFO - CHECKING GRADIENT FOR LABEL 9\n",
      " 13%|█▎        | 4/30 [01:15<08:12, 18.95s/it]"
     ]
    },
    {
     "name": "stdout",
     "output_type": "stream",
     "text": [
      "\n",
      "Test set: Average loss: 2.1264, Accuracy: 4767/10000 (48%)\n",
      "\n"
     ]
    },
    {
     "name": "stderr",
     "output_type": "stream",
     "text": [
      "root - INFO - After 5 epoch:\n",
      "root - INFO - CHECKING GRADIENT FOR LABEL 0\n",
      "root - INFO - After 5 epoch:\n",
      "root - INFO - CHECKING GRADIENT FOR LABEL 1\n",
      "root - INFO - After 5 epoch:\n",
      "root - INFO - CHECKING GRADIENT FOR LABEL 2\n",
      "root - INFO - After 5 epoch:\n",
      "root - INFO - CHECKING GRADIENT FOR LABEL 3\n",
      "root - INFO - After 5 epoch:\n",
      "root - INFO - CHECKING GRADIENT FOR LABEL 4\n",
      "root - INFO - After 5 epoch:\n",
      "root - INFO - CHECKING GRADIENT FOR LABEL 5\n",
      "root - INFO - After 5 epoch:\n",
      "root - INFO - CHECKING GRADIENT FOR LABEL 6\n",
      "root - INFO - After 5 epoch:\n",
      "root - INFO - CHECKING GRADIENT FOR LABEL 7\n",
      "root - INFO - After 5 epoch:\n",
      "root - INFO - CHECKING GRADIENT FOR LABEL 8\n",
      "root - INFO - After 5 epoch:\n",
      "root - INFO - CHECKING GRADIENT FOR LABEL 9\n",
      " 17%|█▋        | 5/30 [01:34<07:54, 18.98s/it]"
     ]
    },
    {
     "name": "stdout",
     "output_type": "stream",
     "text": [
      "\n",
      "Test set: Average loss: 1.9888, Accuracy: 4810/10000 (48%)\n",
      "\n"
     ]
    },
    {
     "name": "stderr",
     "output_type": "stream",
     "text": [
      "root - INFO - After 6 epoch:\n",
      "root - INFO - CHECKING GRADIENT FOR LABEL 0\n",
      "root - INFO - After 6 epoch:\n",
      "root - INFO - CHECKING GRADIENT FOR LABEL 1\n",
      "root - INFO - After 6 epoch:\n",
      "root - INFO - CHECKING GRADIENT FOR LABEL 2\n",
      "root - INFO - After 6 epoch:\n",
      "root - INFO - CHECKING GRADIENT FOR LABEL 3\n",
      "root - INFO - After 6 epoch:\n",
      "root - INFO - CHECKING GRADIENT FOR LABEL 4\n",
      "root - INFO - After 6 epoch:\n",
      "root - INFO - CHECKING GRADIENT FOR LABEL 5\n",
      "root - INFO - After 6 epoch:\n",
      "root - INFO - CHECKING GRADIENT FOR LABEL 6\n",
      "root - INFO - After 6 epoch:\n",
      "root - INFO - CHECKING GRADIENT FOR LABEL 7\n",
      "root - INFO - After 6 epoch:\n",
      "root - INFO - CHECKING GRADIENT FOR LABEL 8\n",
      "root - INFO - After 6 epoch:\n",
      "root - INFO - CHECKING GRADIENT FOR LABEL 9\n",
      " 20%|██        | 6/30 [01:53<07:34, 18.93s/it]"
     ]
    },
    {
     "name": "stdout",
     "output_type": "stream",
     "text": [
      "\n",
      "Test set: Average loss: 1.7715, Accuracy: 5217/10000 (52%)\n",
      "\n"
     ]
    },
    {
     "name": "stderr",
     "output_type": "stream",
     "text": [
      "root - INFO - After 7 epoch:\n",
      "root - INFO - CHECKING GRADIENT FOR LABEL 0\n",
      "root - INFO - After 7 epoch:\n",
      "root - INFO - CHECKING GRADIENT FOR LABEL 1\n",
      "root - INFO - After 7 epoch:\n",
      "root - INFO - CHECKING GRADIENT FOR LABEL 2\n",
      "root - INFO - After 7 epoch:\n",
      "root - INFO - CHECKING GRADIENT FOR LABEL 3\n",
      "root - INFO - After 7 epoch:\n",
      "root - INFO - CHECKING GRADIENT FOR LABEL 4\n",
      "root - INFO - After 7 epoch:\n",
      "root - INFO - CHECKING GRADIENT FOR LABEL 5\n",
      "root - INFO - After 7 epoch:\n",
      "root - INFO - CHECKING GRADIENT FOR LABEL 6\n",
      "root - INFO - After 7 epoch:\n",
      "root - INFO - CHECKING GRADIENT FOR LABEL 7\n",
      "root - INFO - After 7 epoch:\n",
      "root - INFO - CHECKING GRADIENT FOR LABEL 8\n",
      "root - INFO - After 7 epoch:\n",
      "root - INFO - CHECKING GRADIENT FOR LABEL 9\n",
      " 23%|██▎       | 7/30 [02:12<07:15, 18.94s/it]"
     ]
    },
    {
     "name": "stdout",
     "output_type": "stream",
     "text": [
      "\n",
      "Test set: Average loss: 1.4886, Accuracy: 6385/10000 (64%)\n",
      "\n"
     ]
    },
    {
     "name": "stderr",
     "output_type": "stream",
     "text": [
      "root - INFO - After 8 epoch:\n",
      "root - INFO - CHECKING GRADIENT FOR LABEL 0\n",
      "root - INFO - After 8 epoch:\n",
      "root - INFO - CHECKING GRADIENT FOR LABEL 1\n",
      "root - INFO - After 8 epoch:\n",
      "root - INFO - CHECKING GRADIENT FOR LABEL 2\n",
      "root - INFO - After 8 epoch:\n",
      "root - INFO - CHECKING GRADIENT FOR LABEL 3\n",
      "root - INFO - After 8 epoch:\n",
      "root - INFO - CHECKING GRADIENT FOR LABEL 4\n",
      "root - INFO - After 8 epoch:\n",
      "root - INFO - CHECKING GRADIENT FOR LABEL 5\n",
      "root - INFO - After 8 epoch:\n",
      "root - INFO - CHECKING GRADIENT FOR LABEL 6\n",
      "root - INFO - After 8 epoch:\n",
      "root - INFO - CHECKING GRADIENT FOR LABEL 7\n",
      "root - INFO - After 8 epoch:\n",
      "root - INFO - CHECKING GRADIENT FOR LABEL 8\n",
      "root - INFO - After 8 epoch:\n",
      "root - INFO - CHECKING GRADIENT FOR LABEL 9\n",
      " 27%|██▋       | 8/30 [02:31<06:57, 18.97s/it]"
     ]
    },
    {
     "name": "stdout",
     "output_type": "stream",
     "text": [
      "\n",
      "Test set: Average loss: 1.1968, Accuracy: 7233/10000 (72%)\n",
      "\n"
     ]
    },
    {
     "name": "stderr",
     "output_type": "stream",
     "text": [
      "root - INFO - After 9 epoch:\n",
      "root - INFO - CHECKING GRADIENT FOR LABEL 0\n",
      "root - INFO - After 9 epoch:\n",
      "root - INFO - CHECKING GRADIENT FOR LABEL 1\n",
      "root - INFO - After 9 epoch:\n",
      "root - INFO - CHECKING GRADIENT FOR LABEL 2\n",
      "root - INFO - After 9 epoch:\n",
      "root - INFO - CHECKING GRADIENT FOR LABEL 3\n",
      "root - INFO - After 9 epoch:\n",
      "root - INFO - CHECKING GRADIENT FOR LABEL 4\n",
      "root - INFO - After 9 epoch:\n",
      "root - INFO - CHECKING GRADIENT FOR LABEL 5\n",
      "root - INFO - After 9 epoch:\n",
      "root - INFO - CHECKING GRADIENT FOR LABEL 6\n",
      "root - INFO - After 9 epoch:\n",
      "root - INFO - CHECKING GRADIENT FOR LABEL 7\n",
      "root - INFO - After 9 epoch:\n",
      "root - INFO - CHECKING GRADIENT FOR LABEL 8\n",
      "root - INFO - After 9 epoch:\n",
      "root - INFO - CHECKING GRADIENT FOR LABEL 9\n",
      " 30%|███       | 9/30 [02:50<06:38, 18.99s/it]"
     ]
    },
    {
     "name": "stdout",
     "output_type": "stream",
     "text": [
      "\n",
      "Test set: Average loss: 0.9702, Accuracy: 7757/10000 (78%)\n",
      "\n"
     ]
    },
    {
     "name": "stderr",
     "output_type": "stream",
     "text": [
      "root - INFO - After 10 epoch:\n",
      "root - INFO - CHECKING GRADIENT FOR LABEL 0\n",
      "root - INFO - k = 100. How many top Gradients are stable among all last 10 epochs?: 64\n",
      "root - INFO - k = 200. How many top Gradients are stable among all last 10 epochs?: 120\n",
      "root - INFO - k = 300. How many top Gradients are stable among all last 10 epochs?: 235\n",
      "root - INFO - k = 400. How many top Gradients are stable among all last 10 epochs?: 363\n",
      "root - INFO - After 10 epoch:\n",
      "root - INFO - CHECKING GRADIENT FOR LABEL 1\n",
      "root - INFO - k = 100. How many top Gradients are stable among all last 10 epochs?: 56\n",
      "root - INFO - k = 200. How many top Gradients are stable among all last 10 epochs?: 129\n",
      "root - INFO - k = 300. How many top Gradients are stable among all last 10 epochs?: 218\n",
      "root - INFO - k = 400. How many top Gradients are stable among all last 10 epochs?: 364\n",
      "root - INFO - After 10 epoch:\n",
      "root - INFO - CHECKING GRADIENT FOR LABEL 2\n",
      "root - INFO - k = 100. How many top Gradients are stable among all last 10 epochs?: 64\n",
      "root - INFO - k = 200. How many top Gradients are stable among all last 10 epochs?: 126\n",
      "root - INFO - k = 300. How many top Gradients are stable among all last 10 epochs?: 227\n",
      "root - INFO - k = 400. How many top Gradients are stable among all last 10 epochs?: 366\n",
      "root - INFO - After 10 epoch:\n",
      "root - INFO - CHECKING GRADIENT FOR LABEL 3\n",
      "root - INFO - k = 100. How many top Gradients are stable among all last 10 epochs?: 61\n",
      "root - INFO - k = 200. How many top Gradients are stable among all last 10 epochs?: 137\n",
      "root - INFO - k = 300. How many top Gradients are stable among all last 10 epochs?: 229\n",
      "root - INFO - k = 400. How many top Gradients are stable among all last 10 epochs?: 359\n",
      "root - INFO - After 10 epoch:\n",
      "root - INFO - CHECKING GRADIENT FOR LABEL 4\n",
      "root - INFO - k = 100. How many top Gradients are stable among all last 10 epochs?: 69\n",
      "root - INFO - k = 200. How many top Gradients are stable among all last 10 epochs?: 143\n",
      "root - INFO - k = 300. How many top Gradients are stable among all last 10 epochs?: 237\n",
      "root - INFO - k = 400. How many top Gradients are stable among all last 10 epochs?: 365\n",
      "root - INFO - After 10 epoch:\n",
      "root - INFO - CHECKING GRADIENT FOR LABEL 5\n",
      "root - INFO - k = 100. How many top Gradients are stable among all last 10 epochs?: 66\n",
      "root - INFO - k = 200. How many top Gradients are stable among all last 10 epochs?: 135\n",
      "root - INFO - k = 300. How many top Gradients are stable among all last 10 epochs?: 238\n",
      "root - INFO - k = 400. How many top Gradients are stable among all last 10 epochs?: 363\n",
      "root - INFO - After 10 epoch:\n",
      "root - INFO - CHECKING GRADIENT FOR LABEL 6\n",
      "root - INFO - k = 100. How many top Gradients are stable among all last 10 epochs?: 63\n",
      "root - INFO - k = 200. How many top Gradients are stable among all last 10 epochs?: 135\n",
      "root - INFO - k = 300. How many top Gradients are stable among all last 10 epochs?: 224\n",
      "root - INFO - k = 400. How many top Gradients are stable among all last 10 epochs?: 357\n",
      "root - INFO - After 10 epoch:\n"
     ]
    },
    {
     "name": "stdout",
     "output_type": "stream",
     "text": [
      "\n",
      "Test set: Average loss: 0.8164, Accuracy: 8037/10000 (80%)\n",
      "\n"
     ]
    },
    {
     "name": "stderr",
     "output_type": "stream",
     "text": [
      "root - INFO - CHECKING GRADIENT FOR LABEL 7\n",
      "root - INFO - k = 100. How many top Gradients are stable among all last 10 epochs?: 57\n",
      "root - INFO - k = 200. How many top Gradients are stable among all last 10 epochs?: 131\n",
      "root - INFO - k = 300. How many top Gradients are stable among all last 10 epochs?: 230\n",
      "root - INFO - k = 400. How many top Gradients are stable among all last 10 epochs?: 363\n",
      "root - INFO - After 10 epoch:\n",
      "root - INFO - CHECKING GRADIENT FOR LABEL 8\n",
      "root - INFO - k = 100. How many top Gradients are stable among all last 10 epochs?: 69\n",
      "root - INFO - k = 200. How many top Gradients are stable among all last 10 epochs?: 135\n",
      "root - INFO - k = 300. How many top Gradients are stable among all last 10 epochs?: 227\n",
      "root - INFO - k = 400. How many top Gradients are stable among all last 10 epochs?: 365\n",
      "root - INFO - After 10 epoch:\n",
      "root - INFO - CHECKING GRADIENT FOR LABEL 9\n",
      "root - INFO - k = 100. How many top Gradients are stable among all last 10 epochs?: 66\n",
      "root - INFO - k = 200. How many top Gradients are stable among all last 10 epochs?: 140\n",
      "root - INFO - k = 300. How many top Gradients are stable among all last 10 epochs?: 233\n",
      "root - INFO - k = 400. How many top Gradients are stable among all last 10 epochs?: 364\n",
      " 33%|███▎      | 10/30 [03:09<06:19, 18.99s/it]root - INFO - After 11 epoch:\n",
      "root - INFO - CHECKING GRADIENT FOR LABEL 0\n",
      "root - INFO - k = 100. How many top Gradients are stable among all last 10 epochs?: 68\n",
      "root - INFO - k = 200. How many top Gradients are stable among all last 10 epochs?: 131\n",
      "root - INFO - k = 300. How many top Gradients are stable among all last 10 epochs?: 240\n",
      "root - INFO - k = 400. How many top Gradients are stable among all last 10 epochs?: 368\n",
      "root - INFO - After 11 epoch:\n",
      "root - INFO - CHECKING GRADIENT FOR LABEL 1\n",
      "root - INFO - k = 100. How many top Gradients are stable among all last 10 epochs?: 55\n",
      "root - INFO - k = 200. How many top Gradients are stable among all last 10 epochs?: 129\n",
      "root - INFO - k = 300. How many top Gradients are stable among all last 10 epochs?: 227\n",
      "root - INFO - k = 400. How many top Gradients are stable among all last 10 epochs?: 366\n",
      "root - INFO - After 11 epoch:\n",
      "root - INFO - CHECKING GRADIENT FOR LABEL 2\n",
      "root - INFO - k = 100. How many top Gradients are stable among all last 10 epochs?: 66\n",
      "root - INFO - k = 200. How many top Gradients are stable among all last 10 epochs?: 133\n",
      "root - INFO - k = 300. How many top Gradients are stable among all last 10 epochs?: 229\n",
      "root - INFO - k = 400. How many top Gradients are stable among all last 10 epochs?: 367\n",
      "root - INFO - After 11 epoch:\n",
      "root - INFO - CHECKING GRADIENT FOR LABEL 3\n",
      "root - INFO - k = 100. How many top Gradients are stable among all last 10 epochs?: 63\n",
      "root - INFO - k = 200. How many top Gradients are stable among all last 10 epochs?: 143\n",
      "root - INFO - k = 300. How many top Gradients are stable among all last 10 epochs?: 235\n",
      "root - INFO - k = 400. How many top Gradients are stable among all last 10 epochs?: 362\n",
      "root - INFO - After 11 epoch:\n",
      "root - INFO - CHECKING GRADIENT FOR LABEL 4\n",
      "root - INFO - k = 100. How many top Gradients are stable among all last 10 epochs?: 67\n",
      "root - INFO - k = 200. How many top Gradients are stable among all last 10 epochs?: 142\n",
      "root - INFO - k = 300. How many top Gradients are stable among all last 10 epochs?: 240\n",
      "root - INFO - k = 400. How many top Gradients are stable among all last 10 epochs?: 370\n",
      "root - INFO - After 11 epoch:\n",
      "root - INFO - CHECKING GRADIENT FOR LABEL 5\n",
      "root - INFO - k = 100. How many top Gradients are stable among all last 10 epochs?: 71\n",
      "root - INFO - k = 200. How many top Gradients are stable among all last 10 epochs?: 135\n",
      "root - INFO - k = 300. How many top Gradients are stable among all last 10 epochs?: 243\n",
      "root - INFO - k = 400. How many top Gradients are stable among all last 10 epochs?: 366\n",
      "root - INFO - After 11 epoch:\n",
      "root - INFO - CHECKING GRADIENT FOR LABEL 6\n",
      "root - INFO - k = 100. How many top Gradients are stable among all last 10 epochs?: 62\n",
      "root - INFO - k = 200. How many top Gradients are stable among all last 10 epochs?: 138\n",
      "root - INFO - k = 300. How many top Gradients are stable among all last 10 epochs?: 232\n",
      "root - INFO - k = 400. How many top Gradients are stable among all last 10 epochs?: 361\n",
      "root - INFO - After 11 epoch:\n",
      "root - INFO - CHECKING GRADIENT FOR LABEL 7\n"
     ]
    },
    {
     "name": "stdout",
     "output_type": "stream",
     "text": [
      "\n",
      "Test set: Average loss: 0.7104, Accuracy: 8235/10000 (82%)\n",
      "\n"
     ]
    },
    {
     "name": "stderr",
     "output_type": "stream",
     "text": [
      "root - INFO - k = 100. How many top Gradients are stable among all last 10 epochs?: 61\n",
      "root - INFO - k = 200. How many top Gradients are stable among all last 10 epochs?: 135\n",
      "root - INFO - k = 300. How many top Gradients are stable among all last 10 epochs?: 239\n",
      "root - INFO - k = 400. How many top Gradients are stable among all last 10 epochs?: 366\n",
      "root - INFO - After 11 epoch:\n",
      "root - INFO - CHECKING GRADIENT FOR LABEL 8\n",
      "root - INFO - k = 100. How many top Gradients are stable among all last 10 epochs?: 70\n",
      "root - INFO - k = 200. How many top Gradients are stable among all last 10 epochs?: 135\n",
      "root - INFO - k = 300. How many top Gradients are stable among all last 10 epochs?: 231\n",
      "root - INFO - k = 400. How many top Gradients are stable among all last 10 epochs?: 368\n",
      "root - INFO - After 11 epoch:\n",
      "root - INFO - CHECKING GRADIENT FOR LABEL 9\n",
      "root - INFO - k = 100. How many top Gradients are stable among all last 10 epochs?: 70\n",
      "root - INFO - k = 200. How many top Gradients are stable among all last 10 epochs?: 141\n",
      "root - INFO - k = 300. How many top Gradients are stable among all last 10 epochs?: 235\n",
      "root - INFO - k = 400. How many top Gradients are stable among all last 10 epochs?: 369\n",
      " 37%|███▋      | 11/30 [03:28<06:01, 19.01s/it]root - INFO - After 12 epoch:\n",
      "root - INFO - CHECKING GRADIENT FOR LABEL 0\n",
      "root - INFO - k = 100. How many top Gradients are stable among all last 10 epochs?: 73\n",
      "root - INFO - k = 200. How many top Gradients are stable among all last 10 epochs?: 136\n",
      "root - INFO - k = 300. How many top Gradients are stable among all last 10 epochs?: 240\n",
      "root - INFO - k = 400. How many top Gradients are stable among all last 10 epochs?: 370\n",
      "root - INFO - After 12 epoch:\n",
      "root - INFO - CHECKING GRADIENT FOR LABEL 1\n",
      "root - INFO - k = 100. How many top Gradients are stable among all last 10 epochs?: 54\n",
      "root - INFO - k = 200. How many top Gradients are stable among all last 10 epochs?: 130\n",
      "root - INFO - k = 300. How many top Gradients are stable among all last 10 epochs?: 225\n",
      "root - INFO - k = 400. How many top Gradients are stable among all last 10 epochs?: 370\n",
      "root - INFO - After 12 epoch:\n",
      "root - INFO - CHECKING GRADIENT FOR LABEL 2\n",
      "root - INFO - k = 100. How many top Gradients are stable among all last 10 epochs?: 69\n",
      "root - INFO - k = 200. How many top Gradients are stable among all last 10 epochs?: 137\n",
      "root - INFO - k = 300. How many top Gradients are stable among all last 10 epochs?: 243\n",
      "root - INFO - k = 400. How many top Gradients are stable among all last 10 epochs?: 371\n",
      "root - INFO - After 12 epoch:\n",
      "root - INFO - CHECKING GRADIENT FOR LABEL 3\n",
      "root - INFO - k = 100. How many top Gradients are stable among all last 10 epochs?: 63\n",
      "root - INFO - k = 200. How many top Gradients are stable among all last 10 epochs?: 144\n",
      "root - INFO - k = 300. How many top Gradients are stable among all last 10 epochs?: 240\n",
      "root - INFO - k = 400. How many top Gradients are stable among all last 10 epochs?: 368\n",
      "root - INFO - After 12 epoch:\n",
      "root - INFO - CHECKING GRADIENT FOR LABEL 4\n",
      "root - INFO - k = 100. How many top Gradients are stable among all last 10 epochs?: 67\n",
      "root - INFO - k = 200. How many top Gradients are stable among all last 10 epochs?: 146\n",
      "root - INFO - k = 300. How many top Gradients are stable among all last 10 epochs?: 241\n",
      "root - INFO - k = 400. How many top Gradients are stable among all last 10 epochs?: 374\n",
      "root - INFO - After 12 epoch:\n",
      "root - INFO - CHECKING GRADIENT FOR LABEL 5\n",
      "root - INFO - k = 100. How many top Gradients are stable among all last 10 epochs?: 69\n",
      "root - INFO - k = 200. How many top Gradients are stable among all last 10 epochs?: 134\n",
      "root - INFO - k = 300. How many top Gradients are stable among all last 10 epochs?: 247\n",
      "root - INFO - k = 400. How many top Gradients are stable among all last 10 epochs?: 369\n",
      "root - INFO - After 12 epoch:\n",
      "root - INFO - CHECKING GRADIENT FOR LABEL 6\n",
      "root - INFO - k = 100. How many top Gradients are stable among all last 10 epochs?: 62\n",
      "root - INFO - k = 200. How many top Gradients are stable among all last 10 epochs?: 143\n",
      "root - INFO - k = 300. How many top Gradients are stable among all last 10 epochs?: 239\n",
      "root - INFO - k = 400. How many top Gradients are stable among all last 10 epochs?: 366\n"
     ]
    },
    {
     "name": "stdout",
     "output_type": "stream",
     "text": [
      "\n",
      "Test set: Average loss: 0.6359, Accuracy: 8367/10000 (84%)\n",
      "\n"
     ]
    },
    {
     "name": "stderr",
     "output_type": "stream",
     "text": [
      "root - INFO - After 12 epoch:\n",
      "root - INFO - CHECKING GRADIENT FOR LABEL 7\n",
      "root - INFO - k = 100. How many top Gradients are stable among all last 10 epochs?: 65\n",
      "root - INFO - k = 200. How many top Gradients are stable among all last 10 epochs?: 136\n",
      "root - INFO - k = 300. How many top Gradients are stable among all last 10 epochs?: 244\n",
      "root - INFO - k = 400. How many top Gradients are stable among all last 10 epochs?: 367\n",
      "root - INFO - After 12 epoch:\n",
      "root - INFO - CHECKING GRADIENT FOR LABEL 8\n",
      "root - INFO - k = 100. How many top Gradients are stable among all last 10 epochs?: 71\n",
      "root - INFO - k = 200. How many top Gradients are stable among all last 10 epochs?: 138\n",
      "root - INFO - k = 300. How many top Gradients are stable among all last 10 epochs?: 239\n",
      "root - INFO - k = 400. How many top Gradients are stable among all last 10 epochs?: 373\n",
      "root - INFO - After 12 epoch:\n",
      "root - INFO - CHECKING GRADIENT FOR LABEL 9\n",
      "root - INFO - k = 100. How many top Gradients are stable among all last 10 epochs?: 69\n",
      "root - INFO - k = 200. How many top Gradients are stable among all last 10 epochs?: 144\n",
      "root - INFO - k = 300. How many top Gradients are stable among all last 10 epochs?: 240\n",
      "root - INFO - k = 400. How many top Gradients are stable among all last 10 epochs?: 376\n",
      " 40%|████      | 12/30 [03:47<05:41, 19.00s/it]root - INFO - After 13 epoch:\n",
      "root - INFO - CHECKING GRADIENT FOR LABEL 0\n",
      "root - INFO - k = 100. How many top Gradients are stable among all last 10 epochs?: 71\n",
      "root - INFO - k = 200. How many top Gradients are stable among all last 10 epochs?: 140\n",
      "root - INFO - k = 300. How many top Gradients are stable among all last 10 epochs?: 246\n",
      "root - INFO - k = 400. How many top Gradients are stable among all last 10 epochs?: 375\n",
      "root - INFO - After 13 epoch:\n",
      "root - INFO - CHECKING GRADIENT FOR LABEL 1\n",
      "root - INFO - k = 100. How many top Gradients are stable among all last 10 epochs?: 60\n",
      "root - INFO - k = 200. How many top Gradients are stable among all last 10 epochs?: 136\n",
      "root - INFO - k = 300. How many top Gradients are stable among all last 10 epochs?: 234\n",
      "root - INFO - k = 400. How many top Gradients are stable among all last 10 epochs?: 372\n",
      "root - INFO - After 13 epoch:\n",
      "root - INFO - CHECKING GRADIENT FOR LABEL 2\n",
      "root - INFO - k = 100. How many top Gradients are stable among all last 10 epochs?: 71\n",
      "root - INFO - k = 200. How many top Gradients are stable among all last 10 epochs?: 148\n",
      "root - INFO - k = 300. How many top Gradients are stable among all last 10 epochs?: 252\n",
      "root - INFO - k = 400. How many top Gradients are stable among all last 10 epochs?: 376\n",
      "root - INFO - After 13 epoch:\n",
      "root - INFO - CHECKING GRADIENT FOR LABEL 3\n",
      "root - INFO - k = 100. How many top Gradients are stable among all last 10 epochs?: 63\n",
      "root - INFO - k = 200. How many top Gradients are stable among all last 10 epochs?: 152\n",
      "root - INFO - k = 300. How many top Gradients are stable among all last 10 epochs?: 243\n",
      "root - INFO - k = 400. How many top Gradients are stable among all last 10 epochs?: 372\n",
      "root - INFO - After 13 epoch:\n",
      "root - INFO - CHECKING GRADIENT FOR LABEL 4\n",
      "root - INFO - k = 100. How many top Gradients are stable among all last 10 epochs?: 68\n",
      "root - INFO - k = 200. How many top Gradients are stable among all last 10 epochs?: 149\n",
      "root - INFO - k = 300. How many top Gradients are stable among all last 10 epochs?: 247\n",
      "root - INFO - k = 400. How many top Gradients are stable among all last 10 epochs?: 376\n",
      "root - INFO - After 13 epoch:\n",
      "root - INFO - CHECKING GRADIENT FOR LABEL 5\n",
      "root - INFO - k = 100. How many top Gradients are stable among all last 10 epochs?: 70\n",
      "root - INFO - k = 200. How many top Gradients are stable among all last 10 epochs?: 137\n",
      "root - INFO - k = 300. How many top Gradients are stable among all last 10 epochs?: 253\n",
      "root - INFO - k = 400. How many top Gradients are stable among all last 10 epochs?: 372\n",
      "root - INFO - After 13 epoch:\n",
      "root - INFO - CHECKING GRADIENT FOR LABEL 6\n",
      "root - INFO - k = 100. How many top Gradients are stable among all last 10 epochs?: 62\n",
      "root - INFO - k = 200. How many top Gradients are stable among all last 10 epochs?: 142\n",
      "root - INFO - k = 300. How many top Gradients are stable among all last 10 epochs?: 245\n",
      "root - INFO - k = 400. How many top Gradients are stable among all last 10 epochs?: 368\n",
      "root - INFO - After 13 epoch:\n"
     ]
    },
    {
     "name": "stdout",
     "output_type": "stream",
     "text": [
      "\n",
      "Test set: Average loss: 0.5804, Accuracy: 8485/10000 (85%)\n",
      "\n"
     ]
    },
    {
     "name": "stderr",
     "output_type": "stream",
     "text": [
      "root - INFO - CHECKING GRADIENT FOR LABEL 7\n",
      "root - INFO - k = 100. How many top Gradients are stable among all last 10 epochs?: 66\n",
      "root - INFO - k = 200. How many top Gradients are stable among all last 10 epochs?: 140\n",
      "root - INFO - k = 300. How many top Gradients are stable among all last 10 epochs?: 248\n",
      "root - INFO - k = 400. How many top Gradients are stable among all last 10 epochs?: 372\n",
      "root - INFO - After 13 epoch:\n",
      "root - INFO - CHECKING GRADIENT FOR LABEL 8\n",
      "root - INFO - k = 100. How many top Gradients are stable among all last 10 epochs?: 71\n",
      "root - INFO - k = 200. How many top Gradients are stable among all last 10 epochs?: 144\n",
      "root - INFO - k = 300. How many top Gradients are stable among all last 10 epochs?: 245\n",
      "root - INFO - k = 400. How many top Gradients are stable among all last 10 epochs?: 378\n",
      "root - INFO - After 13 epoch:\n",
      "root - INFO - CHECKING GRADIENT FOR LABEL 9\n",
      "root - INFO - k = 100. How many top Gradients are stable among all last 10 epochs?: 69\n",
      "root - INFO - k = 200. How many top Gradients are stable among all last 10 epochs?: 147\n",
      "root - INFO - k = 300. How many top Gradients are stable among all last 10 epochs?: 243\n",
      "root - INFO - k = 400. How many top Gradients are stable among all last 10 epochs?: 379\n",
      " 43%|████▎     | 13/30 [04:06<05:23, 19.01s/it]root - INFO - After 14 epoch:\n",
      "root - INFO - CHECKING GRADIENT FOR LABEL 0\n",
      "root - INFO - k = 100. How many top Gradients are stable among all last 10 epochs?: 71\n",
      "root - INFO - k = 200. How many top Gradients are stable among all last 10 epochs?: 141\n",
      "root - INFO - k = 300. How many top Gradients are stable among all last 10 epochs?: 255\n",
      "root - INFO - k = 400. How many top Gradients are stable among all last 10 epochs?: 378\n",
      "root - INFO - After 14 epoch:\n",
      "root - INFO - CHECKING GRADIENT FOR LABEL 1\n",
      "root - INFO - k = 100. How many top Gradients are stable among all last 10 epochs?: 67\n",
      "root - INFO - k = 200. How many top Gradients are stable among all last 10 epochs?: 139\n",
      "root - INFO - k = 300. How many top Gradients are stable among all last 10 epochs?: 237\n",
      "root - INFO - k = 400. How many top Gradients are stable among all last 10 epochs?: 378\n",
      "root - INFO - After 14 epoch:\n",
      "root - INFO - CHECKING GRADIENT FOR LABEL 2\n",
      "root - INFO - k = 100. How many top Gradients are stable among all last 10 epochs?: 74\n",
      "root - INFO - k = 200. How many top Gradients are stable among all last 10 epochs?: 153\n",
      "root - INFO - k = 300. How many top Gradients are stable among all last 10 epochs?: 261\n",
      "root - INFO - k = 400. How many top Gradients are stable among all last 10 epochs?: 377\n",
      "root - INFO - After 14 epoch:\n",
      "root - INFO - CHECKING GRADIENT FOR LABEL 3\n",
      "root - INFO - k = 100. How many top Gradients are stable among all last 10 epochs?: 67\n",
      "root - INFO - k = 200. How many top Gradients are stable among all last 10 epochs?: 156\n",
      "root - INFO - k = 300. How many top Gradients are stable among all last 10 epochs?: 252\n",
      "root - INFO - k = 400. How many top Gradients are stable among all last 10 epochs?: 379\n",
      "root - INFO - After 14 epoch:\n",
      "root - INFO - CHECKING GRADIENT FOR LABEL 4\n",
      "root - INFO - k = 100. How many top Gradients are stable among all last 10 epochs?: 68\n",
      "root - INFO - k = 200. How many top Gradients are stable among all last 10 epochs?: 147\n",
      "root - INFO - k = 300. How many top Gradients are stable among all last 10 epochs?: 250\n",
      "root - INFO - k = 400. How many top Gradients are stable among all last 10 epochs?: 378\n",
      "root - INFO - After 14 epoch:\n",
      "root - INFO - CHECKING GRADIENT FOR LABEL 5\n",
      "root - INFO - k = 100. How many top Gradients are stable among all last 10 epochs?: 70\n",
      "root - INFO - k = 200. How many top Gradients are stable among all last 10 epochs?: 141\n",
      "root - INFO - k = 300. How many top Gradients are stable among all last 10 epochs?: 260\n",
      "root - INFO - k = 400. How many top Gradients are stable among all last 10 epochs?: 374\n",
      "root - INFO - After 14 epoch:\n",
      "root - INFO - CHECKING GRADIENT FOR LABEL 6\n",
      "root - INFO - k = 100. How many top Gradients are stable among all last 10 epochs?: 64\n",
      "root - INFO - k = 200. How many top Gradients are stable among all last 10 epochs?: 147\n",
      "root - INFO - k = 300. How many top Gradients are stable among all last 10 epochs?: 251\n",
      "root - INFO - k = 400. How many top Gradients are stable among all last 10 epochs?: 375\n",
      "root - INFO - After 14 epoch:\n",
      "root - INFO - CHECKING GRADIENT FOR LABEL 7\n",
      "root - INFO - k = 100. How many top Gradients are stable among all last 10 epochs?: 72\n"
     ]
    },
    {
     "name": "stdout",
     "output_type": "stream",
     "text": [
      "\n",
      "Test set: Average loss: 0.5378, Accuracy: 8564/10000 (86%)\n",
      "\n"
     ]
    },
    {
     "name": "stderr",
     "output_type": "stream",
     "text": [
      "root - INFO - k = 200. How many top Gradients are stable among all last 10 epochs?: 146\n",
      "root - INFO - k = 300. How many top Gradients are stable among all last 10 epochs?: 255\n",
      "root - INFO - k = 400. How many top Gradients are stable among all last 10 epochs?: 378\n",
      "root - INFO - After 14 epoch:\n",
      "root - INFO - CHECKING GRADIENT FOR LABEL 8\n",
      "root - INFO - k = 100. How many top Gradients are stable among all last 10 epochs?: 75\n",
      "root - INFO - k = 200. How many top Gradients are stable among all last 10 epochs?: 151\n",
      "root - INFO - k = 300. How many top Gradients are stable among all last 10 epochs?: 250\n",
      "root - INFO - k = 400. How many top Gradients are stable among all last 10 epochs?: 381\n",
      "root - INFO - After 14 epoch:\n",
      "root - INFO - CHECKING GRADIENT FOR LABEL 9\n",
      "root - INFO - k = 100. How many top Gradients are stable among all last 10 epochs?: 72\n",
      "root - INFO - k = 200. How many top Gradients are stable among all last 10 epochs?: 153\n",
      "root - INFO - k = 300. How many top Gradients are stable among all last 10 epochs?: 251\n",
      "root - INFO - k = 400. How many top Gradients are stable among all last 10 epochs?: 380\n",
      " 47%|████▋     | 14/30 [04:25<05:03, 18.97s/it]root - INFO - After 15 epoch:\n",
      "root - INFO - CHECKING GRADIENT FOR LABEL 0\n",
      "root - INFO - k = 100. How many top Gradients are stable among all last 10 epochs?: 70\n",
      "root - INFO - k = 200. How many top Gradients are stable among all last 10 epochs?: 147\n",
      "root - INFO - k = 300. How many top Gradients are stable among all last 10 epochs?: 262\n",
      "root - INFO - k = 400. How many top Gradients are stable among all last 10 epochs?: 380\n",
      "root - INFO - After 15 epoch:\n",
      "root - INFO - CHECKING GRADIENT FOR LABEL 1\n",
      "root - INFO - k = 100. How many top Gradients are stable among all last 10 epochs?: 68\n",
      "root - INFO - k = 200. How many top Gradients are stable among all last 10 epochs?: 144\n",
      "root - INFO - k = 300. How many top Gradients are stable among all last 10 epochs?: 247\n",
      "root - INFO - k = 400. How many top Gradients are stable among all last 10 epochs?: 379\n",
      "root - INFO - After 15 epoch:\n",
      "root - INFO - CHECKING GRADIENT FOR LABEL 2\n",
      "root - INFO - k = 100. How many top Gradients are stable among all last 10 epochs?: 77\n",
      "root - INFO - k = 200. How many top Gradients are stable among all last 10 epochs?: 161\n",
      "root - INFO - k = 300. How many top Gradients are stable among all last 10 epochs?: 268\n",
      "root - INFO - k = 400. How many top Gradients are stable among all last 10 epochs?: 382\n",
      "root - INFO - After 15 epoch:\n",
      "root - INFO - CHECKING GRADIENT FOR LABEL 3\n",
      "root - INFO - k = 100. How many top Gradients are stable among all last 10 epochs?: 70\n",
      "root - INFO - k = 200. How many top Gradients are stable among all last 10 epochs?: 159\n",
      "root - INFO - k = 300. How many top Gradients are stable among all last 10 epochs?: 255\n",
      "root - INFO - k = 400. How many top Gradients are stable among all last 10 epochs?: 382\n",
      "root - INFO - After 15 epoch:\n",
      "root - INFO - CHECKING GRADIENT FOR LABEL 4\n",
      "root - INFO - k = 100. How many top Gradients are stable among all last 10 epochs?: 68\n",
      "root - INFO - k = 200. How many top Gradients are stable among all last 10 epochs?: 147\n",
      "root - INFO - k = 300. How many top Gradients are stable among all last 10 epochs?: 253\n",
      "root - INFO - k = 400. How many top Gradients are stable among all last 10 epochs?: 381\n",
      "root - INFO - After 15 epoch:\n",
      "root - INFO - CHECKING GRADIENT FOR LABEL 5\n",
      "root - INFO - k = 100. How many top Gradients are stable among all last 10 epochs?: 69\n",
      "root - INFO - k = 200. How many top Gradients are stable among all last 10 epochs?: 144\n",
      "root - INFO - k = 300. How many top Gradients are stable among all last 10 epochs?: 265\n",
      "root - INFO - k = 400. How many top Gradients are stable among all last 10 epochs?: 378\n",
      "root - INFO - After 15 epoch:\n",
      "root - INFO - CHECKING GRADIENT FOR LABEL 6\n",
      "root - INFO - k = 100. How many top Gradients are stable among all last 10 epochs?: 69\n",
      "root - INFO - k = 200. How many top Gradients are stable among all last 10 epochs?: 152\n",
      "root - INFO - k = 300. How many top Gradients are stable among all last 10 epochs?: 259\n",
      "root - INFO - k = 400. How many top Gradients are stable among all last 10 epochs?: 380\n",
      "root - INFO - After 15 epoch:\n",
      "root - INFO - CHECKING GRADIENT FOR LABEL 7\n"
     ]
    },
    {
     "name": "stdout",
     "output_type": "stream",
     "text": [
      "\n",
      "Test set: Average loss: 0.5033, Accuracy: 8640/10000 (86%)\n",
      "\n"
     ]
    },
    {
     "name": "stderr",
     "output_type": "stream",
     "text": [
      "root - INFO - k = 100. How many top Gradients are stable among all last 10 epochs?: 73\n",
      "root - INFO - k = 200. How many top Gradients are stable among all last 10 epochs?: 151\n",
      "root - INFO - k = 300. How many top Gradients are stable among all last 10 epochs?: 259\n",
      "root - INFO - k = 400. How many top Gradients are stable among all last 10 epochs?: 380\n",
      "root - INFO - After 15 epoch:\n",
      "root - INFO - CHECKING GRADIENT FOR LABEL 8\n",
      "root - INFO - k = 100. How many top Gradients are stable among all last 10 epochs?: 78\n",
      "root - INFO - k = 200. How many top Gradients are stable among all last 10 epochs?: 151\n",
      "root - INFO - k = 300. How many top Gradients are stable among all last 10 epochs?: 257\n",
      "root - INFO - k = 400. How many top Gradients are stable among all last 10 epochs?: 385\n",
      "root - INFO - After 15 epoch:\n",
      "root - INFO - CHECKING GRADIENT FOR LABEL 9\n",
      "root - INFO - k = 100. How many top Gradients are stable among all last 10 epochs?: 73\n",
      "root - INFO - k = 200. How many top Gradients are stable among all last 10 epochs?: 158\n",
      "root - INFO - k = 300. How many top Gradients are stable among all last 10 epochs?: 256\n",
      "root - INFO - k = 400. How many top Gradients are stable among all last 10 epochs?: 382\n",
      " 50%|█████     | 15/30 [04:44<04:44, 18.98s/it]root - INFO - After 16 epoch:\n",
      "root - INFO - CHECKING GRADIENT FOR LABEL 0\n",
      "root - INFO - k = 100. How many top Gradients are stable among all last 10 epochs?: 72\n",
      "root - INFO - k = 200. How many top Gradients are stable among all last 10 epochs?: 154\n",
      "root - INFO - k = 300. How many top Gradients are stable among all last 10 epochs?: 269\n",
      "root - INFO - k = 400. How many top Gradients are stable among all last 10 epochs?: 384\n",
      "root - INFO - After 16 epoch:\n",
      "root - INFO - CHECKING GRADIENT FOR LABEL 1\n",
      "root - INFO - k = 100. How many top Gradients are stable among all last 10 epochs?: 74\n",
      "root - INFO - k = 200. How many top Gradients are stable among all last 10 epochs?: 154\n",
      "root - INFO - k = 300. How many top Gradients are stable among all last 10 epochs?: 257\n",
      "root - INFO - k = 400. How many top Gradients are stable among all last 10 epochs?: 381\n",
      "root - INFO - After 16 epoch:\n",
      "root - INFO - CHECKING GRADIENT FOR LABEL 2\n",
      "root - INFO - k = 100. How many top Gradients are stable among all last 10 epochs?: 79\n",
      "root - INFO - k = 200. How many top Gradients are stable among all last 10 epochs?: 171\n",
      "root - INFO - k = 300. How many top Gradients are stable among all last 10 epochs?: 275\n",
      "root - INFO - k = 400. How many top Gradients are stable among all last 10 epochs?: 387\n",
      "root - INFO - After 16 epoch:\n",
      "root - INFO - CHECKING GRADIENT FOR LABEL 3\n",
      "root - INFO - k = 100. How many top Gradients are stable among all last 10 epochs?: 72\n",
      "root - INFO - k = 200. How many top Gradients are stable among all last 10 epochs?: 158\n",
      "root - INFO - k = 300. How many top Gradients are stable among all last 10 epochs?: 258\n",
      "root - INFO - k = 400. How many top Gradients are stable among all last 10 epochs?: 386\n",
      "root - INFO - After 16 epoch:\n",
      "root - INFO - CHECKING GRADIENT FOR LABEL 4\n",
      "root - INFO - k = 100. How many top Gradients are stable among all last 10 epochs?: 68\n",
      "root - INFO - k = 200. How many top Gradients are stable among all last 10 epochs?: 152\n",
      "root - INFO - k = 300. How many top Gradients are stable among all last 10 epochs?: 256\n",
      "root - INFO - k = 400. How many top Gradients are stable among all last 10 epochs?: 381\n",
      "root - INFO - After 16 epoch:\n",
      "root - INFO - CHECKING GRADIENT FOR LABEL 5\n",
      "root - INFO - k = 100. How many top Gradients are stable among all last 10 epochs?: 69\n",
      "root - INFO - k = 200. How many top Gradients are stable among all last 10 epochs?: 149\n",
      "root - INFO - k = 300. How many top Gradients are stable among all last 10 epochs?: 270\n",
      "root - INFO - k = 400. How many top Gradients are stable among all last 10 epochs?: 382\n",
      "root - INFO - After 16 epoch:\n",
      "root - INFO - CHECKING GRADIENT FOR LABEL 6\n",
      "root - INFO - k = 100. How many top Gradients are stable among all last 10 epochs?: 73\n",
      "root - INFO - k = 200. How many top Gradients are stable among all last 10 epochs?: 157\n"
     ]
    },
    {
     "name": "stdout",
     "output_type": "stream",
     "text": [
      "\n",
      "Test set: Average loss: 0.4760, Accuracy: 8706/10000 (87%)\n",
      "\n"
     ]
    },
    {
     "name": "stderr",
     "output_type": "stream",
     "text": [
      "root - INFO - k = 300. How many top Gradients are stable among all last 10 epochs?: 268\n",
      "root - INFO - k = 400. How many top Gradients are stable among all last 10 epochs?: 383\n",
      "root - INFO - After 16 epoch:\n",
      "root - INFO - CHECKING GRADIENT FOR LABEL 7\n",
      "root - INFO - k = 100. How many top Gradients are stable among all last 10 epochs?: 74\n",
      "root - INFO - k = 200. How many top Gradients are stable among all last 10 epochs?: 158\n",
      "root - INFO - k = 300. How many top Gradients are stable among all last 10 epochs?: 265\n",
      "root - INFO - k = 400. How many top Gradients are stable among all last 10 epochs?: 381\n",
      "root - INFO - After 16 epoch:\n",
      "root - INFO - CHECKING GRADIENT FOR LABEL 8\n",
      "root - INFO - k = 100. How many top Gradients are stable among all last 10 epochs?: 78\n",
      "root - INFO - k = 200. How many top Gradients are stable among all last 10 epochs?: 159\n",
      "root - INFO - k = 300. How many top Gradients are stable among all last 10 epochs?: 264\n",
      "root - INFO - k = 400. How many top Gradients are stable among all last 10 epochs?: 386\n",
      "root - INFO - After 16 epoch:\n",
      "root - INFO - CHECKING GRADIENT FOR LABEL 9\n",
      "root - INFO - k = 100. How many top Gradients are stable among all last 10 epochs?: 75\n",
      "root - INFO - k = 200. How many top Gradients are stable among all last 10 epochs?: 162\n",
      "root - INFO - k = 300. How many top Gradients are stable among all last 10 epochs?: 262\n",
      "root - INFO - k = 400. How many top Gradients are stable among all last 10 epochs?: 385\n",
      " 53%|█████▎    | 16/30 [05:03<04:25, 19.00s/it]root - INFO - After 17 epoch:\n",
      "root - INFO - CHECKING GRADIENT FOR LABEL 0\n",
      "root - INFO - k = 100. How many top Gradients are stable among all last 10 epochs?: 75\n",
      "root - INFO - k = 200. How many top Gradients are stable among all last 10 epochs?: 159\n",
      "root - INFO - k = 300. How many top Gradients are stable among all last 10 epochs?: 277\n",
      "root - INFO - k = 400. How many top Gradients are stable among all last 10 epochs?: 387\n",
      "root - INFO - After 17 epoch:\n",
      "root - INFO - CHECKING GRADIENT FOR LABEL 1\n",
      "root - INFO - k = 100. How many top Gradients are stable among all last 10 epochs?: 82\n",
      "root - INFO - k = 200. How many top Gradients are stable among all last 10 epochs?: 169\n",
      "root - INFO - k = 300. How many top Gradients are stable among all last 10 epochs?: 266\n",
      "root - INFO - k = 400. How many top Gradients are stable among all last 10 epochs?: 385\n",
      "root - INFO - After 17 epoch:\n",
      "root - INFO - CHECKING GRADIENT FOR LABEL 2\n",
      "root - INFO - k = 100. How many top Gradients are stable among all last 10 epochs?: 80\n",
      "root - INFO - k = 200. How many top Gradients are stable among all last 10 epochs?: 176\n",
      "root - INFO - k = 300. How many top Gradients are stable among all last 10 epochs?: 280\n",
      "root - INFO - k = 400. How many top Gradients are stable among all last 10 epochs?: 390\n",
      "root - INFO - After 17 epoch:\n",
      "root - INFO - CHECKING GRADIENT FOR LABEL 3\n",
      "root - INFO - k = 100. How many top Gradients are stable among all last 10 epochs?: 74\n",
      "root - INFO - k = 200. How many top Gradients are stable among all last 10 epochs?: 165\n",
      "root - INFO - k = 300. How many top Gradients are stable among all last 10 epochs?: 261\n",
      "root - INFO - k = 400. How many top Gradients are stable among all last 10 epochs?: 388\n",
      "root - INFO - After 17 epoch:\n",
      "root - INFO - CHECKING GRADIENT FOR LABEL 4\n",
      "root - INFO - k = 100. How many top Gradients are stable among all last 10 epochs?: 72\n",
      "root - INFO - k = 200. How many top Gradients are stable among all last 10 epochs?: 154\n",
      "root - INFO - k = 300. How many top Gradients are stable among all last 10 epochs?: 263\n",
      "root - INFO - k = 400. How many top Gradients are stable among all last 10 epochs?: 386\n",
      "root - INFO - After 17 epoch:\n",
      "root - INFO - CHECKING GRADIENT FOR LABEL 5\n",
      "root - INFO - k = 100. How many top Gradients are stable among all last 10 epochs?: 74\n",
      "root - INFO - k = 200. How many top Gradients are stable among all last 10 epochs?: 155\n",
      "root - INFO - k = 300. How many top Gradients are stable among all last 10 epochs?: 273\n",
      "root - INFO - k = 400. How many top Gradients are stable among all last 10 epochs?: 385\n",
      "root - INFO - After 17 epoch:\n",
      "root - INFO - CHECKING GRADIENT FOR LABEL 6\n",
      "root - INFO - k = 100. How many top Gradients are stable among all last 10 epochs?: 77\n",
      "root - INFO - k = 200. How many top Gradients are stable among all last 10 epochs?: 164\n",
      "root - INFO - k = 300. How many top Gradients are stable among all last 10 epochs?: 272\n",
      "root - INFO - k = 400. How many top Gradients are stable among all last 10 epochs?: 387\n",
      "root - INFO - After 17 epoch:\n",
      "root - INFO - CHECKING GRADIENT FOR LABEL 7\n",
      "root - INFO - k = 100. How many top Gradients are stable among all last 10 epochs?: 77\n",
      "root - INFO - k = 200. How many top Gradients are stable among all last 10 epochs?: 163\n",
      "root - INFO - k = 300. How many top Gradients are stable among all last 10 epochs?: 272\n",
      "root - INFO - k = 400. How many top Gradients are stable among all last 10 epochs?: 383\n",
      "root - INFO - After 17 epoch:\n",
      "root - INFO - CHECKING GRADIENT FOR LABEL 8\n",
      "root - INFO - k = 100. How many top Gradients are stable among all last 10 epochs?: 79\n",
      "root - INFO - k = 200. How many top Gradients are stable among all last 10 epochs?: 165\n"
     ]
    },
    {
     "name": "stdout",
     "output_type": "stream",
     "text": [
      "\n",
      "Test set: Average loss: 0.4530, Accuracy: 8756/10000 (88%)\n",
      "\n"
     ]
    },
    {
     "name": "stderr",
     "output_type": "stream",
     "text": [
      "root - INFO - k = 300. How many top Gradients are stable among all last 10 epochs?: 271\n",
      "root - INFO - k = 400. How many top Gradients are stable among all last 10 epochs?: 390\n",
      "root - INFO - After 17 epoch:\n",
      "root - INFO - CHECKING GRADIENT FOR LABEL 9\n",
      "root - INFO - k = 100. How many top Gradients are stable among all last 10 epochs?: 76\n",
      "root - INFO - k = 200. How many top Gradients are stable among all last 10 epochs?: 169\n",
      "root - INFO - k = 300. How many top Gradients are stable among all last 10 epochs?: 265\n",
      "root - INFO - k = 400. How many top Gradients are stable among all last 10 epochs?: 387\n",
      " 57%|█████▋    | 17/30 [05:22<04:06, 18.98s/it]root - INFO - After 18 epoch:\n",
      "root - INFO - CHECKING GRADIENT FOR LABEL 0\n",
      "root - INFO - k = 100. How many top Gradients are stable among all last 10 epochs?: 78\n",
      "root - INFO - k = 200. How many top Gradients are stable among all last 10 epochs?: 172\n",
      "root - INFO - k = 300. How many top Gradients are stable among all last 10 epochs?: 278\n",
      "root - INFO - k = 400. How many top Gradients are stable among all last 10 epochs?: 390\n",
      "root - INFO - After 18 epoch:\n",
      "root - INFO - CHECKING GRADIENT FOR LABEL 1\n",
      "root - INFO - k = 100. How many top Gradients are stable among all last 10 epochs?: 88\n",
      "root - INFO - k = 200. How many top Gradients are stable among all last 10 epochs?: 179\n",
      "root - INFO - k = 300. How many top Gradients are stable among all last 10 epochs?: 273\n",
      "root - INFO - k = 400. How many top Gradients are stable among all last 10 epochs?: 387\n",
      "root - INFO - After 18 epoch:\n",
      "root - INFO - CHECKING GRADIENT FOR LABEL 2\n",
      "root - INFO - k = 100. How many top Gradients are stable among all last 10 epochs?: 82\n",
      "root - INFO - k = 200. How many top Gradients are stable among all last 10 epochs?: 184\n",
      "root - INFO - k = 300. How many top Gradients are stable among all last 10 epochs?: 282\n",
      "root - INFO - k = 400. How many top Gradients are stable among all last 10 epochs?: 392\n",
      "root - INFO - After 18 epoch:\n",
      "root - INFO - CHECKING GRADIENT FOR LABEL 3\n",
      "root - INFO - k = 100. How many top Gradients are stable among all last 10 epochs?: 79\n",
      "root - INFO - k = 200. How many top Gradients are stable among all last 10 epochs?: 168\n",
      "root - INFO - k = 300. How many top Gradients are stable among all last 10 epochs?: 265\n",
      "root - INFO - k = 400. How many top Gradients are stable among all last 10 epochs?: 392\n",
      "root - INFO - After 18 epoch:\n",
      "root - INFO - CHECKING GRADIENT FOR LABEL 4\n",
      "root - INFO - k = 100. How many top Gradients are stable among all last 10 epochs?: 78\n",
      "root - INFO - k = 200. How many top Gradients are stable among all last 10 epochs?: 160\n",
      "root - INFO - k = 300. How many top Gradients are stable among all last 10 epochs?: 267\n",
      "root - INFO - k = 400. How many top Gradients are stable among all last 10 epochs?: 387\n",
      "root - INFO - After 18 epoch:\n",
      "root - INFO - CHECKING GRADIENT FOR LABEL 5\n",
      "root - INFO - k = 100. How many top Gradients are stable among all last 10 epochs?: 79\n",
      "root - INFO - k = 200. How many top Gradients are stable among all last 10 epochs?: 163\n",
      "root - INFO - k = 300. How many top Gradients are stable among all last 10 epochs?: 281\n",
      "root - INFO - k = 400. How many top Gradients are stable among all last 10 epochs?: 386\n",
      "root - INFO - After 18 epoch:\n",
      "root - INFO - CHECKING GRADIENT FOR LABEL 6\n",
      "root - INFO - k = 100. How many top Gradients are stable among all last 10 epochs?: 80\n",
      "root - INFO - k = 200. How many top Gradients are stable among all last 10 epochs?: 172\n",
      "root - INFO - k = 300. How many top Gradients are stable among all last 10 epochs?: 280\n",
      "root - INFO - k = 400. How many top Gradients are stable among all last 10 epochs?: 389\n",
      "root - INFO - After 18 epoch:\n",
      "root - INFO - CHECKING GRADIENT FOR LABEL 7\n",
      "root - INFO - k = 100. How many top Gradients are stable among all last 10 epochs?: 81\n",
      "root - INFO - k = 200. How many top Gradients are stable among all last 10 epochs?: 170\n",
      "root - INFO - k = 300. How many top Gradients are stable among all last 10 epochs?: 279\n",
      "root - INFO - k = 400. How many top Gradients are stable among all last 10 epochs?: 386\n"
     ]
    },
    {
     "name": "stdout",
     "output_type": "stream",
     "text": [
      "\n",
      "Test set: Average loss: 0.4339, Accuracy: 8800/10000 (88%)\n",
      "\n"
     ]
    },
    {
     "name": "stderr",
     "output_type": "stream",
     "text": [
      "root - INFO - After 18 epoch:\n",
      "root - INFO - CHECKING GRADIENT FOR LABEL 8\n",
      "root - INFO - k = 100. How many top Gradients are stable among all last 10 epochs?: 81\n",
      "root - INFO - k = 200. How many top Gradients are stable among all last 10 epochs?: 169\n",
      "root - INFO - k = 300. How many top Gradients are stable among all last 10 epochs?: 276\n",
      "root - INFO - k = 400. How many top Gradients are stable among all last 10 epochs?: 394\n",
      "root - INFO - After 18 epoch:\n",
      "root - INFO - CHECKING GRADIENT FOR LABEL 9\n",
      "root - INFO - k = 100. How many top Gradients are stable among all last 10 epochs?: 76\n",
      "root - INFO - k = 200. How many top Gradients are stable among all last 10 epochs?: 168\n",
      "root - INFO - k = 300. How many top Gradients are stable among all last 10 epochs?: 273\n",
      "root - INFO - k = 400. How many top Gradients are stable among all last 10 epochs?: 390\n",
      " 60%|██████    | 18/30 [05:41<03:47, 18.99s/it]root - INFO - After 19 epoch:\n",
      "root - INFO - CHECKING GRADIENT FOR LABEL 0\n",
      "root - INFO - k = 100. How many top Gradients are stable among all last 10 epochs?: 78\n",
      "root - INFO - k = 200. How many top Gradients are stable among all last 10 epochs?: 174\n",
      "root - INFO - k = 300. How many top Gradients are stable among all last 10 epochs?: 280\n",
      "root - INFO - k = 400. How many top Gradients are stable among all last 10 epochs?: 389\n",
      "root - INFO - After 19 epoch:\n",
      "root - INFO - CHECKING GRADIENT FOR LABEL 1\n",
      "root - INFO - k = 100. How many top Gradients are stable among all last 10 epochs?: 91\n",
      "root - INFO - k = 200. How many top Gradients are stable among all last 10 epochs?: 184\n",
      "root - INFO - k = 300. How many top Gradients are stable among all last 10 epochs?: 281\n",
      "root - INFO - k = 400. How many top Gradients are stable among all last 10 epochs?: 391\n",
      "root - INFO - After 19 epoch:\n",
      "root - INFO - CHECKING GRADIENT FOR LABEL 2\n",
      "root - INFO - k = 100. How many top Gradients are stable among all last 10 epochs?: 85\n",
      "root - INFO - k = 200. How many top Gradients are stable among all last 10 epochs?: 186\n",
      "root - INFO - k = 300. How many top Gradients are stable among all last 10 epochs?: 287\n",
      "root - INFO - k = 400. How many top Gradients are stable among all last 10 epochs?: 393\n",
      "root - INFO - After 19 epoch:\n",
      "root - INFO - CHECKING GRADIENT FOR LABEL 3\n",
      "root - INFO - k = 100. How many top Gradients are stable among all last 10 epochs?: 81\n",
      "root - INFO - k = 200. How many top Gradients are stable among all last 10 epochs?: 172\n",
      "root - INFO - k = 300. How many top Gradients are stable among all last 10 epochs?: 271\n",
      "root - INFO - k = 400. How many top Gradients are stable among all last 10 epochs?: 394\n",
      "root - INFO - After 19 epoch:\n",
      "root - INFO - CHECKING GRADIENT FOR LABEL 4\n",
      "root - INFO - k = 100. How many top Gradients are stable among all last 10 epochs?: 81\n",
      "root - INFO - k = 200. How many top Gradients are stable among all last 10 epochs?: 164\n",
      "root - INFO - k = 300. How many top Gradients are stable among all last 10 epochs?: 271\n",
      "root - INFO - k = 400. How many top Gradients are stable among all last 10 epochs?: 388\n",
      "root - INFO - After 19 epoch:\n",
      "root - INFO - CHECKING GRADIENT FOR LABEL 5\n",
      "root - INFO - k = 100. How many top Gradients are stable among all last 10 epochs?: 82\n",
      "root - INFO - k = 200. How many top Gradients are stable among all last 10 epochs?: 173\n",
      "root - INFO - k = 300. How many top Gradients are stable among all last 10 epochs?: 286\n",
      "root - INFO - k = 400. How many top Gradients are stable among all last 10 epochs?: 391\n",
      "root - INFO - After 19 epoch:\n",
      "root - INFO - CHECKING GRADIENT FOR LABEL 6\n",
      "root - INFO - k = 100. How many top Gradients are stable among all last 10 epochs?: 82\n",
      "root - INFO - k = 200. How many top Gradients are stable among all last 10 epochs?: 178\n",
      "root - INFO - k = 300. How many top Gradients are stable among all last 10 epochs?: 284\n",
      "root - INFO - k = 400. How many top Gradients are stable among all last 10 epochs?: 390\n",
      "root - INFO - After 19 epoch:\n",
      "root - INFO - CHECKING GRADIENT FOR LABEL 7\n",
      "root - INFO - k = 100. How many top Gradients are stable among all last 10 epochs?: 84\n",
      "root - INFO - k = 200. How many top Gradients are stable among all last 10 epochs?: 177\n",
      "root - INFO - k = 300. How many top Gradients are stable among all last 10 epochs?: 283\n",
      "root - INFO - k = 400. How many top Gradients are stable among all last 10 epochs?: 390\n",
      "root - INFO - After 19 epoch:\n",
      "root - INFO - CHECKING GRADIENT FOR LABEL 8\n"
     ]
    },
    {
     "name": "stdout",
     "output_type": "stream",
     "text": [
      "\n",
      "Test set: Average loss: 0.4176, Accuracy: 8839/10000 (88%)\n",
      "\n"
     ]
    },
    {
     "name": "stderr",
     "output_type": "stream",
     "text": [
      "root - INFO - k = 100. How many top Gradients are stable among all last 10 epochs?: 82\n",
      "root - INFO - k = 200. How many top Gradients are stable among all last 10 epochs?: 173\n",
      "root - INFO - k = 300. How many top Gradients are stable among all last 10 epochs?: 280\n",
      "root - INFO - k = 400. How many top Gradients are stable among all last 10 epochs?: 396\n",
      "root - INFO - After 19 epoch:\n",
      "root - INFO - CHECKING GRADIENT FOR LABEL 9\n",
      "root - INFO - k = 100. How many top Gradients are stable among all last 10 epochs?: 82\n",
      "root - INFO - k = 200. How many top Gradients are stable among all last 10 epochs?: 173\n",
      "root - INFO - k = 300. How many top Gradients are stable among all last 10 epochs?: 281\n",
      "root - INFO - k = 400. How many top Gradients are stable among all last 10 epochs?: 390\n",
      " 63%|██████▎   | 19/30 [06:00<03:28, 19.00s/it]root - INFO - After 20 epoch:\n",
      "root - INFO - CHECKING GRADIENT FOR LABEL 0\n",
      "root - INFO - k = 100. How many top Gradients are stable among all last 10 epochs?: 79\n",
      "root - INFO - k = 200. How many top Gradients are stable among all last 10 epochs?: 176\n",
      "root - INFO - k = 300. How many top Gradients are stable among all last 10 epochs?: 283\n",
      "root - INFO - k = 400. How many top Gradients are stable among all last 10 epochs?: 392\n",
      "root - INFO - After 20 epoch:\n",
      "root - INFO - CHECKING GRADIENT FOR LABEL 1\n",
      "root - INFO - k = 100. How many top Gradients are stable among all last 10 epochs?: 92\n",
      "root - INFO - k = 200. How many top Gradients are stable among all last 10 epochs?: 188\n",
      "root - INFO - k = 300. How many top Gradients are stable among all last 10 epochs?: 285\n",
      "root - INFO - k = 400. How many top Gradients are stable among all last 10 epochs?: 392\n",
      "root - INFO - After 20 epoch:\n",
      "root - INFO - CHECKING GRADIENT FOR LABEL 2\n",
      "root - INFO - k = 100. How many top Gradients are stable among all last 10 epochs?: 86\n",
      "root - INFO - k = 200. How many top Gradients are stable among all last 10 epochs?: 184\n",
      "root - INFO - k = 300. How many top Gradients are stable among all last 10 epochs?: 288\n",
      "root - INFO - k = 400. How many top Gradients are stable among all last 10 epochs?: 394\n",
      "root - INFO - After 20 epoch:\n",
      "root - INFO - CHECKING GRADIENT FOR LABEL 3\n",
      "root - INFO - k = 100. How many top Gradients are stable among all last 10 epochs?: 85\n",
      "root - INFO - k = 200. How many top Gradients are stable among all last 10 epochs?: 176\n",
      "root - INFO - k = 300. How many top Gradients are stable among all last 10 epochs?: 277\n",
      "root - INFO - k = 400. How many top Gradients are stable among all last 10 epochs?: 394\n",
      "root - INFO - After 20 epoch:\n",
      "root - INFO - CHECKING GRADIENT FOR LABEL 4\n",
      "root - INFO - k = 100. How many top Gradients are stable among all last 10 epochs?: 83\n",
      "root - INFO - k = 200. How many top Gradients are stable among all last 10 epochs?: 172\n",
      "root - INFO - k = 300. How many top Gradients are stable among all last 10 epochs?: 274\n",
      "root - INFO - k = 400. How many top Gradients are stable among all last 10 epochs?: 388\n",
      "root - INFO - After 20 epoch:\n",
      "root - INFO - CHECKING GRADIENT FOR LABEL 5\n",
      "root - INFO - k = 100. How many top Gradients are stable among all last 10 epochs?: 84\n",
      "root - INFO - k = 200. How many top Gradients are stable among all last 10 epochs?: 174\n",
      "root - INFO - k = 300. How many top Gradients are stable among all last 10 epochs?: 286\n",
      "root - INFO - k = 400. How many top Gradients are stable among all last 10 epochs?: 393\n",
      "root - INFO - After 20 epoch:\n",
      "root - INFO - CHECKING GRADIENT FOR LABEL 6\n",
      "root - INFO - k = 100. How many top Gradients are stable among all last 10 epochs?: 85\n",
      "root - INFO - k = 200. How many top Gradients are stable among all last 10 epochs?: 183\n",
      "root - INFO - k = 300. How many top Gradients are stable among all last 10 epochs?: 286\n",
      "root - INFO - k = 400. How many top Gradients are stable among all last 10 epochs?: 393\n",
      "root - INFO - After 20 epoch:\n",
      "root - INFO - CHECKING GRADIENT FOR LABEL 7\n",
      "root - INFO - k = 100. How many top Gradients are stable among all last 10 epochs?: 89\n"
     ]
    },
    {
     "name": "stdout",
     "output_type": "stream",
     "text": [
      "\n",
      "Test set: Average loss: 0.4028, Accuracy: 8890/10000 (89%)\n",
      "\n"
     ]
    },
    {
     "name": "stderr",
     "output_type": "stream",
     "text": [
      "root - INFO - k = 200. How many top Gradients are stable among all last 10 epochs?: 184\n",
      "root - INFO - k = 300. How many top Gradients are stable among all last 10 epochs?: 287\n",
      "root - INFO - k = 400. How many top Gradients are stable among all last 10 epochs?: 391\n",
      "root - INFO - After 20 epoch:\n",
      "root - INFO - CHECKING GRADIENT FOR LABEL 8\n",
      "root - INFO - k = 100. How many top Gradients are stable among all last 10 epochs?: 85\n",
      "root - INFO - k = 200. How many top Gradients are stable among all last 10 epochs?: 181\n",
      "root - INFO - k = 300. How many top Gradients are stable among all last 10 epochs?: 284\n",
      "root - INFO - k = 400. How many top Gradients are stable among all last 10 epochs?: 397\n",
      "root - INFO - After 20 epoch:\n",
      "root - INFO - CHECKING GRADIENT FOR LABEL 9\n",
      "root - INFO - k = 100. How many top Gradients are stable among all last 10 epochs?: 86\n",
      "root - INFO - k = 200. How many top Gradients are stable among all last 10 epochs?: 179\n",
      "root - INFO - k = 300. How many top Gradients are stable among all last 10 epochs?: 284\n",
      "root - INFO - k = 400. How many top Gradients are stable among all last 10 epochs?: 391\n",
      " 67%|██████▋   | 20/30 [06:19<03:10, 19.00s/it]root - INFO - After 21 epoch:\n",
      "root - INFO - CHECKING GRADIENT FOR LABEL 0\n",
      "root - INFO - k = 100. How many top Gradients are stable among all last 10 epochs?: 80\n",
      "root - INFO - k = 200. How many top Gradients are stable among all last 10 epochs?: 182\n",
      "root - INFO - k = 300. How many top Gradients are stable among all last 10 epochs?: 285\n",
      "root - INFO - k = 400. How many top Gradients are stable among all last 10 epochs?: 393\n",
      "root - INFO - After 21 epoch:\n",
      "root - INFO - CHECKING GRADIENT FOR LABEL 1\n",
      "root - INFO - k = 100. How many top Gradients are stable among all last 10 epochs?: 94\n",
      "root - INFO - k = 200. How many top Gradients are stable among all last 10 epochs?: 189\n",
      "root - INFO - k = 300. How many top Gradients are stable among all last 10 epochs?: 288\n",
      "root - INFO - k = 400. How many top Gradients are stable among all last 10 epochs?: 393\n",
      "root - INFO - After 21 epoch:\n",
      "root - INFO - CHECKING GRADIENT FOR LABEL 2\n",
      "root - INFO - k = 100. How many top Gradients are stable among all last 10 epochs?: 87\n",
      "root - INFO - k = 200. How many top Gradients are stable among all last 10 epochs?: 187\n",
      "root - INFO - k = 300. How many top Gradients are stable among all last 10 epochs?: 289\n",
      "root - INFO - k = 400. How many top Gradients are stable among all last 10 epochs?: 394\n",
      "root - INFO - After 21 epoch:\n",
      "root - INFO - CHECKING GRADIENT FOR LABEL 3\n",
      "root - INFO - k = 100. How many top Gradients are stable among all last 10 epochs?: 87\n",
      "root - INFO - k = 200. How many top Gradients are stable among all last 10 epochs?: 180\n",
      "root - INFO - k = 300. How many top Gradients are stable among all last 10 epochs?: 278\n",
      "root - INFO - k = 400. How many top Gradients are stable among all last 10 epochs?: 395\n",
      "root - INFO - After 21 epoch:\n",
      "root - INFO - CHECKING GRADIENT FOR LABEL 4\n",
      "root - INFO - k = 100. How many top Gradients are stable among all last 10 epochs?: 84\n",
      "root - INFO - k = 200. How many top Gradients are stable among all last 10 epochs?: 174\n",
      "root - INFO - k = 300. How many top Gradients are stable among all last 10 epochs?: 277\n",
      "root - INFO - k = 400. How many top Gradients are stable among all last 10 epochs?: 391\n",
      "root - INFO - After 21 epoch:\n",
      "root - INFO - CHECKING GRADIENT FOR LABEL 5\n",
      "root - INFO - k = 100. How many top Gradients are stable among all last 10 epochs?: 88\n",
      "root - INFO - k = 200. How many top Gradients are stable among all last 10 epochs?: 182\n",
      "root - INFO - k = 300. How many top Gradients are stable among all last 10 epochs?: 288\n",
      "root - INFO - k = 400. How many top Gradients are stable among all last 10 epochs?: 394\n",
      "root - INFO - After 21 epoch:\n",
      "root - INFO - CHECKING GRADIENT FOR LABEL 6\n",
      "root - INFO - k = 100. How many top Gradients are stable among all last 10 epochs?: 88\n",
      "root - INFO - k = 200. How many top Gradients are stable among all last 10 epochs?: 186\n",
      "root - INFO - k = 300. How many top Gradients are stable among all last 10 epochs?: 285\n",
      "root - INFO - k = 400. How many top Gradients are stable among all last 10 epochs?: 395\n",
      "root - INFO - After 21 epoch:\n",
      "root - INFO - CHECKING GRADIENT FOR LABEL 7\n",
      "root - INFO - k = 100. How many top Gradients are stable among all last 10 epochs?: 90\n",
      "root - INFO - k = 200. How many top Gradients are stable among all last 10 epochs?: 187\n",
      "root - INFO - k = 300. How many top Gradients are stable among all last 10 epochs?: 289\n",
      "root - INFO - k = 400. How many top Gradients are stable among all last 10 epochs?: 392\n"
     ]
    },
    {
     "name": "stdout",
     "output_type": "stream",
     "text": [
      "\n",
      "Test set: Average loss: 0.3909, Accuracy: 8909/10000 (89%)\n",
      "\n"
     ]
    },
    {
     "name": "stderr",
     "output_type": "stream",
     "text": [
      "root - INFO - After 21 epoch:\n",
      "root - INFO - CHECKING GRADIENT FOR LABEL 8\n",
      "root - INFO - k = 100. How many top Gradients are stable among all last 10 epochs?: 86\n",
      "root - INFO - k = 200. How many top Gradients are stable among all last 10 epochs?: 183\n",
      "root - INFO - k = 300. How many top Gradients are stable among all last 10 epochs?: 285\n",
      "root - INFO - k = 400. How many top Gradients are stable among all last 10 epochs?: 396\n",
      "root - INFO - After 21 epoch:\n",
      "root - INFO - CHECKING GRADIENT FOR LABEL 9\n",
      "root - INFO - k = 100. How many top Gradients are stable among all last 10 epochs?: 88\n",
      "root - INFO - k = 200. How many top Gradients are stable among all last 10 epochs?: 183\n",
      "root - INFO - k = 300. How many top Gradients are stable among all last 10 epochs?: 285\n",
      "root - INFO - k = 400. How many top Gradients are stable among all last 10 epochs?: 393\n",
      " 70%|███████   | 21/30 [06:38<02:50, 18.98s/it]root - INFO - After 22 epoch:\n",
      "root - INFO - CHECKING GRADIENT FOR LABEL 0\n",
      "root - INFO - k = 100. How many top Gradients are stable among all last 10 epochs?: 84\n",
      "root - INFO - k = 200. How many top Gradients are stable among all last 10 epochs?: 182\n",
      "root - INFO - k = 300. How many top Gradients are stable among all last 10 epochs?: 285\n",
      "root - INFO - k = 400. How many top Gradients are stable among all last 10 epochs?: 394\n",
      "root - INFO - After 22 epoch:\n",
      "root - INFO - CHECKING GRADIENT FOR LABEL 1\n",
      "root - INFO - k = 100. How many top Gradients are stable among all last 10 epochs?: 94\n",
      "root - INFO - k = 200. How many top Gradients are stable among all last 10 epochs?: 189\n",
      "root - INFO - k = 300. How many top Gradients are stable among all last 10 epochs?: 291\n",
      "root - INFO - k = 400. How many top Gradients are stable among all last 10 epochs?: 395\n",
      "root - INFO - After 22 epoch:\n",
      "root - INFO - CHECKING GRADIENT FOR LABEL 2\n",
      "root - INFO - k = 100. How many top Gradients are stable among all last 10 epochs?: 88\n",
      "root - INFO - k = 200. How many top Gradients are stable among all last 10 epochs?: 188\n",
      "root - INFO - k = 300. How many top Gradients are stable among all last 10 epochs?: 288\n",
      "root - INFO - k = 400. How many top Gradients are stable among all last 10 epochs?: 395\n",
      "root - INFO - After 22 epoch:\n",
      "root - INFO - CHECKING GRADIENT FOR LABEL 3\n",
      "root - INFO - k = 100. How many top Gradients are stable among all last 10 epochs?: 91\n",
      "root - INFO - k = 200. How many top Gradients are stable among all last 10 epochs?: 181\n",
      "root - INFO - k = 300. How many top Gradients are stable among all last 10 epochs?: 280\n",
      "root - INFO - k = 400. How many top Gradients are stable among all last 10 epochs?: 396\n",
      "root - INFO - After 22 epoch:\n",
      "root - INFO - CHECKING GRADIENT FOR LABEL 4\n",
      "root - INFO - k = 100. How many top Gradients are stable among all last 10 epochs?: 86\n",
      "root - INFO - k = 200. How many top Gradients are stable among all last 10 epochs?: 175\n",
      "root - INFO - k = 300. How many top Gradients are stable among all last 10 epochs?: 280\n",
      "root - INFO - k = 400. How many top Gradients are stable among all last 10 epochs?: 391\n",
      "root - INFO - After 22 epoch:\n",
      "root - INFO - CHECKING GRADIENT FOR LABEL 5\n",
      "root - INFO - k = 100. How many top Gradients are stable among all last 10 epochs?: 87\n",
      "root - INFO - k = 200. How many top Gradients are stable among all last 10 epochs?: 185\n",
      "root - INFO - k = 300. How many top Gradients are stable among all last 10 epochs?: 290\n",
      "root - INFO - k = 400. How many top Gradients are stable among all last 10 epochs?: 396\n",
      "root - INFO - After 22 epoch:\n",
      "root - INFO - CHECKING GRADIENT FOR LABEL 6\n",
      "root - INFO - k = 100. How many top Gradients are stable among all last 10 epochs?: 89\n",
      "root - INFO - k = 200. How many top Gradients are stable among all last 10 epochs?: 187\n",
      "root - INFO - k = 300. How many top Gradients are stable among all last 10 epochs?: 285\n",
      "root - INFO - k = 400. How many top Gradients are stable among all last 10 epochs?: 396\n",
      "root - INFO - After 22 epoch:\n",
      "root - INFO - CHECKING GRADIENT FOR LABEL 7\n"
     ]
    },
    {
     "name": "stdout",
     "output_type": "stream",
     "text": [
      "\n",
      "Test set: Average loss: 0.3803, Accuracy: 8924/10000 (89%)\n",
      "\n"
     ]
    },
    {
     "name": "stderr",
     "output_type": "stream",
     "text": [
      "root - INFO - k = 100. How many top Gradients are stable among all last 10 epochs?: 90\n",
      "root - INFO - k = 200. How many top Gradients are stable among all last 10 epochs?: 188\n",
      "root - INFO - k = 300. How many top Gradients are stable among all last 10 epochs?: 291\n",
      "root - INFO - k = 400. How many top Gradients are stable among all last 10 epochs?: 394\n",
      "root - INFO - After 22 epoch:\n",
      "root - INFO - CHECKING GRADIENT FOR LABEL 8\n",
      "root - INFO - k = 100. How many top Gradients are stable among all last 10 epochs?: 89\n",
      "root - INFO - k = 200. How many top Gradients are stable among all last 10 epochs?: 185\n",
      "root - INFO - k = 300. How many top Gradients are stable among all last 10 epochs?: 285\n",
      "root - INFO - k = 400. How many top Gradients are stable among all last 10 epochs?: 395\n",
      "root - INFO - After 22 epoch:\n",
      "root - INFO - CHECKING GRADIENT FOR LABEL 9\n",
      "root - INFO - k = 100. How many top Gradients are stable among all last 10 epochs?: 90\n",
      "root - INFO - k = 200. How many top Gradients are stable among all last 10 epochs?: 185\n",
      "root - INFO - k = 300. How many top Gradients are stable among all last 10 epochs?: 285\n",
      "root - INFO - k = 400. How many top Gradients are stable among all last 10 epochs?: 392\n",
      " 73%|███████▎  | 22/30 [06:57<02:31, 18.97s/it]root - INFO - After 23 epoch:\n",
      "root - INFO - CHECKING GRADIENT FOR LABEL 0\n",
      "root - INFO - k = 100. How many top Gradients are stable among all last 10 epochs?: 88\n",
      "root - INFO - k = 200. How many top Gradients are stable among all last 10 epochs?: 182\n",
      "root - INFO - k = 300. How many top Gradients are stable among all last 10 epochs?: 283\n",
      "root - INFO - k = 400. How many top Gradients are stable among all last 10 epochs?: 394\n",
      "root - INFO - After 23 epoch:\n",
      "root - INFO - CHECKING GRADIENT FOR LABEL 1\n",
      "root - INFO - k = 100. How many top Gradients are stable among all last 10 epochs?: 95\n",
      "root - INFO - k = 200. How many top Gradients are stable among all last 10 epochs?: 189\n",
      "root - INFO - k = 300. How many top Gradients are stable among all last 10 epochs?: 291\n",
      "root - INFO - k = 400. How many top Gradients are stable among all last 10 epochs?: 395\n",
      "root - INFO - After 23 epoch:\n",
      "root - INFO - CHECKING GRADIENT FOR LABEL 2\n",
      "root - INFO - k = 100. How many top Gradients are stable among all last 10 epochs?: 90\n",
      "root - INFO - k = 200. How many top Gradients are stable among all last 10 epochs?: 189\n",
      "root - INFO - k = 300. How many top Gradients are stable among all last 10 epochs?: 291\n",
      "root - INFO - k = 400. How many top Gradients are stable among all last 10 epochs?: 397\n",
      "root - INFO - After 23 epoch:\n",
      "root - INFO - CHECKING GRADIENT FOR LABEL 3\n",
      "root - INFO - k = 100. How many top Gradients are stable among all last 10 epochs?: 91\n",
      "root - INFO - k = 200. How many top Gradients are stable among all last 10 epochs?: 183\n",
      "root - INFO - k = 300. How many top Gradients are stable among all last 10 epochs?: 281\n",
      "root - INFO - k = 400. How many top Gradients are stable among all last 10 epochs?: 396\n",
      "root - INFO - After 23 epoch:\n",
      "root - INFO - CHECKING GRADIENT FOR LABEL 4\n",
      "root - INFO - k = 100. How many top Gradients are stable among all last 10 epochs?: 87\n",
      "root - INFO - k = 200. How many top Gradients are stable among all last 10 epochs?: 179\n",
      "root - INFO - k = 300. How many top Gradients are stable among all last 10 epochs?: 282\n",
      "root - INFO - k = 400. How many top Gradients are stable among all last 10 epochs?: 392\n",
      "root - INFO - After 23 epoch:\n",
      "root - INFO - CHECKING GRADIENT FOR LABEL 5\n",
      "root - INFO - k = 100. How many top Gradients are stable among all last 10 epochs?: 87\n",
      "root - INFO - k = 200. How many top Gradients are stable among all last 10 epochs?: 187\n",
      "root - INFO - k = 300. How many top Gradients are stable among all last 10 epochs?: 290\n",
      "root - INFO - k = 400. How many top Gradients are stable among all last 10 epochs?: 397\n",
      "root - INFO - After 23 epoch:\n",
      "root - INFO - CHECKING GRADIENT FOR LABEL 6\n",
      "root - INFO - k = 100. How many top Gradients are stable among all last 10 epochs?: 91\n",
      "root - INFO - k = 200. How many top Gradients are stable among all last 10 epochs?: 190\n",
      "root - INFO - k = 300. How many top Gradients are stable among all last 10 epochs?: 286\n",
      "root - INFO - k = 400. How many top Gradients are stable among all last 10 epochs?: 395\n",
      "root - INFO - After 23 epoch:\n",
      "root - INFO - CHECKING GRADIENT FOR LABEL 7\n"
     ]
    },
    {
     "name": "stdout",
     "output_type": "stream",
     "text": [
      "\n",
      "Test set: Average loss: 0.3705, Accuracy: 8943/10000 (89%)\n",
      "\n"
     ]
    },
    {
     "name": "stderr",
     "output_type": "stream",
     "text": [
      "root - INFO - k = 100. How many top Gradients are stable among all last 10 epochs?: 90\n",
      "root - INFO - k = 200. How many top Gradients are stable among all last 10 epochs?: 188\n",
      "root - INFO - k = 300. How many top Gradients are stable among all last 10 epochs?: 292\n",
      "root - INFO - k = 400. How many top Gradients are stable among all last 10 epochs?: 396\n",
      "root - INFO - After 23 epoch:\n",
      "root - INFO - CHECKING GRADIENT FOR LABEL 8\n",
      "root - INFO - k = 100. How many top Gradients are stable among all last 10 epochs?: 88\n",
      "root - INFO - k = 200. How many top Gradients are stable among all last 10 epochs?: 186\n",
      "root - INFO - k = 300. How many top Gradients are stable among all last 10 epochs?: 286\n",
      "root - INFO - k = 400. How many top Gradients are stable among all last 10 epochs?: 395\n",
      "root - INFO - After 23 epoch:\n",
      "root - INFO - CHECKING GRADIENT FOR LABEL 9\n",
      "root - INFO - k = 100. How many top Gradients are stable among all last 10 epochs?: 89\n",
      "root - INFO - k = 200. How many top Gradients are stable among all last 10 epochs?: 185\n",
      "root - INFO - k = 300. How many top Gradients are stable among all last 10 epochs?: 285\n",
      "root - INFO - k = 400. How many top Gradients are stable among all last 10 epochs?: 394\n",
      " 77%|███████▋  | 23/30 [07:16<02:12, 18.96s/it]root - INFO - After 24 epoch:\n",
      "root - INFO - CHECKING GRADIENT FOR LABEL 0\n",
      "root - INFO - k = 100. How many top Gradients are stable among all last 10 epochs?: 90\n",
      "root - INFO - k = 200. How many top Gradients are stable among all last 10 epochs?: 182\n",
      "root - INFO - k = 300. How many top Gradients are stable among all last 10 epochs?: 286\n",
      "root - INFO - k = 400. How many top Gradients are stable among all last 10 epochs?: 395\n",
      "root - INFO - After 24 epoch:\n",
      "root - INFO - CHECKING GRADIENT FOR LABEL 1\n",
      "root - INFO - k = 100. How many top Gradients are stable among all last 10 epochs?: 96\n",
      "root - INFO - k = 200. How many top Gradients are stable among all last 10 epochs?: 189\n",
      "root - INFO - k = 300. How many top Gradients are stable among all last 10 epochs?: 291\n",
      "root - INFO - k = 400. How many top Gradients are stable among all last 10 epochs?: 396\n",
      "root - INFO - After 24 epoch:\n",
      "root - INFO - CHECKING GRADIENT FOR LABEL 2\n",
      "root - INFO - k = 100. How many top Gradients are stable among all last 10 epochs?: 90\n",
      "root - INFO - k = 200. How many top Gradients are stable among all last 10 epochs?: 190\n",
      "root - INFO - k = 300. How many top Gradients are stable among all last 10 epochs?: 291\n",
      "root - INFO - k = 400. How many top Gradients are stable among all last 10 epochs?: 396\n",
      "root - INFO - After 24 epoch:\n",
      "root - INFO - CHECKING GRADIENT FOR LABEL 3\n",
      "root - INFO - k = 100. How many top Gradients are stable among all last 10 epochs?: 90\n",
      "root - INFO - k = 200. How many top Gradients are stable among all last 10 epochs?: 186\n",
      "root - INFO - k = 300. How many top Gradients are stable among all last 10 epochs?: 285\n",
      "root - INFO - k = 400. How many top Gradients are stable among all last 10 epochs?: 394\n",
      "root - INFO - After 24 epoch:\n",
      "root - INFO - CHECKING GRADIENT FOR LABEL 4\n",
      "root - INFO - k = 100. How many top Gradients are stable among all last 10 epochs?: 87\n",
      "root - INFO - k = 200. How many top Gradients are stable among all last 10 epochs?: 183\n",
      "root - INFO - k = 300. How many top Gradients are stable among all last 10 epochs?: 286\n",
      "root - INFO - k = 400. How many top Gradients are stable among all last 10 epochs?: 391\n",
      "root - INFO - After 24 epoch:\n",
      "root - INFO - CHECKING GRADIENT FOR LABEL 5\n",
      "root - INFO - k = 100. How many top Gradients are stable among all last 10 epochs?: 89\n",
      "root - INFO - k = 200. How many top Gradients are stable among all last 10 epochs?: 187\n",
      "root - INFO - k = 300. How many top Gradients are stable among all last 10 epochs?: 288\n",
      "root - INFO - k = 400. How many top Gradients are stable among all last 10 epochs?: 398\n",
      "root - INFO - After 24 epoch:\n",
      "root - INFO - CHECKING GRADIENT FOR LABEL 6\n",
      "root - INFO - k = 100. How many top Gradients are stable among all last 10 epochs?: 92\n",
      "root - INFO - k = 200. How many top Gradients are stable among all last 10 epochs?: 190\n",
      "root - INFO - k = 300. How many top Gradients are stable among all last 10 epochs?: 286\n",
      "root - INFO - k = 400. How many top Gradients are stable among all last 10 epochs?: 395\n"
     ]
    },
    {
     "name": "stdout",
     "output_type": "stream",
     "text": [
      "\n",
      "Test set: Average loss: 0.3620, Accuracy: 8966/10000 (90%)\n",
      "\n"
     ]
    },
    {
     "name": "stderr",
     "output_type": "stream",
     "text": [
      "root - INFO - After 24 epoch:\n",
      "root - INFO - CHECKING GRADIENT FOR LABEL 7\n",
      "root - INFO - k = 100. How many top Gradients are stable among all last 10 epochs?: 92\n",
      "root - INFO - k = 200. How many top Gradients are stable among all last 10 epochs?: 188\n",
      "root - INFO - k = 300. How many top Gradients are stable among all last 10 epochs?: 292\n",
      "root - INFO - k = 400. How many top Gradients are stable among all last 10 epochs?: 396\n",
      "root - INFO - After 24 epoch:\n",
      "root - INFO - CHECKING GRADIENT FOR LABEL 8\n",
      "root - INFO - k = 100. How many top Gradients are stable among all last 10 epochs?: 89\n",
      "root - INFO - k = 200. How many top Gradients are stable among all last 10 epochs?: 186\n",
      "root - INFO - k = 300. How many top Gradients are stable among all last 10 epochs?: 288\n",
      "root - INFO - k = 400. How many top Gradients are stable among all last 10 epochs?: 395\n",
      "root - INFO - After 24 epoch:\n",
      "root - INFO - CHECKING GRADIENT FOR LABEL 9\n",
      "root - INFO - k = 100. How many top Gradients are stable among all last 10 epochs?: 90\n",
      "root - INFO - k = 200. How many top Gradients are stable among all last 10 epochs?: 186\n",
      "root - INFO - k = 300. How many top Gradients are stable among all last 10 epochs?: 287\n",
      "root - INFO - k = 400. How many top Gradients are stable among all last 10 epochs?: 394\n",
      " 80%|████████  | 24/30 [07:35<01:53, 18.98s/it]root - INFO - After 25 epoch:\n",
      "root - INFO - CHECKING GRADIENT FOR LABEL 0\n",
      "root - INFO - k = 100. How many top Gradients are stable among all last 10 epochs?: 91\n",
      "root - INFO - k = 200. How many top Gradients are stable among all last 10 epochs?: 184\n",
      "root - INFO - k = 300. How many top Gradients are stable among all last 10 epochs?: 285\n",
      "root - INFO - k = 400. How many top Gradients are stable among all last 10 epochs?: 394\n",
      "root - INFO - After 25 epoch:\n",
      "root - INFO - CHECKING GRADIENT FOR LABEL 1\n",
      "root - INFO - k = 100. How many top Gradients are stable among all last 10 epochs?: 96\n",
      "root - INFO - k = 200. How many top Gradients are stable among all last 10 epochs?: 191\n",
      "root - INFO - k = 300. How many top Gradients are stable among all last 10 epochs?: 293\n",
      "root - INFO - k = 400. How many top Gradients are stable among all last 10 epochs?: 397\n",
      "root - INFO - After 25 epoch:\n",
      "root - INFO - CHECKING GRADIENT FOR LABEL 2\n",
      "root - INFO - k = 100. How many top Gradients are stable among all last 10 epochs?: 89\n",
      "root - INFO - k = 200. How many top Gradients are stable among all last 10 epochs?: 191\n",
      "root - INFO - k = 300. How many top Gradients are stable among all last 10 epochs?: 291\n",
      "root - INFO - k = 400. How many top Gradients are stable among all last 10 epochs?: 397\n",
      "root - INFO - After 25 epoch:\n",
      "root - INFO - CHECKING GRADIENT FOR LABEL 3\n",
      "root - INFO - k = 100. How many top Gradients are stable among all last 10 epochs?: 92\n",
      "root - INFO - k = 200. How many top Gradients are stable among all last 10 epochs?: 189\n",
      "root - INFO - k = 300. How many top Gradients are stable among all last 10 epochs?: 288\n",
      "root - INFO - k = 400. How many top Gradients are stable among all last 10 epochs?: 395\n",
      "root - INFO - After 25 epoch:\n",
      "root - INFO - CHECKING GRADIENT FOR LABEL 4\n",
      "root - INFO - k = 100. How many top Gradients are stable among all last 10 epochs?: 88\n",
      "root - INFO - k = 200. How many top Gradients are stable among all last 10 epochs?: 185\n",
      "root - INFO - k = 300. How many top Gradients are stable among all last 10 epochs?: 290\n",
      "root - INFO - k = 400. How many top Gradients are stable among all last 10 epochs?: 393\n",
      "root - INFO - After 25 epoch:\n",
      "root - INFO - CHECKING GRADIENT FOR LABEL 5\n",
      "root - INFO - k = 100. How many top Gradients are stable among all last 10 epochs?: 92\n",
      "root - INFO - k = 200. How many top Gradients are stable among all last 10 epochs?: 189\n",
      "root - INFO - k = 300. How many top Gradients are stable among all last 10 epochs?: 289\n",
      "root - INFO - k = 400. How many top Gradients are stable among all last 10 epochs?: 397\n",
      "root - INFO - After 25 epoch:\n",
      "root - INFO - CHECKING GRADIENT FOR LABEL 6\n",
      "root - INFO - k = 100. How many top Gradients are stable among all last 10 epochs?: 93\n",
      "root - INFO - k = 200. How many top Gradients are stable among all last 10 epochs?: 191\n",
      "root - INFO - k = 300. How many top Gradients are stable among all last 10 epochs?: 287\n",
      "root - INFO - k = 400. How many top Gradients are stable among all last 10 epochs?: 396\n",
      "root - INFO - After 25 epoch:\n",
      "root - INFO - CHECKING GRADIENT FOR LABEL 7\n"
     ]
    },
    {
     "name": "stdout",
     "output_type": "stream",
     "text": [
      "\n",
      "Test set: Average loss: 0.3543, Accuracy: 8983/10000 (90%)\n",
      "\n"
     ]
    },
    {
     "name": "stderr",
     "output_type": "stream",
     "text": [
      "root - INFO - k = 100. How many top Gradients are stable among all last 10 epochs?: 95\n",
      "root - INFO - k = 200. How many top Gradients are stable among all last 10 epochs?: 190\n",
      "root - INFO - k = 300. How many top Gradients are stable among all last 10 epochs?: 293\n",
      "root - INFO - k = 400. How many top Gradients are stable among all last 10 epochs?: 397\n",
      "root - INFO - After 25 epoch:\n",
      "root - INFO - CHECKING GRADIENT FOR LABEL 8\n",
      "root - INFO - k = 100. How many top Gradients are stable among all last 10 epochs?: 91\n",
      "root - INFO - k = 200. How many top Gradients are stable among all last 10 epochs?: 188\n",
      "root - INFO - k = 300. How many top Gradients are stable among all last 10 epochs?: 289\n",
      "root - INFO - k = 400. How many top Gradients are stable among all last 10 epochs?: 396\n",
      "root - INFO - After 25 epoch:\n",
      "root - INFO - CHECKING GRADIENT FOR LABEL 9\n",
      "root - INFO - k = 100. How many top Gradients are stable among all last 10 epochs?: 92\n",
      "root - INFO - k = 200. How many top Gradients are stable among all last 10 epochs?: 187\n",
      "root - INFO - k = 300. How many top Gradients are stable among all last 10 epochs?: 289\n",
      "root - INFO - k = 400. How many top Gradients are stable among all last 10 epochs?: 394\n",
      " 83%|████████▎ | 25/30 [07:54<01:35, 19.01s/it]root - INFO - After 26 epoch:\n",
      "root - INFO - CHECKING GRADIENT FOR LABEL 0\n",
      "root - INFO - k = 100. How many top Gradients are stable among all last 10 epochs?: 92\n",
      "root - INFO - k = 200. How many top Gradients are stable among all last 10 epochs?: 185\n",
      "root - INFO - k = 300. How many top Gradients are stable among all last 10 epochs?: 285\n",
      "root - INFO - k = 400. How many top Gradients are stable among all last 10 epochs?: 395\n",
      "root - INFO - After 26 epoch:\n",
      "root - INFO - CHECKING GRADIENT FOR LABEL 1\n",
      "root - INFO - k = 100. How many top Gradients are stable among all last 10 epochs?: 96\n",
      "root - INFO - k = 200. How many top Gradients are stable among all last 10 epochs?: 192\n",
      "root - INFO - k = 300. How many top Gradients are stable among all last 10 epochs?: 293\n",
      "root - INFO - k = 400. How many top Gradients are stable among all last 10 epochs?: 396\n",
      "root - INFO - After 26 epoch:\n",
      "root - INFO - CHECKING GRADIENT FOR LABEL 2\n",
      "root - INFO - k = 100. How many top Gradients are stable among all last 10 epochs?: 91\n",
      "root - INFO - k = 200. How many top Gradients are stable among all last 10 epochs?: 190\n",
      "root - INFO - k = 300. How many top Gradients are stable among all last 10 epochs?: 291\n",
      "root - INFO - k = 400. How many top Gradients are stable among all last 10 epochs?: 395\n",
      "root - INFO - After 26 epoch:\n",
      "root - INFO - CHECKING GRADIENT FOR LABEL 3\n",
      "root - INFO - k = 100. How many top Gradients are stable among all last 10 epochs?: 92\n",
      "root - INFO - k = 200. How many top Gradients are stable among all last 10 epochs?: 190\n",
      "root - INFO - k = 300. How many top Gradients are stable among all last 10 epochs?: 288\n",
      "root - INFO - k = 400. How many top Gradients are stable among all last 10 epochs?: 396\n",
      "root - INFO - After 26 epoch:\n",
      "root - INFO - CHECKING GRADIENT FOR LABEL 4\n",
      "root - INFO - k = 100. How many top Gradients are stable among all last 10 epochs?: 90\n",
      "root - INFO - k = 200. How many top Gradients are stable among all last 10 epochs?: 189\n",
      "root - INFO - k = 300. How many top Gradients are stable among all last 10 epochs?: 289\n",
      "root - INFO - k = 400. How many top Gradients are stable among all last 10 epochs?: 395\n",
      "root - INFO - After 26 epoch:\n",
      "root - INFO - CHECKING GRADIENT FOR LABEL 5\n",
      "root - INFO - k = 100. How many top Gradients are stable among all last 10 epochs?: 92\n",
      "root - INFO - k = 200. How many top Gradients are stable among all last 10 epochs?: 190\n",
      "root - INFO - k = 300. How many top Gradients are stable among all last 10 epochs?: 291\n",
      "root - INFO - k = 400. How many top Gradients are stable among all last 10 epochs?: 397\n",
      "root - INFO - After 26 epoch:\n",
      "root - INFO - CHECKING GRADIENT FOR LABEL 6\n",
      "root - INFO - k = 100. How many top Gradients are stable among all last 10 epochs?: 92\n",
      "root - INFO - k = 200. How many top Gradients are stable among all last 10 epochs?: 191\n",
      "root - INFO - k = 300. How many top Gradients are stable among all last 10 epochs?: 287\n",
      "root - INFO - k = 400. How many top Gradients are stable among all last 10 epochs?: 396\n",
      "root - INFO - After 26 epoch:\n",
      "root - INFO - CHECKING GRADIENT FOR LABEL 7\n"
     ]
    },
    {
     "name": "stdout",
     "output_type": "stream",
     "text": [
      "\n",
      "Test set: Average loss: 0.3473, Accuracy: 8996/10000 (90%)\n",
      "\n"
     ]
    },
    {
     "name": "stderr",
     "output_type": "stream",
     "text": [
      "root - INFO - k = 100. How many top Gradients are stable among all last 10 epochs?: 96\n",
      "root - INFO - k = 200. How many top Gradients are stable among all last 10 epochs?: 191\n",
      "root - INFO - k = 300. How many top Gradients are stable among all last 10 epochs?: 293\n",
      "root - INFO - k = 400. How many top Gradients are stable among all last 10 epochs?: 399\n",
      "root - INFO - After 26 epoch:\n",
      "root - INFO - CHECKING GRADIENT FOR LABEL 8\n",
      "root - INFO - k = 100. How many top Gradients are stable among all last 10 epochs?: 92\n",
      "root - INFO - k = 200. How many top Gradients are stable among all last 10 epochs?: 188\n",
      "root - INFO - k = 300. How many top Gradients are stable among all last 10 epochs?: 290\n",
      "root - INFO - k = 400. How many top Gradients are stable among all last 10 epochs?: 396\n",
      "root - INFO - After 26 epoch:\n",
      "root - INFO - CHECKING GRADIENT FOR LABEL 9\n",
      "root - INFO - k = 100. How many top Gradients are stable among all last 10 epochs?: 92\n",
      "root - INFO - k = 200. How many top Gradients are stable among all last 10 epochs?: 187\n",
      "root - INFO - k = 300. How many top Gradients are stable among all last 10 epochs?: 290\n",
      "root - INFO - k = 400. How many top Gradients are stable among all last 10 epochs?: 395\n",
      " 87%|████████▋ | 26/30 [08:13<01:16, 19.03s/it]root - INFO - After 27 epoch:\n",
      "root - INFO - CHECKING GRADIENT FOR LABEL 0\n",
      "root - INFO - k = 100. How many top Gradients are stable among all last 10 epochs?: 95\n",
      "root - INFO - k = 200. How many top Gradients are stable among all last 10 epochs?: 187\n",
      "root - INFO - k = 300. How many top Gradients are stable among all last 10 epochs?: 286\n",
      "root - INFO - k = 400. How many top Gradients are stable among all last 10 epochs?: 395\n",
      "root - INFO - After 27 epoch:\n",
      "root - INFO - CHECKING GRADIENT FOR LABEL 1\n",
      "root - INFO - k = 100. How many top Gradients are stable among all last 10 epochs?: 96\n",
      "root - INFO - k = 200. How many top Gradients are stable among all last 10 epochs?: 192\n",
      "root - INFO - k = 300. How many top Gradients are stable among all last 10 epochs?: 293\n",
      "root - INFO - k = 400. How many top Gradients are stable among all last 10 epochs?: 396\n",
      "root - INFO - After 27 epoch:\n",
      "root - INFO - CHECKING GRADIENT FOR LABEL 2\n",
      "root - INFO - k = 100. How many top Gradients are stable among all last 10 epochs?: 92\n",
      "root - INFO - k = 200. How many top Gradients are stable among all last 10 epochs?: 190\n",
      "root - INFO - k = 300. How many top Gradients are stable among all last 10 epochs?: 293\n",
      "root - INFO - k = 400. How many top Gradients are stable among all last 10 epochs?: 395\n",
      "root - INFO - After 27 epoch:\n",
      "root - INFO - CHECKING GRADIENT FOR LABEL 3\n",
      "root - INFO - k = 100. How many top Gradients are stable among all last 10 epochs?: 92\n",
      "root - INFO - k = 200. How many top Gradients are stable among all last 10 epochs?: 193\n",
      "root - INFO - k = 300. How many top Gradients are stable among all last 10 epochs?: 288\n",
      "root - INFO - k = 400. How many top Gradients are stable among all last 10 epochs?: 396\n",
      "root - INFO - After 27 epoch:\n",
      "root - INFO - CHECKING GRADIENT FOR LABEL 4\n",
      "root - INFO - k = 100. How many top Gradients are stable among all last 10 epochs?: 90\n",
      "root - INFO - k = 200. How many top Gradients are stable among all last 10 epochs?: 192\n",
      "root - INFO - k = 300. How many top Gradients are stable among all last 10 epochs?: 290\n",
      "root - INFO - k = 400. How many top Gradients are stable among all last 10 epochs?: 396\n",
      "root - INFO - After 27 epoch:\n",
      "root - INFO - CHECKING GRADIENT FOR LABEL 5\n",
      "root - INFO - k = 100. How many top Gradients are stable among all last 10 epochs?: 93\n",
      "root - INFO - k = 200. How many top Gradients are stable among all last 10 epochs?: 191\n",
      "root - INFO - k = 300. How many top Gradients are stable among all last 10 epochs?: 289\n",
      "root - INFO - k = 400. How many top Gradients are stable among all last 10 epochs?: 397\n",
      "root - INFO - After 27 epoch:\n",
      "root - INFO - CHECKING GRADIENT FOR LABEL 6\n",
      "root - INFO - k = 100. How many top Gradients are stable among all last 10 epochs?: 93\n",
      "root - INFO - k = 200. How many top Gradients are stable among all last 10 epochs?: 192\n",
      "root - INFO - k = 300. How many top Gradients are stable among all last 10 epochs?: 286\n",
      "root - INFO - k = 400. How many top Gradients are stable among all last 10 epochs?: 395\n"
     ]
    },
    {
     "name": "stdout",
     "output_type": "stream",
     "text": [
      "\n",
      "Test set: Average loss: 0.3413, Accuracy: 8998/10000 (90%)\n",
      "\n"
     ]
    },
    {
     "name": "stderr",
     "output_type": "stream",
     "text": [
      "root - INFO - After 27 epoch:\n",
      "root - INFO - CHECKING GRADIENT FOR LABEL 7\n",
      "root - INFO - k = 100. How many top Gradients are stable among all last 10 epochs?: 96\n",
      "root - INFO - k = 200. How many top Gradients are stable among all last 10 epochs?: 192\n",
      "root - INFO - k = 300. How many top Gradients are stable among all last 10 epochs?: 295\n",
      "root - INFO - k = 400. How many top Gradients are stable among all last 10 epochs?: 398\n",
      "root - INFO - After 27 epoch:\n",
      "root - INFO - CHECKING GRADIENT FOR LABEL 8\n",
      "root - INFO - k = 100. How many top Gradients are stable among all last 10 epochs?: 92\n",
      "root - INFO - k = 200. How many top Gradients are stable among all last 10 epochs?: 189\n",
      "root - INFO - k = 300. How many top Gradients are stable among all last 10 epochs?: 290\n",
      "root - INFO - k = 400. How many top Gradients are stable among all last 10 epochs?: 397\n",
      "root - INFO - After 27 epoch:\n",
      "root - INFO - CHECKING GRADIENT FOR LABEL 9\n",
      "root - INFO - k = 100. How many top Gradients are stable among all last 10 epochs?: 94\n",
      "root - INFO - k = 200. How many top Gradients are stable among all last 10 epochs?: 190\n",
      "root - INFO - k = 300. How many top Gradients are stable among all last 10 epochs?: 290\n",
      "root - INFO - k = 400. How many top Gradients are stable among all last 10 epochs?: 396\n",
      " 90%|█████████ | 27/30 [08:32<00:57, 19.03s/it]root - INFO - After 28 epoch:\n",
      "root - INFO - CHECKING GRADIENT FOR LABEL 0\n",
      "root - INFO - k = 100. How many top Gradients are stable among all last 10 epochs?: 95\n",
      "root - INFO - k = 200. How many top Gradients are stable among all last 10 epochs?: 189\n",
      "root - INFO - k = 300. How many top Gradients are stable among all last 10 epochs?: 286\n",
      "root - INFO - k = 400. How many top Gradients are stable among all last 10 epochs?: 396\n",
      "root - INFO - After 28 epoch:\n",
      "root - INFO - CHECKING GRADIENT FOR LABEL 1\n",
      "root - INFO - k = 100. How many top Gradients are stable among all last 10 epochs?: 96\n",
      "root - INFO - k = 200. How many top Gradients are stable among all last 10 epochs?: 193\n",
      "root - INFO - k = 300. How many top Gradients are stable among all last 10 epochs?: 293\n",
      "root - INFO - k = 400. How many top Gradients are stable among all last 10 epochs?: 397\n",
      "root - INFO - After 28 epoch:\n",
      "root - INFO - CHECKING GRADIENT FOR LABEL 2\n",
      "root - INFO - k = 100. How many top Gradients are stable among all last 10 epochs?: 92\n",
      "root - INFO - k = 200. How many top Gradients are stable among all last 10 epochs?: 191\n",
      "root - INFO - k = 300. How many top Gradients are stable among all last 10 epochs?: 293\n",
      "root - INFO - k = 400. How many top Gradients are stable among all last 10 epochs?: 396\n",
      "root - INFO - After 28 epoch:\n",
      "root - INFO - CHECKING GRADIENT FOR LABEL 3\n",
      "root - INFO - k = 100. How many top Gradients are stable among all last 10 epochs?: 94\n",
      "root - INFO - k = 200. How many top Gradients are stable among all last 10 epochs?: 194\n",
      "root - INFO - k = 300. How many top Gradients are stable among all last 10 epochs?: 289\n",
      "root - INFO - k = 400. How many top Gradients are stable among all last 10 epochs?: 395\n",
      "root - INFO - After 28 epoch:\n",
      "root - INFO - CHECKING GRADIENT FOR LABEL 4\n",
      "root - INFO - k = 100. How many top Gradients are stable among all last 10 epochs?: 91\n",
      "root - INFO - k = 200. How many top Gradients are stable among all last 10 epochs?: 193\n",
      "root - INFO - k = 300. How many top Gradients are stable among all last 10 epochs?: 291\n",
      "root - INFO - k = 400. How many top Gradients are stable among all last 10 epochs?: 397\n",
      "root - INFO - After 28 epoch:\n",
      "root - INFO - CHECKING GRADIENT FOR LABEL 5\n",
      "root - INFO - k = 100. How many top Gradients are stable among all last 10 epochs?: 95\n",
      "root - INFO - k = 200. How many top Gradients are stable among all last 10 epochs?: 191\n",
      "root - INFO - k = 300. How many top Gradients are stable among all last 10 epochs?: 290\n",
      "root - INFO - k = 400. How many top Gradients are stable among all last 10 epochs?: 397\n",
      "root - INFO - After 28 epoch:\n",
      "root - INFO - CHECKING GRADIENT FOR LABEL 6\n",
      "root - INFO - k = 100. How many top Gradients are stable among all last 10 epochs?: 94\n",
      "root - INFO - k = 200. How many top Gradients are stable among all last 10 epochs?: 192\n",
      "root - INFO - k = 300. How many top Gradients are stable among all last 10 epochs?: 287\n",
      "root - INFO - k = 400. How many top Gradients are stable among all last 10 epochs?: 396\n",
      "root - INFO - After 28 epoch:\n",
      "root - INFO - CHECKING GRADIENT FOR LABEL 7\n"
     ]
    },
    {
     "name": "stdout",
     "output_type": "stream",
     "text": [
      "\n",
      "Test set: Average loss: 0.3349, Accuracy: 9024/10000 (90%)\n",
      "\n"
     ]
    },
    {
     "name": "stderr",
     "output_type": "stream",
     "text": [
      "root - INFO - k = 100. How many top Gradients are stable among all last 10 epochs?: 95\n",
      "root - INFO - k = 200. How many top Gradients are stable among all last 10 epochs?: 192\n",
      "root - INFO - k = 300. How many top Gradients are stable among all last 10 epochs?: 295\n",
      "root - INFO - k = 400. How many top Gradients are stable among all last 10 epochs?: 398\n",
      "root - INFO - After 28 epoch:\n",
      "root - INFO - CHECKING GRADIENT FOR LABEL 8\n",
      "root - INFO - k = 100. How many top Gradients are stable among all last 10 epochs?: 94\n",
      "root - INFO - k = 200. How many top Gradients are stable among all last 10 epochs?: 192\n",
      "root - INFO - k = 300. How many top Gradients are stable among all last 10 epochs?: 290\n",
      "root - INFO - k = 400. How many top Gradients are stable among all last 10 epochs?: 397\n",
      "root - INFO - After 28 epoch:\n",
      "root - INFO - CHECKING GRADIENT FOR LABEL 9\n",
      "root - INFO - k = 100. How many top Gradients are stable among all last 10 epochs?: 94\n",
      "root - INFO - k = 200. How many top Gradients are stable among all last 10 epochs?: 194\n",
      "root - INFO - k = 300. How many top Gradients are stable among all last 10 epochs?: 291\n",
      "root - INFO - k = 400. How many top Gradients are stable among all last 10 epochs?: 397\n",
      " 93%|█████████▎| 28/30 [08:51<00:37, 19.00s/it]root - INFO - After 29 epoch:\n",
      "root - INFO - CHECKING GRADIENT FOR LABEL 0\n",
      "root - INFO - k = 100. How many top Gradients are stable among all last 10 epochs?: 94\n",
      "root - INFO - k = 200. How many top Gradients are stable among all last 10 epochs?: 192\n",
      "root - INFO - k = 300. How many top Gradients are stable among all last 10 epochs?: 288\n",
      "root - INFO - k = 400. How many top Gradients are stable among all last 10 epochs?: 396\n",
      "root - INFO - After 29 epoch:\n",
      "root - INFO - CHECKING GRADIENT FOR LABEL 1\n",
      "root - INFO - k = 100. How many top Gradients are stable among all last 10 epochs?: 97\n",
      "root - INFO - k = 200. How many top Gradients are stable among all last 10 epochs?: 193\n",
      "root - INFO - k = 300. How many top Gradients are stable among all last 10 epochs?: 293\n",
      "root - INFO - k = 400. How many top Gradients are stable among all last 10 epochs?: 397\n",
      "root - INFO - After 29 epoch:\n",
      "root - INFO - CHECKING GRADIENT FOR LABEL 2\n",
      "root - INFO - k = 100. How many top Gradients are stable among all last 10 epochs?: 92\n",
      "root - INFO - k = 200. How many top Gradients are stable among all last 10 epochs?: 195\n",
      "root - INFO - k = 300. How many top Gradients are stable among all last 10 epochs?: 293\n",
      "root - INFO - k = 400. How many top Gradients are stable among all last 10 epochs?: 396\n",
      "root - INFO - After 29 epoch:\n",
      "root - INFO - CHECKING GRADIENT FOR LABEL 3\n",
      "root - INFO - k = 100. How many top Gradients are stable among all last 10 epochs?: 93\n",
      "root - INFO - k = 200. How many top Gradients are stable among all last 10 epochs?: 195\n",
      "root - INFO - k = 300. How many top Gradients are stable among all last 10 epochs?: 289\n",
      "root - INFO - k = 400. How many top Gradients are stable among all last 10 epochs?: 395\n",
      "root - INFO - After 29 epoch:\n",
      "root - INFO - CHECKING GRADIENT FOR LABEL 4\n",
      "root - INFO - k = 100. How many top Gradients are stable among all last 10 epochs?: 93\n",
      "root - INFO - k = 200. How many top Gradients are stable among all last 10 epochs?: 194\n",
      "root - INFO - k = 300. How many top Gradients are stable among all last 10 epochs?: 292\n",
      "root - INFO - k = 400. How many top Gradients are stable among all last 10 epochs?: 397\n",
      "root - INFO - After 29 epoch:\n",
      "root - INFO - CHECKING GRADIENT FOR LABEL 5\n",
      "root - INFO - k = 100. How many top Gradients are stable among all last 10 epochs?: 96\n",
      "root - INFO - k = 200. How many top Gradients are stable among all last 10 epochs?: 193\n",
      "root - INFO - k = 300. How many top Gradients are stable among all last 10 epochs?: 293\n",
      "root - INFO - k = 400. How many top Gradients are stable among all last 10 epochs?: 397\n",
      "root - INFO - After 29 epoch:\n",
      "root - INFO - CHECKING GRADIENT FOR LABEL 6\n",
      "root - INFO - k = 100. How many top Gradients are stable among all last 10 epochs?: 96\n",
      "root - INFO - k = 200. How many top Gradients are stable among all last 10 epochs?: 192\n",
      "root - INFO - k = 300. How many top Gradients are stable among all last 10 epochs?: 288\n"
     ]
    },
    {
     "name": "stdout",
     "output_type": "stream",
     "text": [
      "\n",
      "Test set: Average loss: 0.3297, Accuracy: 9040/10000 (90%)\n",
      "\n"
     ]
    },
    {
     "name": "stderr",
     "output_type": "stream",
     "text": [
      "root - INFO - k = 400. How many top Gradients are stable among all last 10 epochs?: 395\n",
      "root - INFO - After 29 epoch:\n",
      "root - INFO - CHECKING GRADIENT FOR LABEL 7\n",
      "root - INFO - k = 100. How many top Gradients are stable among all last 10 epochs?: 95\n",
      "root - INFO - k = 200. How many top Gradients are stable among all last 10 epochs?: 192\n",
      "root - INFO - k = 300. How many top Gradients are stable among all last 10 epochs?: 295\n",
      "root - INFO - k = 400. How many top Gradients are stable among all last 10 epochs?: 398\n",
      "root - INFO - After 29 epoch:\n",
      "root - INFO - CHECKING GRADIENT FOR LABEL 8\n",
      "root - INFO - k = 100. How many top Gradients are stable among all last 10 epochs?: 95\n",
      "root - INFO - k = 200. How many top Gradients are stable among all last 10 epochs?: 192\n",
      "root - INFO - k = 300. How many top Gradients are stable among all last 10 epochs?: 291\n",
      "root - INFO - k = 400. How many top Gradients are stable among all last 10 epochs?: 396\n",
      "root - INFO - After 29 epoch:\n",
      "root - INFO - CHECKING GRADIENT FOR LABEL 9\n",
      "root - INFO - k = 100. How many top Gradients are stable among all last 10 epochs?: 95\n",
      "root - INFO - k = 200. How many top Gradients are stable among all last 10 epochs?: 194\n",
      "root - INFO - k = 300. How many top Gradients are stable among all last 10 epochs?: 292\n",
      "root - INFO - k = 400. How many top Gradients are stable among all last 10 epochs?: 397\n",
      " 97%|█████████▋| 29/30 [09:10<00:19, 19.01s/it]root - INFO - After 30 epoch:\n",
      "root - INFO - CHECKING GRADIENT FOR LABEL 0\n",
      "root - INFO - k = 100. How many top Gradients are stable among all last 10 epochs?: 96\n",
      "root - INFO - k = 200. How many top Gradients are stable among all last 10 epochs?: 192\n",
      "root - INFO - k = 300. How many top Gradients are stable among all last 10 epochs?: 289\n",
      "root - INFO - k = 400. How many top Gradients are stable among all last 10 epochs?: 397\n",
      "root - INFO - After 30 epoch:\n",
      "root - INFO - CHECKING GRADIENT FOR LABEL 1\n",
      "root - INFO - k = 100. How many top Gradients are stable among all last 10 epochs?: 97\n",
      "root - INFO - k = 200. How many top Gradients are stable among all last 10 epochs?: 194\n",
      "root - INFO - k = 300. How many top Gradients are stable among all last 10 epochs?: 292\n",
      "root - INFO - k = 400. How many top Gradients are stable among all last 10 epochs?: 397\n",
      "root - INFO - After 30 epoch:\n",
      "root - INFO - CHECKING GRADIENT FOR LABEL 2\n",
      "root - INFO - k = 100. How many top Gradients are stable among all last 10 epochs?: 92\n",
      "root - INFO - k = 200. How many top Gradients are stable among all last 10 epochs?: 194\n",
      "root - INFO - k = 300. How many top Gradients are stable among all last 10 epochs?: 293\n",
      "root - INFO - k = 400. How many top Gradients are stable among all last 10 epochs?: 396\n",
      "root - INFO - After 30 epoch:\n",
      "root - INFO - CHECKING GRADIENT FOR LABEL 3\n",
      "root - INFO - k = 100. How many top Gradients are stable among all last 10 epochs?: 94\n",
      "root - INFO - k = 200. How many top Gradients are stable among all last 10 epochs?: 195\n",
      "root - INFO - k = 300. How many top Gradients are stable among all last 10 epochs?: 292\n",
      "root - INFO - k = 400. How many top Gradients are stable among all last 10 epochs?: 396\n",
      "root - INFO - After 30 epoch:\n",
      "root - INFO - CHECKING GRADIENT FOR LABEL 4\n",
      "root - INFO - k = 100. How many top Gradients are stable among all last 10 epochs?: 93\n",
      "root - INFO - k = 200. How many top Gradients are stable among all last 10 epochs?: 195\n",
      "root - INFO - k = 300. How many top Gradients are stable among all last 10 epochs?: 293\n",
      "root - INFO - k = 400. How many top Gradients are stable among all last 10 epochs?: 397\n",
      "root - INFO - After 30 epoch:\n",
      "root - INFO - CHECKING GRADIENT FOR LABEL 5\n",
      "root - INFO - k = 100. How many top Gradients are stable among all last 10 epochs?: 96\n",
      "root - INFO - k = 200. How many top Gradients are stable among all last 10 epochs?: 191\n",
      "root - INFO - k = 300. How many top Gradients are stable among all last 10 epochs?: 294\n",
      "root - INFO - k = 400. How many top Gradients are stable among all last 10 epochs?: 397\n",
      "root - INFO - After 30 epoch:\n",
      "root - INFO - CHECKING GRADIENT FOR LABEL 6\n",
      "root - INFO - k = 100. How many top Gradients are stable among all last 10 epochs?: 97\n",
      "root - INFO - k = 200. How many top Gradients are stable among all last 10 epochs?: 192\n",
      "root - INFO - k = 300. How many top Gradients are stable among all last 10 epochs?: 290\n",
      "root - INFO - k = 400. How many top Gradients are stable among all last 10 epochs?: 396\n",
      "root - INFO - After 30 epoch:\n",
      "root - INFO - CHECKING GRADIENT FOR LABEL 7\n",
      "root - INFO - k = 100. How many top Gradients are stable among all last 10 epochs?: 96\n",
      "root - INFO - k = 200. How many top Gradients are stable among all last 10 epochs?: 193\n",
      "root - INFO - k = 300. How many top Gradients are stable among all last 10 epochs?: 296\n",
      "root - INFO - k = 400. How many top Gradients are stable among all last 10 epochs?: 398\n",
      "root - INFO - After 30 epoch:\n"
     ]
    },
    {
     "name": "stdout",
     "output_type": "stream",
     "text": [
      "\n",
      "Test set: Average loss: 0.3242, Accuracy: 9056/10000 (91%)\n",
      "\n"
     ]
    },
    {
     "name": "stderr",
     "output_type": "stream",
     "text": [
      "root - INFO - CHECKING GRADIENT FOR LABEL 8\n",
      "root - INFO - k = 100. How many top Gradients are stable among all last 10 epochs?: 96\n",
      "root - INFO - k = 200. How many top Gradients are stable among all last 10 epochs?: 193\n",
      "root - INFO - k = 300. How many top Gradients are stable among all last 10 epochs?: 293\n",
      "root - INFO - k = 400. How many top Gradients are stable among all last 10 epochs?: 397\n",
      "root - INFO - After 30 epoch:\n",
      "root - INFO - CHECKING GRADIENT FOR LABEL 9\n",
      "root - INFO - k = 100. How many top Gradients are stable among all last 10 epochs?: 94\n",
      "root - INFO - k = 200. How many top Gradients are stable among all last 10 epochs?: 194\n",
      "root - INFO - k = 300. How many top Gradients are stable among all last 10 epochs?: 293\n",
      "root - INFO - k = 400. How many top Gradients are stable among all last 10 epochs?: 397\n",
      "100%|██████████| 30/30 [09:29<00:00, 18.99s/it]\n"
     ]
    }
   ],
   "source": [
    "def check_gradient(grad, label, last_sorted_grads, plot = False):\n",
    "    logging.info(\"CHECKING GRADIENT FOR LABEL {}\".format(label))\n",
    "    sum_abs_grad = np.sum(abs(grad[label]), axis = 0)\n",
    "    \n",
    "    current_sorted_grad = (-sum_abs_grad).argsort()\n",
    "    \n",
    "#     if len(last_sorted_grads[label]) > 0:\n",
    "#         for k in [100, 200, 300, 400]:\n",
    "#             prev_top_k = set(last_sorted_grads[label][-1][:k])\n",
    "#             current_top_k = set(current_sorted_grad[:k])\n",
    "#             intersect = prev_top_k.intersection(current_top_k)\n",
    "#             logging.info('k = {}. How many top Gradients are stable since last epoch?: {}'.format(k, len(intersect)))\n",
    "        \n",
    "    for k in [0, 9, 99, 199]:    \n",
    "        logging.debug('{}th biggest gradient = {}'.format(k, np.sort(-sum_abs_grad)[k]))\n",
    "    if plot:\n",
    "        fig = plt.figure(figsize=(30, 1))\n",
    "        plt.bar(range(sum_abs_grad.shape[0]), sum_abs_grad)\n",
    "        plt.show()\n",
    "        print(sum_abs_grad.max(), sum_abs_grad.argmax(), sum_abs_grad.min())\n",
    "\n",
    "    return current_sorted_grad\n",
    "\n",
    "\n",
    "\n",
    "#init stuffs\n",
    "LOAD = False\n",
    "# LOADPATH = 'TinyCNNreg.conv1.conv2.fc1.fc2.17:09:00'\n",
    "LOADPATH = 'TinyCNNreg.conv2.fc1.fc2.15:09:24'\n",
    "# LOADPATH = 'TinyCNNreg.fc1.fc2.16:06:26'\n",
    "LAST_N_EPOCHS = 10\n",
    "\n",
    "dataset1 = datasets.MNIST('../data', train=True, download=True,\n",
    "                          transform=transform)\n",
    "dataset2 = datasets.MNIST('../data', train=False,\n",
    "                          transform=transform)\n",
    "train_loader = torch.utils.data.DataLoader(dataset1, **train_kwargs)\n",
    "test_loader = torch.utils.data.DataLoader(dataset2, **test_kwargs)\n",
    "\n",
    "model = FeedforwardNeuralNetModel(28*28, 128, 10).to(device)\n",
    "# model = TinyCNN().to(device)\n",
    "if LOAD:\n",
    "    model.load_state_dict(torch.load(LOADPATH))\n",
    "else:\n",
    "\n",
    "    epochs = 30\n",
    "    optimizer = optim.Adadelta(model.parameters(), lr=lr)\n",
    "\n",
    "    scheduler = StepLR(optimizer, step_size=1, gamma = 0.7)\n",
    "    last_sorted_grads = defaultdict(list)\n",
    "    \n",
    "    all_rows = []\n",
    "    \n",
    "    for epoch in tqdm(range(1, epochs + 1)):\n",
    "        model.register_gradient()\n",
    "        model.train()\n",
    "        target_log  = None # need to record the label to match with the gradient later\n",
    "        for data, target in train_loader:\n",
    "            target_log = np.concatenate((target_log, target), axis = 0) if target_log is not None else target\n",
    "            data, target = data.to(device), target.to(device)\n",
    "            optimizer.zero_grad()\n",
    "            output = model(data.float())\n",
    "            loss = F.nll_loss(output, target)\n",
    "            loss.backward()\n",
    "            optimizer.step()\n",
    "        CFI_utils.test(model, device, test_loader)\n",
    "#         scheduler.step()\n",
    "        grad = CFI_utils.get_grad_each_label(model.gradient_log, \n",
    "                                      target_log = target_log, \n",
    "                                      layers = ['fc1', 'fc2', 'fc3', 'fc4'], \n",
    "                                      labels = range(10))\n",
    "        torch.save(model.state_dict(), model.model_savename())\n",
    "        \n",
    "        row_data = []\n",
    "        for label in range(10):\n",
    "            r = []\n",
    "            logging.info(\"After {} epoch:\".format(epoch))\n",
    "            last_sorted_grads[label].append(check_gradient(grad, label, last_sorted_grads))\n",
    "            \n",
    "            \n",
    "            if epoch >= LAST_N_EPOCHS:\n",
    "                for k in [100, 200, 300, 400]:\n",
    "                    all_top_k = [set(sorted_grad[:k]) for sorted_grad in last_sorted_grads[label][-LAST_N_EPOCHS:]]\n",
    "                    intersect = set.intersection(*all_top_k)\n",
    "                    logging.info('k = {}. How many top Gradients are stable among all last {} epochs?: {}'.format(k, LAST_N_EPOCHS, len(intersect)))"
   ]
  },
  {
   "cell_type": "code",
   "execution_count": 13,
   "metadata": {},
   "outputs": [
    {
     "name": "stdout",
     "output_type": "stream",
     "text": [
      "{1, 8, 13, 26, 27, 33, 56, 79, 81, 88, 91, 99, 105, 150, 151, 158, 159, 162, 173, 176, 194, 212, 219, 238, 249, 256, 258, 259, 263, 264, 270, 285, 295, 299, 302, 306, 307, 315, 320, 328, 332, 340, 341, 344, 347, 349, 351, 352, 356, 358, 360, 364, 365, 366, 367, 373, 378, 380, 383, 384, 387, 390, 391, 393, 395, 396, 400, 404, 406, 407, 408, 410, 412, 413, 415, 416, 417, 419, 421, 422, 423, 426, 427, 429, 430, 433, 434, 435, 437, 438, 446, 447, 449, 450, 451, 456}\n",
      "96\n",
      "{7, 17, 26, 27, 32, 49, 51, 55, 59, 84, 86, 97, 102, 106, 119, 131, 173, 179, 189, 192, 201, 207, 216, 219, 228, 229, 235, 238, 249, 256, 261, 264, 265, 276, 277, 283, 284, 285, 289, 295, 302, 306, 309, 310, 314, 320, 321, 330, 339, 340, 341, 347, 352, 353, 356, 357, 358, 364, 366, 367, 371, 388, 389, 391, 394, 395, 396, 400, 402, 404, 405, 406, 407, 410, 416, 417, 419, 420, 421, 422, 423, 424, 426, 427, 436, 437, 438, 439, 441, 443, 450, 452, 455, 457}\n",
      "94\n",
      "{256, 391, 264, 395, 396, 400, 404, 406, 407, 26, 27, 410, 285, 416, 417, 419, 421, 422, 295, 423, 426, 427, 173, 302, 306, 437, 438, 320, 450, 340, 341, 219, 347, 352, 356, 358, 364, 238, 366, 367, 249}\n"
     ]
    }
   ],
   "source": [
    "\n",
    "\n",
    "\n",
    "label = 1\n",
    "for k in [100]:\n",
    "    all_top_k = [set(sorted_grad[:k]) for sorted_grad in last_sorted_grads[label][-LAST_N_EPOCHS:]]\n",
    "    intersect_0 = set.intersection(*all_top_k)\n",
    "    print(intersect_0)\n",
    "    print(len(intersect_0))\n",
    "\n",
    "label = 7\n",
    "for k in [100]:\n",
    "    all_top_k = [set(sorted_grad[:k]) for sorted_grad in last_sorted_grads[label][-LAST_N_EPOCHS:]]\n",
    "    intersect_1 = set.intersection(*all_top_k)\n",
    "    print(intersect_1)\n",
    "    print(len(intersect_1))\n",
    "    \n",
    "print(intersect_0.intersection(intersect_1))"
   ]
  },
  {
   "cell_type": "markdown",
   "metadata": {},
   "source": [
    "# Study stable gradients"
   ]
  },
  {
   "cell_type": "code",
   "execution_count": 96,
   "metadata": {},
   "outputs": [
    {
     "name": "stdout",
     "output_type": "stream",
     "text": [
      "K= 25\n",
      "There are 23 stable grad in top K\n",
      "[ 59 232 293 321 345 349 350 353 358 364 384 397 412 423 425 432 434 438\n",
      " 439 441 447 448 453]\n"
     ]
    },
    {
     "name": "stderr",
     "output_type": "stream",
     "text": [
      "root - INFO - (5923, 458)\n"
     ]
    },
    {
     "name": "stdout",
     "output_type": "stream",
     "text": [
      "LABEL: 0\n",
      "how many unique paths in the full pattern? (5923, 458)\n",
      "how many unique paths in the filtered pattern? (168, 23)\n",
      "how many unique paths in the randomly filtered pattern? (1023, 23)\n",
      "There are 25 stable grad in top K\n",
      "[232 266 275 291 331 353 354 358 371 384 385 391 396 397 416 418 421 422\n",
      " 434 436 445 446 449 450 456]\n"
     ]
    },
    {
     "name": "stderr",
     "output_type": "stream",
     "text": [
      "root - INFO - (6742, 458)\n"
     ]
    },
    {
     "name": "stdout",
     "output_type": "stream",
     "text": [
      "LABEL: 1\n",
      "how many unique paths in the full pattern? (6742, 458)\n",
      "how many unique paths in the filtered pattern? (173, 25)\n",
      "how many unique paths in the randomly filtered pattern? (723, 25)\n",
      "There are 24 stable grad in top K\n",
      "[261 318 331 339 352 377 393 410 411 414 420 422 426 428 429 435 439 443\n",
      " 444 446 450 451 454 456]\n"
     ]
    },
    {
     "name": "stderr",
     "output_type": "stream",
     "text": [
      "root - INFO - (5958, 458)\n"
     ]
    },
    {
     "name": "stdout",
     "output_type": "stream",
     "text": [
      "LABEL: 2\n",
      "how many unique paths in the full pattern? (5958, 458)\n",
      "how many unique paths in the filtered pattern? (311, 24)\n",
      "how many unique paths in the randomly filtered pattern? (565, 24)\n",
      "There are 22 stable grad in top K\n",
      "[257 323 331 356 362 393 394 398 400 406 417 419 429 435 437 441 443 447\n",
      " 450 451 453 456]\n"
     ]
    },
    {
     "name": "stderr",
     "output_type": "stream",
     "text": [
      "root - INFO - (6131, 458)\n"
     ]
    },
    {
     "name": "stdout",
     "output_type": "stream",
     "text": [
      "LABEL: 3\n",
      "how many unique paths in the full pattern? (6131, 458)\n",
      "how many unique paths in the filtered pattern? (303, 22)\n",
      "how many unique paths in the randomly filtered pattern? (1536, 22)\n",
      "There are 22 stable grad in top K\n",
      "[ 93 263 279 287 295 366 375 378 384 386 393 394 395 400 406 409 414 420\n",
      " 434 440 452 457]\n"
     ]
    },
    {
     "name": "stderr",
     "output_type": "stream",
     "text": [
      "root - INFO - (5842, 458)\n"
     ]
    },
    {
     "name": "stdout",
     "output_type": "stream",
     "text": [
      "LABEL: 4\n",
      "how many unique paths in the full pattern? (5842, 458)\n",
      "how many unique paths in the filtered pattern? (176, 22)\n",
      "how many unique paths in the randomly filtered pattern? (476, 22)\n",
      "There are 23 stable grad in top K\n",
      "[156 280 318 331 384 394 397 406 409 414 419 421 423 429 433 434 435 443\n",
      " 447 451 453 454 456]\n"
     ]
    },
    {
     "name": "stderr",
     "output_type": "stream",
     "text": [
      "root - INFO - (5421, 458)\n"
     ]
    },
    {
     "name": "stdout",
     "output_type": "stream",
     "text": [
      "LABEL: 5\n",
      "how many unique paths in the full pattern? (5421, 458)\n",
      "how many unique paths in the filtered pattern? (215, 23)\n",
      "how many unique paths in the randomly filtered pattern? (746, 23)\n",
      "There are 23 stable grad in top K\n",
      "[183 274 289 319 323 369 378 381 384 405 407 411 416 437 438 440 441 444\n",
      " 447 450 452 453 454]\n"
     ]
    },
    {
     "name": "stderr",
     "output_type": "stream",
     "text": [
      "root - INFO - (5918, 458)\n"
     ]
    },
    {
     "name": "stdout",
     "output_type": "stream",
     "text": [
      "LABEL: 6\n",
      "how many unique paths in the full pattern? (5918, 458)\n",
      "how many unique paths in the filtered pattern? (153, 23)\n",
      "how many unique paths in the randomly filtered pattern? (552, 23)\n",
      "There are 22 stable grad in top K\n",
      "[ 13  61  87 115 176 312 350 354 357 371 385 393 394 395 415 419 425 426\n",
      " 433 437 455 457]\n"
     ]
    },
    {
     "name": "stderr",
     "output_type": "stream",
     "text": [
      "root - INFO - (6265, 458)\n"
     ]
    },
    {
     "name": "stdout",
     "output_type": "stream",
     "text": [
      "LABEL: 7\n",
      "how many unique paths in the full pattern? (6265, 458)\n",
      "how many unique paths in the filtered pattern? (91, 22)\n",
      "how many unique paths in the randomly filtered pattern? (1411, 22)\n",
      "There are 23 stable grad in top K\n",
      "[156 241 278 349 377 393 397 411 414 419 422 425 428 432 437 438 443 444\n",
      " 450 451 453 456 457]\n"
     ]
    },
    {
     "name": "stderr",
     "output_type": "stream",
     "text": [
      "root - INFO - (5851, 458)\n"
     ]
    },
    {
     "name": "stdout",
     "output_type": "stream",
     "text": [
      "LABEL: 8\n",
      "how many unique paths in the full pattern? (5851, 458)\n",
      "how many unique paths in the filtered pattern? (309, 23)\n",
      "how many unique paths in the randomly filtered pattern? (791, 23)\n",
      "There are 23 stable grad in top K\n",
      "[315 350 366 371 387 393 395 400 406 411 420 421 422 423 425 433 434 436\n",
      " 437 440 452 455 457]\n"
     ]
    },
    {
     "name": "stderr",
     "output_type": "stream",
     "text": [
      "root - INFO - (5949, 458)\n"
     ]
    },
    {
     "name": "stdout",
     "output_type": "stream",
     "text": [
      "LABEL: 9\n",
      "how many unique paths in the full pattern? (5949, 458)\n",
      "how many unique paths in the filtered pattern? (109, 23)\n",
      "how many unique paths in the randomly filtered pattern? (395, 23)\n",
      "K= 50\n",
      "There are 46 stable grad in top K\n",
      "[ 39  44  59  72 102 106 225 232 268 270 280 293 306 321 345 349 350 353\n",
      " 356 358 361 363 364 377 384 397 405 411 412 421 423 425 428 429 432 433\n",
      " 434 438 439 441 443 444 447 448 450 453]\n"
     ]
    },
    {
     "name": "stderr",
     "output_type": "stream",
     "text": [
      "root - INFO - (5923, 458)\n"
     ]
    },
    {
     "name": "stdout",
     "output_type": "stream",
     "text": [
      "LABEL: 0\n",
      "how many unique paths in the full pattern? (5923, 458)\n",
      "how many unique paths in the filtered pattern? (874, 46)\n",
      "how many unique paths in the randomly filtered pattern? (3415, 46)\n",
      "There are 49 stable grad in top K\n",
      "[ 23 115 124 159 171 172 232 245 266 268 271 275 279 284 291 311 322 331\n",
      " 340 349 352 353 354 358 371 379 384 385 391 396 397 408 409 416 418 421\n",
      " 422 426 434 436 437 439 445 446 447 449 450 451 456]\n"
     ]
    },
    {
     "name": "stderr",
     "output_type": "stream",
     "text": [
      "root - INFO - (6742, 458)\n"
     ]
    },
    {
     "name": "stdout",
     "output_type": "stream",
     "text": [
      "LABEL: 1\n",
      "how many unique paths in the full pattern? (6742, 458)\n",
      "how many unique paths in the filtered pattern? (295, 49)\n",
      "how many unique paths in the randomly filtered pattern? (1939, 49)\n",
      "There are 49 stable grad in top K\n",
      "[ 26  77  91 133 186 219 232 257 261 274 318 328 331 339 350 352 356 361\n",
      " 371 377 384 393 397 398 409 410 411 414 417 419 420 422 423 426 428 429\n",
      " 434 435 438 439 443 444 446 449 450 451 452 454 456]\n"
     ]
    },
    {
     "name": "stderr",
     "output_type": "stream",
     "text": [
      "root - INFO - (5958, 458)\n"
     ]
    },
    {
     "name": "stdout",
     "output_type": "stream",
     "text": [
      "LABEL: 2\n",
      "how many unique paths in the full pattern? (5958, 458)\n",
      "how many unique paths in the filtered pattern? (1463, 49)\n",
      "how many unique paths in the randomly filtered pattern? (3459, 49)\n",
      "There are 46 stable grad in top K\n",
      "[ 64 128 143 189 210 212 227 257 268 269 281 302 321 323 331 342 356 362\n",
      " 365 382 387 393 394 398 400 401 406 417 419 421 425 428 429 432 433 435\n",
      " 437 438 439 441 443 447 450 451 453 456]\n"
     ]
    },
    {
     "name": "stderr",
     "output_type": "stream",
     "text": [
      "root - INFO - (6131, 458)\n"
     ]
    },
    {
     "name": "stdout",
     "output_type": "stream",
     "text": [
      "LABEL: 3\n",
      "how many unique paths in the full pattern? (6131, 458)\n",
      "how many unique paths in the filtered pattern? (1612, 46)\n",
      "how many unique paths in the randomly filtered pattern? (5212, 46)\n",
      "There are 46 stable grad in top K\n",
      "[ 30  54  93 105 176 183 233 253 261 263 264 278 279 287 295 301 323 333\n",
      " 352 366 369 370 375 378 384 386 390 391 393 394 395 397 398 400 406 409\n",
      " 414 419 420 434 436 440 441 443 452 457]\n"
     ]
    },
    {
     "name": "stderr",
     "output_type": "stream",
     "text": [
      "root - INFO - (5842, 458)\n"
     ]
    },
    {
     "name": "stdout",
     "output_type": "stream",
     "text": [
      "LABEL: 4\n",
      "how many unique paths in the full pattern? (5842, 458)\n",
      "how many unique paths in the filtered pattern? (538, 46)\n",
      "how many unique paths in the randomly filtered pattern? (3638, 46)\n",
      "There are 47 stable grad in top K\n",
      "[156 161 186 187 229 262 280 281 287 318 331 339 349 350 371 376 383 384\n",
      " 385 391 394 395 397 398 401 406 409 412 414 419 420 421 422 423 429 433\n",
      " 434 435 439 442 443 447 448 451 453 454 456]\n"
     ]
    },
    {
     "name": "stderr",
     "output_type": "stream",
     "text": [
      "root - INFO - (5421, 458)\n"
     ]
    },
    {
     "name": "stdout",
     "output_type": "stream",
     "text": [
      "LABEL: 5\n",
      "how many unique paths in the full pattern? (5421, 458)\n",
      "how many unique paths in the filtered pattern? (736, 47)\n",
      "how many unique paths in the randomly filtered pattern? (4330, 47)\n",
      "There are 46 stable grad in top K\n",
      "[ 45  65  95 133 162 183 212 255 265 274 289 301 310 319 323 357 364 369\n",
      " 378 381 384 394 398 404 405 406 407 409 411 416 417 426 437 438 440 441\n",
      " 442 443 444 447 448 450 452 453 454 456]\n"
     ]
    },
    {
     "name": "stderr",
     "output_type": "stream",
     "text": [
      "root - INFO - (5918, 458)\n"
     ]
    },
    {
     "name": "stdout",
     "output_type": "stream",
     "text": [
      "LABEL: 6\n",
      "how many unique paths in the full pattern? (5918, 458)\n",
      "how many unique paths in the filtered pattern? (1164, 46)\n",
      "how many unique paths in the randomly filtered pattern? (5019, 46)\n",
      "There are 49 stable grad in top K\n",
      "[ 13  26  61  80  87 106 115 117 150 176 183 190 256 266 271 281 294 304\n",
      " 312 319 323 339 349 350 354 357 359 371 372 379 383 384 385 393 394 395\n",
      " 397 411 415 419 425 426 433 434 436 437 442 455 457]\n"
     ]
    },
    {
     "name": "stderr",
     "output_type": "stream",
     "text": [
      "root - INFO - (6265, 458)\n"
     ]
    },
    {
     "name": "stdout",
     "output_type": "stream",
     "text": [
      "LABEL: 7\n",
      "how many unique paths in the full pattern? (6265, 458)\n",
      "how many unique paths in the filtered pattern? (1317, 49)\n",
      "how many unique paths in the randomly filtered pattern? (3982, 49)\n",
      "There are 48 stable grad in top K\n",
      "[109 156 241 264 277 278 310 317 328 331 346 347 349 360 377 379 384 385\n",
      " 390 393 397 398 402 411 414 419 420 422 423 425 428 429 432 434 435 436\n",
      " 437 438 439 443 444 446 449 450 451 453 456 457]\n"
     ]
    },
    {
     "name": "stderr",
     "output_type": "stream",
     "text": [
      "root - INFO - (5851, 458)\n"
     ]
    },
    {
     "name": "stdout",
     "output_type": "stream",
     "text": [
      "LABEL: 8\n",
      "how many unique paths in the full pattern? (5851, 458)\n",
      "how many unique paths in the filtered pattern? (788, 48)\n",
      "how many unique paths in the randomly filtered pattern? (3961, 48)\n",
      "There are 46 stable grad in top K\n",
      "[105 109 156 278 284 306 307 310 315 342 350 354 357 366 370 371 384 386\n",
      " 387 393 394 395 398 400 402 406 411 415 419 420 421 422 423 425 426 429\n",
      " 432 433 434 436 437 440 452 455 456 457]\n"
     ]
    },
    {
     "name": "stderr",
     "output_type": "stream",
     "text": [
      "root - INFO - (5949, 458)\n"
     ]
    },
    {
     "name": "stdout",
     "output_type": "stream",
     "text": [
      "LABEL: 9\n",
      "how many unique paths in the full pattern? (5949, 458)\n",
      "how many unique paths in the filtered pattern? (622, 46)\n",
      "how many unique paths in the randomly filtered pattern? (2775, 46)\n",
      "K= 100\n",
      "There are 96 stable grad in top K\n",
      "[ 13  23  26  39  44  59  72 102 106 110 115 138 159 171 172 173 176 186\n",
      " 190 200 209 216 225 227 229 232 239 241 257 259 262 267 268 270 273 275\n",
      " 280 293 296 306 307 310 313 318 321 322 331 345 346 349 350 353 356 358\n",
      " 361 363 364 365 369 372 377 378 379 384 391 393 395 397 402 403 405 409\n",
      " 411 412 416 417 421 423 425 428 429 432 433 434 435 438 439 441 443 444\n",
      " 447 448 450 453 454 456]\n"
     ]
    },
    {
     "name": "stderr",
     "output_type": "stream",
     "text": [
      "root - INFO - (5923, 458)\n"
     ]
    },
    {
     "name": "stdout",
     "output_type": "stream",
     "text": [
      "LABEL: 0\n",
      "how many unique paths in the full pattern? (5923, 458)\n",
      "how many unique paths in the filtered pattern? (3489, 96)\n",
      "how many unique paths in the randomly filtered pattern? (5721, 96)\n",
      "There are 97 stable grad in top K\n",
      "[  0   4  14  23  36  44  45  47  76  91  95  99 100 113 115 119 124 150\n",
      " 159 171 172 176 186 199 232 244 245 249 253 265 266 267 268 271 275 277\n",
      " 279 280 284 291 304 311 314 317 322 325 331 340 344 345 349 350 351 352\n",
      " 353 354 358 361 364 368 371 375 379 381 384 385 390 391 394 395 396 397\n",
      " 408 409 416 418 419 421 422 423 426 433 434 435 436 437 439 444 445 446\n",
      " 447 449 450 451 453 455 456]\n"
     ]
    },
    {
     "name": "stderr",
     "output_type": "stream",
     "text": [
      "root - INFO - (6742, 458)\n"
     ]
    },
    {
     "name": "stdout",
     "output_type": "stream",
     "text": [
      "LABEL: 1\n",
      "how many unique paths in the full pattern? (6742, 458)\n",
      "how many unique paths in the filtered pattern? (2086, 97)\n",
      "how many unique paths in the randomly filtered pattern? (5632, 97)\n",
      "There are 92 stable grad in top K\n",
      "[  9  23  26  45  77  79  91 102 103 121 133 137 139 151 161 172 186 187\n",
      " 188 204 214 219 232 248 251 257 261 262 265 274 281 284 285 289 294 310\n",
      " 318 321 327 328 331 332 339 350 352 355 356 358 359 361 371 372 375 377\n",
      " 381 384 387 393 394 395 396 397 398 409 410 411 414 417 418 419 420 422\n",
      " 423 426 428 429 432 434 435 437 438 439 443 444 446 449 450 451 452 454\n",
      " 455 456]\n"
     ]
    },
    {
     "name": "stderr",
     "output_type": "stream",
     "text": [
      "root - INFO - (5958, 458)\n"
     ]
    },
    {
     "name": "stdout",
     "output_type": "stream",
     "text": [
      "LABEL: 2\n",
      "how many unique paths in the full pattern? (5958, 458)\n",
      "how many unique paths in the filtered pattern? (4446, 92)\n",
      "how many unique paths in the randomly filtered pattern? (5951, 92)\n",
      "There are 94 stable grad in top K\n",
      "[ 16  19  38  44  64  94  97 103 115 128 143 156 161 162 169 186 189 202\n",
      " 204 210 212 227 254 256 257 268 269 280 281 284 298 302 303 318 321 323\n",
      " 326 328 331 332 337 339 340 342 346 347 349 355 356 360 362 365 371 379\n",
      " 382 383 385 387 393 394 396 398 400 401 406 410 412 417 419 420 421 423\n",
      " 425 426 428 429 432 433 434 435 436 437 438 439 440 441 443 447 450 451\n",
      " 453 455 456 457]\n"
     ]
    },
    {
     "name": "stderr",
     "output_type": "stream",
     "text": [
      "root - INFO - (6131, 458)\n"
     ]
    },
    {
     "name": "stdout",
     "output_type": "stream",
     "text": [
      "LABEL: 3\n",
      "how many unique paths in the full pattern? (6131, 458)\n",
      "how many unique paths in the filtered pattern? (3961, 94)\n",
      "how many unique paths in the randomly filtered pattern? (6126, 94)\n",
      "There are 93 stable grad in top K\n",
      "[ 30  52  54  65  87  91  93  94 105 109 115 146 153 161 172 176 179 183\n",
      " 184 193 214 233 240 250 253 261 263 264 265 266 275 278 279 281 282 283\n",
      " 284 287 295 301 304 306 310 314 318 322 323 325 333 351 352 359 366 369\n",
      " 370 375 378 379 384 386 390 391 393 394 395 397 398 400 405 406 409 411\n",
      " 414 417 419 420 423 425 428 429 432 434 435 436 437 440 441 443 447 452\n",
      " 454 456 457]\n"
     ]
    },
    {
     "name": "stderr",
     "output_type": "stream",
     "text": [
      "root - INFO - (5842, 458)\n"
     ]
    },
    {
     "name": "stdout",
     "output_type": "stream",
     "text": [
      "LABEL: 4\n",
      "how many unique paths in the full pattern? (5842, 458)\n",
      "how many unique paths in the filtered pattern? (2633, 93)\n",
      "how many unique paths in the randomly filtered pattern? (5614, 93)\n",
      "There are 96 stable grad in top K\n",
      "[  2  13  26  33  45  61  72 109 115 137 139 156 161 167 176 186 187 193\n",
      " 209 218 219 229 239 257 262 266 273 275 277 280 281 285 287 302 317 318\n",
      " 322 331 336 339 349 350 353 354 356 368 369 370 371 376 383 384 385 391\n",
      " 393 394 395 397 398 400 401 405 406 407 409 410 412 414 417 419 420 421\n",
      " 422 423 426 428 429 432 433 434 435 437 438 439 440 442 443 446 447 448\n",
      " 451 452 453 454 456 457]\n"
     ]
    },
    {
     "name": "stderr",
     "output_type": "stream",
     "text": [
      "root - INFO - (5421, 458)\n"
     ]
    },
    {
     "name": "stdout",
     "output_type": "stream",
     "text": [
      "LABEL: 5\n",
      "how many unique paths in the full pattern? (5421, 458)\n",
      "how many unique paths in the filtered pattern? (3811, 96)\n",
      "how many unique paths in the randomly filtered pattern? (5411, 96)\n",
      "There are 97 stable grad in top K\n",
      "[  1  19  25  33  40  45  64  65  80  95 105 115 133 148 156 162 163 167\n",
      " 183 186 190 203 210 212 217 236 250 254 255 257 259 265 268 274 281 283\n",
      " 289 293 301 303 304 310 318 319 323 331 338 342 350 351 356 357 361 364\n",
      " 368 369 378 381 384 386 394 395 398 404 405 406 407 409 410 411 412 416\n",
      " 417 419 420 421 423 425 426 429 434 435 437 438 439 440 441 442 443 444\n",
      " 447 448 450 452 453 454 456]\n"
     ]
    },
    {
     "name": "stderr",
     "output_type": "stream",
     "text": [
      "root - INFO - (5918, 458)\n"
     ]
    },
    {
     "name": "stdout",
     "output_type": "stream",
     "text": [
      "LABEL: 6\n",
      "how many unique paths in the full pattern? (5918, 458)\n",
      "how many unique paths in the filtered pattern? (4612, 97)\n",
      "how many unique paths in the randomly filtered pattern? (5895, 97)\n",
      "There are 96 stable grad in top K\n",
      "[  0  13  26  30  61  65  74  80  87  91 106 115 117 133 144 146 150 152\n",
      " 176 183 190 194 217 219 220 221 240 255 256 259 265 266 270 271 281 284\n",
      " 294 304 305 312 315 319 322 323 325 334 339 342 346 349 350 354 356 357\n",
      " 359 363 368 371 372 379 383 384 385 393 394 395 397 400 402 406 409 410\n",
      " 411 412 415 419 420 422 425 426 429 432 433 434 435 436 437 439 442 443\n",
      " 446 449 450 452 455 457]\n"
     ]
    },
    {
     "name": "stderr",
     "output_type": "stream",
     "text": [
      "root - INFO - (6265, 458)\n"
     ]
    },
    {
     "name": "stdout",
     "output_type": "stream",
     "text": [
      "LABEL: 7\n",
      "how many unique paths in the full pattern? (6265, 458)\n",
      "how many unique paths in the filtered pattern? (4432, 96)\n",
      "how many unique paths in the randomly filtered pattern? (6168, 96)\n",
      "There are 96 stable grad in top K\n",
      "[  2  13  19  74  80  93  96 100 109 115 144 156 160 194 218 219 228 229\n",
      " 241 257 262 263 264 268 269 270 277 278 280 284 291 302 306 307 310 317\n",
      " 323 328 330 331 342 345 346 347 349 350 352 356 358 360 364 371 372 375\n",
      " 376 377 379 382 384 385 386 390 391 393 394 397 398 402 411 414 417 419\n",
      " 420 422 423 425 428 429 432 434 435 436 437 438 439 441 443 444 446 449\n",
      " 450 451 453 454 456 457]\n"
     ]
    },
    {
     "name": "stderr",
     "output_type": "stream",
     "text": [
      "root - INFO - (5851, 458)\n"
     ]
    },
    {
     "name": "stdout",
     "output_type": "stream",
     "text": [
      "LABEL: 8\n",
      "how many unique paths in the full pattern? (5851, 458)\n",
      "how many unique paths in the filtered pattern? (3780, 96)\n",
      "how many unique paths in the randomly filtered pattern? (5653, 96)\n",
      "There are 94 stable grad in top K\n",
      "[ 30  40  51  61  65  84  87  93 105 109 115 117 129 150 156 168 176 183\n",
      " 188 227 240 256 259 266 273 274 275 278 280 284 295 306 307 310 312 315\n",
      " 321 323 333 342 346 350 354 355 357 363 366 370 371 378 379 384 385 386\n",
      " 387 390 393 394 395 397 398 400 402 403 405 406 409 411 412 414 415 417\n",
      " 419 420 421 422 423 425 426 429 432 433 434 435 436 437 440 442 447 452\n",
      " 453 455 456 457]\n"
     ]
    },
    {
     "name": "stderr",
     "output_type": "stream",
     "text": [
      "root - INFO - (5949, 458)\n"
     ]
    },
    {
     "name": "stdout",
     "output_type": "stream",
     "text": [
      "LABEL: 9\n",
      "how many unique paths in the full pattern? (5949, 458)\n",
      "how many unique paths in the filtered pattern? (2208, 94)\n",
      "how many unique paths in the randomly filtered pattern? (5764, 94)\n"
     ]
    }
   ],
   "source": [
    "layers = ['fc1', 'fc2', 'fc3', 'fc4']\n",
    "labels = range(10)\n",
    "K = 25\n",
    "\n",
    "all_patterns = {}\n",
    "\n",
    "all_rows = []\n",
    "\n",
    "for K in [25, 50, 100]:\n",
    "    print(\"K=\", K)\n",
    "    row = []\n",
    "    row.append(str(K))\n",
    "    for label in labels:\n",
    "        patterns = []\n",
    "        #construct the stable gradients \n",
    "        all_top_k = [set(sorted_grad[:K]) for sorted_grad in last_sorted_grads[label][-LAST_N_EPOCHS:]]\n",
    "        intersect = set.intersection(*all_top_k)\n",
    "        stable_grad = np.array(sorted(list(intersect)))\n",
    "        print(\"There are {} stable grad in top K\".format(len(stable_grad)))\n",
    "        print(stable_grad)\n",
    "\n",
    "\n",
    "        for data, target in train_loader:\n",
    "            filter_ids = target == label\n",
    "            data = data[filter_ids]\n",
    "            logging.debug(data.shape[0])\n",
    "            pattern = CFI_utils.get_pattern(model, device, data)\n",
    "            pattern = np.concatenate([pattern[l] for l in layers], axis = 1)\n",
    "            logging.debug(pattern.shape)\n",
    "            patterns.append(pattern)\n",
    "\n",
    "        patterns = np.concatenate(patterns, axis = 0)\n",
    "        all_patterns[label] = patterns\n",
    "        logging.info(patterns.shape)\n",
    "        print(\"LABEL:\", label)\n",
    "        print(\"how many unique paths in the full pattern?\", np.unique(patterns, axis = 0).shape)\n",
    "        print(\"how many unique paths in the filtered pattern?\", np.unique(patterns[:, stable_grad ], axis = 0).shape)\n",
    "        print(\"how many unique paths in the randomly filtered pattern?\", \n",
    "              np.unique(patterns[:, \n",
    "                                 np.random.choice(458, len(stable_grad), replace = False) ], axis = 0).shape)\n",
    "        row.append(\"|\".join([str(len(stable_grad)),\n",
    "                             str(np.unique(patterns, axis = 0).shape[0]),\n",
    "                             str(np.unique(patterns[:, stable_grad ], axis = 0).shape[0]),\n",
    "                             str(np.unique(patterns[:, np.random.choice(458, len(stable_grad), replace = False) ], axis = 0).shape[0])\n",
    "                            ]))\n",
    "    all_rows.append(\",\".join(row)+\"\\n\")\n",
    "\n",
    "with open(\"gradient_exp_log.csv\", \"w\") as f:\n",
    "    f.write(\"K,\"+\",\".join([str(l) for l in labels]) + \"\\n\")\n",
    "    f.writelines(all_rows)\n",
    "\n",
    "                   "
   ]
  },
  {
   "cell_type": "markdown",
   "metadata": {},
   "source": [
    "# Study stable ReLUs"
   ]
  },
  {
   "cell_type": "code",
   "execution_count": 99,
   "metadata": {},
   "outputs": [
    {
     "name": "stdout",
     "output_type": "stream",
     "text": [
      "(5923, 458)\n",
      "how many unique paths in the filtered pattern? (38, 98)\n",
      "[258 276 288 297 299 308 335 348 373 388 389 392 399 413 424 430 449   4\n",
      "  11  13  36  39  41  62  72  80 106 115 129 138 159 167 181 186 187 188\n",
      " 190 220 223 225 232 257 259 265 266 269 270 273 274 278 280 283 303 310\n",
      " 314 315 322 331 337 339 345 347 350 351 352 353 355 358 360 361 366 368\n",
      " 371 375 377 383 385 387 391 397 398 404 405 406 407 412 414 417 425 426\n",
      " 428 429 434 435 436 437 438 443]\n"
     ]
    },
    {
     "data": {
      "image/png": "[encoded data removed]",
      "text/plain": [
       "<Figure size 2160x72 with 1 Axes>"
      ]
     },
     "metadata": {
      "needs_background": "light"
     },
     "output_type": "display_data"
    },
    {
     "name": "stdout",
     "output_type": "stream",
     "text": [
      "5923\n",
      "(6742, 458)\n",
      "how many unique paths in the filtered pattern? (51, 142)\n",
      "[ 31 196 286 288 297 299 308 309 335 348 373 389 392 399 430 431 448   0\n",
      "   8  14  23  26  29  44  59  60  64  65  67  76  80  88  95  97 100 113\n",
      " 114 124 137 153 156 171 172 173 176 180 183 188 194 200 210 216 220 221\n",
      " 227 241 244 245 247 250 251 256 257 261 262 265 266 267 268 269 271 273\n",
      " 274 275 278 279 281 283 285 287 291 293 294 298 304 306 314 315 318 319\n",
      " 321 322 328 332 333 337 339 340 346 347 349 350 351 354 356 357 360 361\n",
      " 364 365 369 370 372 376 378 379 382 384 387 393 394 398 400 405 407 409\n",
      " 414 418 419 420 423 432 433 436 437 439 440 441 442 444 446 447]\n"
     ]
    },
    {
     "data": {
      "image/png": "[encoded data removed]",
      "text/plain": [
       "<Figure size 2160x72 with 1 Axes>"
      ]
     },
     "metadata": {
      "needs_background": "light"
     },
     "output_type": "display_data"
    },
    {
     "name": "stdout",
     "output_type": "stream",
     "text": [
      "6742\n",
      "(5958, 458)\n",
      "how many unique paths in the filtered pattern? (40, 58)\n",
      "[286 288 299 308 348 373 389 392 399 430 431  44  67  80 100 180 188 216\n",
      " 227 257 265 266 268 269 273 274 283 304 306 314 315 317 318 319 322 333\n",
      " 339 346 347 349 351 352 360 361 368 376 384 385 387 391 409 417 422 423\n",
      " 426 434 436 441]\n"
     ]
    },
    {
     "data": {
      "image/png": "[encoded data removed]",
      "text/plain": [
       "<Figure size 2160x72 with 1 Axes>"
      ]
     },
     "metadata": {
      "needs_background": "light"
     },
     "output_type": "display_data"
    },
    {
     "name": "stdout",
     "output_type": "stream",
     "text": [
      "5958\n",
      "(6131, 458)\n",
      "how many unique paths in the filtered pattern? (47, 89)\n",
      "[258 276 288 297 299 308 320 335 348 373 389 392 399 430  29  44  59  80\n",
      " 100 129 137 159 162 167 180 188 198 200 210 216 227 228 232 261 262 265\n",
      " 266 268 269 273 275 280 281 283 304 306 310 314 315 319 321 322 329 331\n",
      " 332 337 339 347 349 351 352 353 355 356 358 361 362 368 369 378 379 384\n",
      " 385 387 391 393 394 398 400 405 407 414 416 423 436 439 440 441 447]\n"
     ]
    },
    {
     "data": {
      "image/png": "[encoded data removed]",
      "text/plain": [
       "<Figure size 2160x72 with 1 Axes>"
      ]
     },
     "metadata": {
      "needs_background": "light"
     },
     "output_type": "display_data"
    },
    {
     "name": "stdout",
     "output_type": "stream",
     "text": [
      "6131\n",
      "(5842, 458)\n",
      "how many unique paths in the filtered pattern? (46, 108)\n",
      "[258 286 288 290 297 299 309 373 388 389 392 399 424 430 431  52  61  80\n",
      "  91  93 115 146 156 161 173 183 184 201 212 216 220 221 227 233 250 253\n",
      " 259 261 263 265 267 268 269 273 275 279 280 282 285 287 298 301 303 304\n",
      " 306 307 310 314 315 317 318 319 322 323 333 346 347 350 351 352 353 357\n",
      " 358 359 361 364 365 368 371 375 376 381 382 383 384 385 390 391 393 395\n",
      " 397 405 407 409 416 417 419 421 423 426 428 432 435 436 439 443 444 447]\n"
     ]
    },
    {
     "data": {
      "image/png": "[encoded data removed]",
      "text/plain": [
       "<Figure size 2160x72 with 1 Axes>"
      ]
     },
     "metadata": {
      "needs_background": "light"
     },
     "output_type": "display_data"
    },
    {
     "name": "stdout",
     "output_type": "stream",
     "text": [
      "5842\n",
      "(5421, 458)\n",
      "how many unique paths in the filtered pattern? (40, 67)\n",
      "[286 288 297 299 308 335 348 373 388 389 392 399 424 430  29  36  45  80\n",
      " 115 159 187 216 232 257 261 265 266 268 269 273 280 287 298 310 314 315\n",
      " 322 331 345 347 349 350 351 352 353 355 358 361 368 369 371 375 378 383\n",
      " 384 385 387 391 398 405 407 417 436 439 441 443 447]\n"
     ]
    },
    {
     "data": {
      "image/png": "[encoded data removed]",
      "text/plain": [
       "<Figure size 2160x72 with 1 Axes>"
      ]
     },
     "metadata": {
      "needs_background": "light"
     },
     "output_type": "display_data"
    },
    {
     "name": "stdout",
     "output_type": "stream",
     "text": [
      "5421\n",
      "(5918, 458)\n",
      "how many unique paths in the filtered pattern? (40, 118)\n",
      "[258 286 288 299 308 309 373 388 389 392 399 415 424 430 431   8  25  51\n",
      "  52  60  65  67  80 115 133 152 159 180 183 188 194 212 216 217 220 227\n",
      " 232 236 250 255 257 264 265 269 273 274 275 278 280 282 283 289 291 293\n",
      " 298 301 303 304 306 314 315 316 318 319 322 323 333 338 339 345 346 347\n",
      " 350 352 353 357 358 359 360 361 364 365 368 371 375 376 377 381 382 383\n",
      " 384 385 386 387 391 394 397 398 402 404 409 411 414 417 419 422 423 428\n",
      " 432 434 435 436 437 438 439 441 443 444]\n"
     ]
    },
    {
     "data": {
      "image/png": "[encoded data removed]",
      "text/plain": [
       "<Figure size 2160x72 with 1 Axes>"
      ]
     },
     "metadata": {
      "needs_background": "light"
     },
     "output_type": "display_data"
    },
    {
     "name": "stdout",
     "output_type": "stream",
     "text": [
      "5918\n",
      "(6265, 458)\n",
      "how many unique paths in the filtered pattern? (41, 76)\n",
      "[286 288 297 299 308 335 373 388 389 392 399 430  23  26  29  45  61 105\n",
      " 117 159 176 190 253 256 257 259 261 265 268 269 273 275 280 284 294 298\n",
      " 306 307 310 314 315 322 331 333 334 347 350 352 355 356 358 361 369 370\n",
      " 371 376 378 379 382 391 393 394 395 400 405 407 416 417 421 426 428 433\n",
      " 439 441 442 447]\n"
     ]
    },
    {
     "data": {
      "image/png": "[encoded data removed]",
      "text/plain": [
       "<Figure size 2160x72 with 1 Axes>"
      ]
     },
     "metadata": {
      "needs_background": "light"
     },
     "output_type": "display_data"
    },
    {
     "name": "stdout",
     "output_type": "stream",
     "text": [
      "6265\n",
      "(5851, 458)\n",
      "how many unique paths in the filtered pattern? (50, 121)\n",
      "[258 286 288 297 299 308 309 335 348 373 388 389 392 399 424 430 431  28\n",
      "  29  44  45  47  59  67  80 109 115 129 146 151 156 158 159 161 173 186\n",
      " 188 216 220 221 227 232 241 250 257 261 262 264 265 266 267 268 269 273\n",
      " 275 277 280 282 283 287 293 298 304 310 314 315 317 318 319 321 322 327\n",
      " 331 333 337 339 346 347 349 350 351 352 353 355 356 357 358 359 360 361\n",
      " 364 365 368 369 371 375 376 378 382 384 385 387 391 394 397 398 405 407\n",
      " 409 414 416 420 422 423 432 434 436 437 439 441 447]\n"
     ]
    },
    {
     "data": {
      "image/png": "[encoded data removed]",
      "text/plain": [
       "<Figure size 2160x72 with 1 Axes>"
      ]
     },
     "metadata": {
      "needs_background": "light"
     },
     "output_type": "display_data"
    },
    {
     "name": "stdout",
     "output_type": "stream",
     "text": [
      "5851\n",
      "(5949, 458)\n",
      "how many unique paths in the filtered pattern? (58, 102)\n",
      "[258 286 288 297 299 308 309 335 348 373 388 389 392 399 424 430 431  29\n",
      "  52  61  80  91 100 109 115 156 159 161 162 176 186 216 220 226 241 253\n",
      " 254 259 265 268 269 273 275 280 281 284 295 298 304 307 310 314 315 317\n",
      " 318 322 331 333 346 347 349 350 351 352 353 355 356 357 358 361 365 366\n",
      " 368 370 371 375 376 378 379 381 382 390 391 393 394 395 397 400 405 407\n",
      " 409 416 417 421 423 426 435 439 440 441 443 447]\n"
     ]
    },
    {
     "data": {
      "image/png": "[encoded data removed]",
      "text/plain": [
       "<Figure size 2160x72 with 1 Axes>"
      ]
     },
     "metadata": {
      "needs_background": "light"
     },
     "output_type": "display_data"
    },
    {
     "name": "stdout",
     "output_type": "stream",
     "text": [
      "5949\n",
      "{288, 322, 389, 392, 265, 361, 299, 269, 430, 399, 273, 315, 373, 314, 347} 15\n"
     ]
    }
   ],
   "source": [
    "all_stable_relus = []\n",
    "epsilon = 0.001\n",
    "for label in all_patterns:\n",
    "    patterns = all_patterns[label]\n",
    "    print(patterns.shape)\n",
    "    \n",
    "    \n",
    "    relu_sum = np.sum(patterns, axis = 0).squeeze()\n",
    "\n",
    "    stable_idx = np.concatenate([np.where(relu_sum<=epsilon*patterns.shape[0]), \n",
    "                                 np.where(relu_sum>=(1-epsilon)*patterns.shape[0])],\n",
    "                                axis = 1\n",
    "                                ).squeeze()\n",
    "    print(\"how many unique paths in the filtered pattern?\", np.unique(patterns[:, stable_idx ], axis = 0).shape)\n",
    "\n",
    "    all_stable_relus.append(set(stable_idx))           \n",
    "    print(stable_idx)\n",
    "    fig = plt.figure(figsize=(30, 1))\n",
    "    plt.bar(range(458), relu_sum)\n",
    "    plt.show()\n",
    "    print(relu_sum.max())\n",
    "    \n",
    "super_stable = set.intersection(*all_stable_relus)\n",
    "print(super_stable, len(super_stable))"
   ]
  },
  {
   "cell_type": "code",
   "execution_count": 102,
   "metadata": {},
   "outputs": [
    {
     "name": "stderr",
     "output_type": "stream",
     "text": [
      "root - INFO - (1135, 458)\n"
     ]
    },
    {
     "name": "stdout",
     "output_type": "stream",
     "text": [
      "LABEL: 1\n",
      "how many unique paths in the full pattern? (1135, 458)\n",
      "how many unique paths in the filtered pattern? (11, 142)\n",
      "how many unique paths in the randomly filtered pattern? (1122, 142)\n",
      "(51, 142)\n",
      "(11, 142)\n",
      "51 11\n",
      "5\n"
     ]
    }
   ],
   "source": [
    "label = 1\n",
    "\n",
    "stable_idx = np.array(sorted(all_stable_relus[label]))\n",
    "\n",
    "patterns = []\n",
    "for data, target in test_loader:\n",
    "    filter_ids = target == label\n",
    "    data = data[filter_ids]\n",
    "    logging.debug(data.shape[0])\n",
    "    pattern = CFI_utils.get_pattern(model, device, data)\n",
    "    pattern = np.concatenate([pattern[l] for l in layers], axis = 1)\n",
    "    logging.debug(pattern.shape)\n",
    "    patterns.append(pattern)\n",
    "\n",
    "test_patterns = np.concatenate(patterns, axis = 0)\n",
    "logging.info(test_patterns.shape)\n",
    "print(\"LABEL:\", label)\n",
    "print(\"how many unique paths in the full pattern?\", np.unique(test_patterns, axis = 0).shape)\n",
    "print(\"how many unique paths in the filtered pattern?\", np.unique(test_patterns[:, stable_idx ], axis = 0).shape)\n",
    "print(\"how many unique paths in the randomly filtered pattern?\", \n",
    "      np.unique(test_patterns[:, \n",
    "                         np.random.choice(458, len(stable_idx), replace = False) ], axis = 0).shape)\n",
    "\n",
    "\n",
    "\n",
    "\n",
    "train_patterns = all_patterns[label]\n",
    "raw_train_patterns = np.unique(train_patterns[:, stable_idx], axis = 0)\n",
    "print(raw_train_patterns.shape)\n",
    "\n",
    "raw_test_patterns = np.unique(test_patterns[:, stable_idx], axis = 0)\n",
    "print(raw_test_patterns.shape)\n",
    "\n",
    "set_train_patterns = set([tuple(p) for p in raw_train_patterns])\n",
    "set_test_patterns = set([tuple(p) for p in raw_test_patterns])\n",
    "\n",
    "print(len(set_train_patterns), len(set_test_patterns))\n",
    "print(len(set_train_patterns.intersection(set_test_patterns)))"
   ]
  },
  {
   "cell_type": "markdown",
   "metadata": {},
   "source": [
    "# RQ6:study the hot ReLU and the gradient\n",
    "Do at least the following statistics on the activation patterns.\n",
    "- What are the top k RELU with the highest gradient value (indicating that they are highly influential ReLU). If we only look at those ReLU, how many activation patterns do we have? This exp should be parametrized by k\n",
    "- For activation patterns from images from the same label (e.g 7), what ReLU are stable, and what not? To check for stable, we set a threshold T%. If the value of the ith ReLU is the same for at least T% of the time, we say that ith ReLU is stable.\n",
    "- Given that ith ReLU is stable for the label 7, is it also stable for a different label (e.g 9)? Note that for label 7, it may stable and always be 1, but for label 9, it may also be stable but with value 0.\n"
   ]
  },
  {
   "cell_type": "markdown",
   "metadata": {},
   "source": [
    "#Checking ReLUs with highest gradient\n",
    "\n"
   ]
  }
 ],
 "metadata": {
  "kernelspec": {
   "display_name": "Python 3.8.5 64-bit ('py38': conda)",
   "language": "python",
   "name": "python385jvsc74a57bd08e59bf3d6a50a7077d8acb216dbc16c3106fe79f55067c17dc666a40d74b6917"
  },
  "language_info": {
   "codemirror_mode": {
    "name": "ipython",
    "version": 3
   },
   "file_extension": ".py",
   "mimetype": "text/x-python",
   "name": "python",
   "nbconvert_exporter": "python",
   "pygments_lexer": "ipython3",
   "version": "3.8.5"
  }
 },
 "nbformat": 4,
 "nbformat_minor": 4
}
