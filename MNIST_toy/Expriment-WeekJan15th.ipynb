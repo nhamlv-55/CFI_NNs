{
 "cells": [
  {
   "cell_type": "code",
   "execution_count": 23,
   "metadata": {},
   "outputs": [],
   "source": [
    "from models import FeedforwardNeuralNetModel, TinyCNN, PatternClassifier\n",
    "import regularizer_losts as rl\n",
    "from torchvision import datasets, transforms\n",
    "from torch import optim\n",
    "import torch\n",
    "import torch.nn.functional as F\n",
    "from torch.optim.lr_scheduler import StepLR\n",
    "from tqdm import tqdm\n",
    "import copy\n",
    "import utils as CFI_utils\n",
    "from matplotlib import pyplot as plt\n",
    "import numpy as np\n",
    "%matplotlib inline\n",
    "\n",
    "import seaborn as sns\n",
    "colors = sns.color_palette(\"tab10\")\n",
    "\n",
    "#Logging stuffs\n",
    "import logging\n",
    "import sys\n",
    "# Create logger\n",
    "logger = logging.getLogger()\n",
    "logger.setLevel(logging.INFO)\n",
    "\n",
    "# Create STDERR handler\n",
    "handler = logging.StreamHandler(sys.stderr)\n",
    "# ch.setLevel(logging.DEBUG)\n",
    "\n",
    "# Create formatter and add it to the handler\n",
    "formatter = logging.Formatter('%(name)s - %(levelname)s - %(message)s')\n",
    "handler.setFormatter(formatter)\n",
    "\n",
    "# Set STDERR handler as the only handler \n",
    "logger.handlers = [handler]\n",
    "\n",
    "\n",
    "#configs\n",
    "epochs = 3\n",
    "batch_size = 60000\n",
    "test_batch_size = 10000\n",
    "use_cuda = True\n",
    "lr = 1\n",
    "log_interval = 100\n",
    "\n",
    "\n",
    "#torch specific configs\n",
    "torch.manual_seed(1)\n",
    "\n",
    "device = torch.device(\"cuda\")\n",
    "\n",
    "train_kwargs = {'batch_size': batch_size}\n",
    "test_kwargs = {'batch_size': test_batch_size}\n",
    "\n",
    "if use_cuda:\n",
    "    cuda_kwargs = {'num_workers': 1,\n",
    "                   'pin_memory': True,\n",
    "                   'shuffle': True}\n",
    "    train_kwargs.update(cuda_kwargs)\n",
    "    test_kwargs.update(cuda_kwargs)\n",
    "\n",
    "transform = transforms.Compose([\n",
    "    transforms.ToTensor(),\n",
    "    transforms.Normalize((0.1307,), (0.3081,))\n",
    "])"
   ]
  },
  {
   "cell_type": "markdown",
   "metadata": {},
   "source": [
    "## Agenda\n",
    "### Big question: CFI for NN\n",
    "\n",
    "\n",
    "Are we doing complete verification or fuzzing/testing?\n",
    "\n",
    "What is a `CFI`?\n",
    "\n",
    "# What is a good abstraction for a NN's structure? Can it be enforced through regularization?\n",
    "- Distillation? (https://arxiv.org/pdf/1503.02531.pdf)\n",
    "- Decision Tree? (https://arxiv.org/pdf/1711.09784.pdf)\n",
    "- Model Extraction? (https://arxiv.org/pdf/2003.04884.pdf)\n",
    "\n",
    "\n",
    "## Decision Tree\n",
    "- Is Decision Tree good enough for MNIST? Yes! (https://www.kaggle.com/carlolepelaars/97-on-mnist-with-a-single-decision-tree-t-sne)\n",
    "- How many paths are there in the decision trees? Need to do experiment\n",
    "- Is it possible to extract a decision tree from a Neural Network? Seemingly yes (very old paper though https://www.sciencedirect.com/science/article/abs/pii/S0031320398001812)\n",
    "- From a Tree to a DAG. Maybe just a hunch, but a DAG is more likely to be better for enforcing a CFI. Luckily, it is a realy thing http://www.nowozin.net/sebastian/papers/shotton2013jungles.pdf . Initial results show 30x less nodes for the same accuracy on MNIST\n",
    "- Action plan:\n",
    "    - Learn a DAG for MNIST\n",
    "    - Check how many paths are there\n",
    "    - If yes, can we apply a CFI mechanism \n",
    "    - If a CFI mechanism is applicable, can we convert an arbitrary neural network to a DAG?\n",
    "\n"
   ]
  },
  {
   "cell_type": "code",
   "execution_count": 26,
   "metadata": {},
   "outputs": [],
   "source": [
    "#init stuffs\n",
    "LOAD = True\n",
    "# LOADPATH = 'TinyCNNreg.conv1.conv2.fc1.fc2.17:09:00'\n",
    "LOADPATH = 'TinyCNNreg.conv2.fc1.fc2.15:09:24'\n",
    "# LOADPATH = 'TinyCNNreg.fc1.fc2.16:06:26'\n",
    "\n",
    "\n",
    "dataset1 = datasets.MNIST('../data', train=True, download=True,\n",
    "                          transform=transform)\n",
    "dataset2 = datasets.MNIST('../data', train=False,\n",
    "                          transform=transform)\n",
    "train_loader = torch.utils.data.DataLoader(dataset1, **train_kwargs)\n",
    "test_loader = torch.utils.data.DataLoader(dataset2, **test_kwargs)\n",
    "\n",
    "# model = FeedforwardNeuralNetModel(28*28, 128, 10).to(device)\n",
    "model = TinyCNN().to(device)\n",
    "if LOAD:\n",
    "    model.load_state_dict(torch.load(LOADPATH))"
   ]
  },
  {
   "cell_type": "code",
   "execution_count": 27,
   "metadata": {},
   "outputs": [
    {
     "name": "stdout",
     "output_type": "stream",
     "text": [
      "(500, 26) 500\n",
      "(908, 26) 908\n",
      "454\n"
     ]
    }
   ],
   "source": [
    "#check\n",
    "#how many unique paths are there in the test set?\n",
    "layers = ['fc1','fc2']\n",
    "tensor_log = CFI_utils.test(model, device, test_loader, trace= True, detach=True)\n",
    "tensor_log_flatten = np.concatenate([tensor_log[l] for l in layers], axis = 1)\n",
    "test_unique_aps_set = set()\n",
    "for ap in tensor_log_flatten:\n",
    "    test_unique_aps_set.add(tuple(ap))\n",
    "\n",
    "test_unique_aps = np.unique(tensor_log_flatten, axis=0)\n",
    "print(test_unique_aps.shape, len(test_unique_aps_set))\n",
    "\n",
    "#how many unique paths are there in the train set?\n",
    "train_tensor_log = CFI_utils.test(model, device, train_loader, trace= True, detach=True)\n",
    "train_tensor_log_flatten = np.concatenate([train_tensor_log[l] for l in layers], axis = 1)\n",
    "train_unique_aps_set = set()\n",
    "for ap in train_tensor_log_flatten:\n",
    "    train_unique_aps_set.add(tuple(ap))\n",
    "\n",
    "\n",
    "train_unique_aps = np.unique(train_tensor_log_flatten, axis=0)\n",
    "print(train_unique_aps.shape, len(train_unique_aps_set))\n",
    "\n",
    "#how many parts in the intersection?\n",
    "intersect = set.intersection(test_unique_aps_set, train_unique_aps_set)\n",
    "print(len(intersect))\n"
   ]
  },
  {
   "cell_type": "markdown",
   "metadata": {},
   "source": [
    "# RQ5: With a regularized network, can a adv exp has similar AP?\n",
    "## Result: As of right now, When the number of AP is small (due to look at only the last few layers), adv exp has very close AP (cannot be distinguished from the real AP)\n",
    "\n",
    "## Kinda disappointed"
   ]
  },
  {
   "cell_type": "code",
   "execution_count": 8,
   "metadata": {},
   "outputs": [
    {
     "name": "stdout",
     "output_type": "stream",
     "text": [
      "128\n",
      "torch.Size([1, 28, 28])\n",
      "torch.Size([128, 1, 28, 28])\n",
      "Epsilon: 0.5\tTest Accuracy = 0 / 1 = 0.0\n",
      "7\n",
      "vs closest: 523\n",
      "vs adv: 487\n"
     ]
    },
    {
     "data": {
      "image/png": "[encoded data removed]",
      "text/plain": [
       "<Figure size 432x288 with 1 Axes>"
      ]
     },
     "metadata": {
      "needs_background": "light"
     },
     "output_type": "display_data"
    }
   ],
   "source": [
    "#sample an image, its closest neighbor, and an adv exp\n",
    "while True:\n",
    "    victim, closest, d = CFI_utils.sample_pair(train_loader)\n",
    "    acc, ex = CFI_utils.gen_adv(model, device, [(victim.unsqueeze(0), model(victim.unsqueeze(0).to(device)).argmax().unsqueeze(0))], 0.5)\n",
    "    if len(ex)>0: break\n",
    "#plot for checking\n",
    "plt.figure(); plt.imshow(ex[0][2])\n",
    "print(ex[0][1])\n",
    "adv_exp = ex[0][2]\n",
    "\n",
    "#diff the activation patterns\n",
    "layers = ['conv2','fc1','fc2']\n",
    "\n",
    "victim_pattern = CFI_utils.get_pattern(model, device, victim.unsqueeze(0))\n",
    "closest_pattern = CFI_utils.get_pattern(model, device, closest.unsqueeze(0))\n",
    "adv_pattern = CFI_utils.get_pattern(model, device, torch.Tensor(adv_exp).unsqueeze(0).unsqueeze(0))\n",
    "\n",
    "victim_pattern_flatten = np.concatenate([victim_pattern[l] for l in layers], axis=1)\n",
    "closest_pattern_flatten = np.concatenate([closest_pattern[l] for l in layers], axis = 1)\n",
    "adv_pattern_flatten = np.concatenate([adv_pattern[l] for l in layers], axis=1)\n",
    "\n",
    "print(\"vs closest:\", CFI_utils.bit_diff(victim_pattern_flatten, closest_pattern_flatten))\n",
    "print(\"vs adv:\", CFI_utils.bit_diff(victim_pattern_flatten, adv_pattern_flatten))\n"
   ]
  }
 ],
 "metadata": {
  "kernelspec": {
   "display_name": "Python 3.8.5 64-bit ('py38': conda)",
   "language": "python",
   "name": "python385jvsc74a57bd08e59bf3d6a50a7077d8acb216dbc16c3106fe79f55067c17dc666a40d74b6917"
  },
  "language_info": {
   "codemirror_mode": {
    "name": "ipython",
    "version": 3
   },
   "file_extension": ".py",
   "mimetype": "text/x-python",
   "name": "python",
   "nbconvert_exporter": "python",
   "pygments_lexer": "ipython3",
   "version": "3.8.5"
  }
 },
 "nbformat": 4,
 "nbformat_minor": 4
}
